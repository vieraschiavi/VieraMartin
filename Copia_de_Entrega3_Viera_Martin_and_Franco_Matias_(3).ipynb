{
  "cells": [
    {
      "cell_type": "markdown",
      "id": "fa0697f1-875f-46d6-9b34-e49adb8a231a",
      "metadata": {
        "id": "fa0697f1-875f-46d6-9b34-e49adb8a231a"
      },
      "source": [
        "Introduction: Credit cards are a good source of income for banks due to the different types of fees they charge, such as annual fees, balance transfer fees, cash advance fees, late payment fees, and foreign transaction fees, among others.\n",
        "\n",
        "Some fees are charged to all users, regardless of usage, while others are charged under certain circumstances.\n",
        "\n",
        "Customers abandoning credit card services would be a loss to the bank, so the bank wants to analyze customer data and identify those who abandon credit card services and the reasons for doing so, so that the bank can improve in those areas.\n",
        "\n",
        "A churn model is a mathematical representation of how churn affects your business. Churn calculations are built from existing data (the number of customers who abandoned your service during a given time period). A predictive churn model extrapolates this data to show churn rates of potential customers in the future.\n",
        "\n",
        "Churn (also known as customer defection) is a problem for subscription companies. When your revenue is based on recurring monthly or annual contracts, every customer that leaves puts a dent in your cash flow. High retention rates are vital to your survival. What if we told you that there is a way to predict, at least to some extent, how and when your customers will cancel?\n",
        "\n",
        "Creating a churn prediction model will help you make proactive changes to your retention efforts that reduce churn rates. Understanding the impact of churn on your current revenue goals and making predictions about how to manage those issues in the future also helps you stem the flow of lost customers. If you don't take action against churn now, any business growth you experience will not be sustainable.\n",
        "\n",
        "Comprehensive customer profiles help you see what types of customers are canceling their accounts. Now is the time to find out how and why they churn. Ask yourself the following questions to learn more about the pain points in your product and customer experience that cause customers to decide to churn.\n",
        "\n",
        "What is churn? Customer churn (or customer attrition) is the tendency of customers to abandon a brand and stop being paying customers of a given company. The percentage of customers who stop using a company's products or services over a given period of time is called the customer churn rate (attrition). One way to calculate the attrition rate is to divide the number of customers lost during a given time interval by the number of customers acquired, and then multiply that figure by 100%. For example, if you have acquired 150 customers and lost three in the past month, your monthly churn rate is 2%.\n",
        "\n",
        "The churn rate is a health indicator for companies whose customers are subscribed and pay for services on a recurring basis, so a customer remains open to more interesting or advantageous offers. In addition, each time their current engagement ends, customers have the opportunity to reconsider and choose not to continue with the company. Of course, some natural churn is inevitable, and the figure differs from industry to industry. But having a higher churn figure than that is a definite sign that a company is doing something wrong.\"\n",
        "\n",
        "There are many things brands can do wrong, from complicated onboarding where customers are not given easy-to-understand information about product usage and capabilities, to poor communication, e.g., lack of feedback or delayed responses to queries. Another situation: Long-time customers may feel unappreciated because they do not receive as many bonuses as new customers.\n",
        "\n",
        "Objective Explore and visualize the data set. Build a classification model to predict whether or not the customer will drop out. Optimize the model using appropriate techniques Generate a set of ideas and recommendations to help the bank.\n",
        "\n",
        "Problem Does income have any effect on dropout? Does gender have any relationship with dropout? What are the signs of attrition?\n",
        "\n",
        "Members Martin Viera Matias Franco\n",
        "\n",
        "Problem Indication of the source of the dataset and the selection criteria (Data Acquisition)\n",
        "\n",
        "Dataset https://www.kaggle.com/code/xavier14/predicting-churn-with-tree-based-models\n",
        "\n",
        "\n"
      ]
    },
    {
      "cell_type": "markdown",
      "id": "ed4aa47e-eefa-4fd2-932b-af42de4a026a",
      "metadata": {
        "id": "ed4aa47e-eefa-4fd2-932b-af42de4a026a"
      },
      "source": [
        "\n",
        "Data Dictionary\n",
        "CLIENTNUM: Client number. Unique identifier for the customer holding the account\n",
        " \n",
        "Attrition_Flag: Internal event (customer activity) variable - if the account is closed then \"Attrited Customer\" else \"Existing Customer\"\n",
        " \n",
        "Customer_Age: Age in Years\n",
        " \n",
        "Gender: Gender of the account holder\n",
        " \n",
        "Dependent_count: Number of dependents\n",
        " \n",
        "Education_Level: Educational Qualification of the account holder - Graduate, High School, Unknown, Uneducated, College(refers to a college student), Post-Graduate, Doctorate.\n",
        " \n",
        "Marital_Status: Marital Status of the account holder\n",
        " \n",
        "Income_Category: Annual Income Category of the account holder\n",
        " \n",
        "Card_Category: Type of Card\n",
        " \n",
        "Months_on_book: Period of relationship with the bank\n",
        " \n",
        "Total_Relationship_Count: Total no. of products held by the customer\n",
        " \n",
        "Months_Inactive_12_mon: No. of months inactive in the last 12 months\n",
        " \n",
        "Contacts_Count_12_mon: No. of Contacts between the customer and bank in the last 12 months\n",
        " \n",
        "Credit_Limit: Credit Limit on the Credit Card\n",
        " \n",
        "Total_Revolving_Bal: The balance that carries over from one month to the next is the revolving balance\n",
        " \n",
        "Avg_Open_To_Buy: Open to Buy refers to the amount left on the credit card to use (Average of last 12 months)\n",
        " \n",
        "Total_Trans_Amt: Total Transaction Amount (Last 12 months)\n",
        " \n",
        "Total_Trans_Ct: Total Transaction Count (Last 12 months)\n",
        " \n",
        "Total_Ct_Chng_Q4_Q1: Ratio of the total transaction count in 4th quarter and the total transaction count in 1st quarter\n",
        " \n",
        "Total_Amt_Chng_Q4_Q1: Ratio of the total transaction amount in 4th quarter and the total transaction amount in 1st quarter\n",
        " \n",
        "Avg_Utilization_Ratio: Represents how much of the available credit the customer spent\n",
        " "
      ]
    },
    {
      "cell_type": "code",
      "execution_count": 1,
      "id": "fb702a4c-601d-4e74-bf66-eddbee3ca90e",
      "metadata": {
        "colab": {
          "base_uri": "https://localhost:8080/"
        },
        "id": "fb702a4c-601d-4e74-bf66-eddbee3ca90e",
        "outputId": "66c99130-b20d-49c1-e316-2e1ba673fbde"
      },
      "outputs": [
        {
          "output_type": "stream",
          "name": "stdout",
          "text": [
            "Looking in indexes: https://pypi.org/simple, https://us-python.pkg.dev/colab-wheels/public/simple/\n",
            "Collecting pyforest\n",
            "  Downloading pyforest-1.1.0.tar.gz (15 kB)\n",
            "Building wheels for collected packages: pyforest\n",
            "  Building wheel for pyforest (setup.py) ... \u001b[?25l\u001b[?25hdone\n",
            "  Created wheel for pyforest: filename=pyforest-1.1.0-py2.py3-none-any.whl size=14607 sha256=489e384c4319a3bfbbaf557c456c11e06bca5a9cf867d5d935ceeb7997015a26\n",
            "  Stored in directory: /root/.cache/pip/wheels/61/1c/da/48e6c884142d485475d852d69d20a096aba5beceb338822893\n",
            "Successfully built pyforest\n",
            "Installing collected packages: pyforest\n",
            "Successfully installed pyforest-1.1.0\n",
            "Looking in indexes: https://pypi.org/simple, https://us-python.pkg.dev/colab-wheels/public/simple/\n",
            "Requirement already satisfied: lightgbm in /usr/local/lib/python3.7/dist-packages (2.2.3)\n",
            "Requirement already satisfied: numpy in /usr/local/lib/python3.7/dist-packages (from lightgbm) (1.21.6)\n",
            "Requirement already satisfied: scikit-learn in /usr/local/lib/python3.7/dist-packages (from lightgbm) (1.0.2)\n",
            "Requirement already satisfied: scipy in /usr/local/lib/python3.7/dist-packages (from lightgbm) (1.7.3)\n",
            "Requirement already satisfied: threadpoolctl>=2.0.0 in /usr/local/lib/python3.7/dist-packages (from scikit-learn->lightgbm) (3.1.0)\n",
            "Requirement already satisfied: joblib>=0.11 in /usr/local/lib/python3.7/dist-packages (from scikit-learn->lightgbm) (1.2.0)\n",
            "Looking in indexes: https://pypi.org/simple, https://us-python.pkg.dev/colab-wheels/public/simple/\n",
            "Requirement already satisfied: pandas-profiling in /usr/local/lib/python3.7/dist-packages (1.4.1)\n",
            "Requirement already satisfied: six>=1.9 in /usr/local/lib/python3.7/dist-packages (from pandas-profiling) (1.15.0)\n",
            "Requirement already satisfied: jinja2>=2.8 in /usr/local/lib/python3.7/dist-packages (from pandas-profiling) (2.11.3)\n",
            "Requirement already satisfied: pandas>=0.19 in /usr/local/lib/python3.7/dist-packages (from pandas-profiling) (1.3.5)\n",
            "Requirement already satisfied: matplotlib>=1.4 in /usr/local/lib/python3.7/dist-packages (from pandas-profiling) (3.2.2)\n",
            "Requirement already satisfied: MarkupSafe>=0.23 in /usr/local/lib/python3.7/dist-packages (from jinja2>=2.8->pandas-profiling) (2.0.1)\n",
            "Requirement already satisfied: python-dateutil>=2.1 in /usr/local/lib/python3.7/dist-packages (from matplotlib>=1.4->pandas-profiling) (2.8.2)\n",
            "Requirement already satisfied: pyparsing!=2.0.4,!=2.1.2,!=2.1.6,>=2.0.1 in /usr/local/lib/python3.7/dist-packages (from matplotlib>=1.4->pandas-profiling) (3.0.9)\n",
            "Requirement already satisfied: kiwisolver>=1.0.1 in /usr/local/lib/python3.7/dist-packages (from matplotlib>=1.4->pandas-profiling) (1.4.4)\n",
            "Requirement already satisfied: cycler>=0.10 in /usr/local/lib/python3.7/dist-packages (from matplotlib>=1.4->pandas-profiling) (0.11.0)\n",
            "Requirement already satisfied: numpy>=1.11 in /usr/local/lib/python3.7/dist-packages (from matplotlib>=1.4->pandas-profiling) (1.21.6)\n",
            "Requirement already satisfied: typing-extensions in /usr/local/lib/python3.7/dist-packages (from kiwisolver>=1.0.1->matplotlib>=1.4->pandas-profiling) (4.1.1)\n",
            "Requirement already satisfied: pytz>=2017.3 in /usr/local/lib/python3.7/dist-packages (from pandas>=0.19->pandas-profiling) (2022.5)\n",
            "Looking in indexes: https://pypi.org/simple, https://us-python.pkg.dev/colab-wheels/public/simple/\n",
            "Requirement already satisfied: tabulate in /usr/local/lib/python3.7/dist-packages (0.8.10)\n"
          ]
        }
      ],
      "source": [
        "# To help with reading and manipulating data\n",
        "import pandas as pd\n",
        "import numpy as np\n",
        "!pip install pyforest\n",
        "from pyforest import *\n",
        "lazy_imports()\n",
        "import pyforest\n",
        "import warnings\n",
        "warnings.filterwarnings(\"ignore\")\n",
        "from sklearn import metrics\n",
        "from sklearn.metrics import accuracy_score\n",
        "\n",
        "# To help with data visualization\n",
        "%matplotlib inline\n",
        "import matplotlib.pyplot as plt\n",
        "import seaborn as sns\n",
        "import matplotlib as mpl\n",
        "\n",
        "# To be used for missing value imputation\n",
        "from sklearn.impute import SimpleImputer\n",
        "\n",
        "# To help with model building\n",
        "from sklearn.linear_model import LogisticRegression\n",
        "from sklearn.tree import DecisionTreeClassifier\n",
        "from sklearn.ensemble import (\n",
        "    AdaBoostClassifier,\n",
        "    GradientBoostingClassifier,\n",
        "    RandomForestClassifier,\n",
        "    BaggingClassifier,\n",
        "    )\n",
        "from sklearn.neighbors import KNeighborsClassifier\n",
        "from xgboost import XGBClassifier\n",
        "\n",
        "!pip install lightgbm\n",
        "import lightgbm as lgb\n",
        "\n",
        "from sklearn.dummy import DummyClassifier\n",
        "\n",
        "# To get different metric scores, and split data\n",
        "from sklearn import metrics\n",
        "from sklearn.model_selection import train_test_split, StratifiedKFold, cross_val_score\n",
        "from sklearn.metrics import (\n",
        "    f1_score,\n",
        "    accuracy_score,\n",
        "    recall_score,\n",
        "    precision_score,\n",
        "    confusion_matrix,\n",
        "    roc_auc_score,\n",
        "    plot_confusion_matrix,\n",
        "    plot_roc_curve,\n",
        ")\n",
        "\n",
        "# To be used for data scaling and encoding\n",
        "from sklearn.preprocessing import (\n",
        "    StandardScaler,\n",
        "    MinMaxScaler,\n",
        "    OneHotEncoder,\n",
        "    RobustScaler,\n",
        ")\n",
        "from sklearn.impute import SimpleImputer\n",
        "\n",
        "# To be used for tuning the model\n",
        "from sklearn.model_selection import GridSearchCV, RandomizedSearchCV\n",
        "\n",
        "# To be used for creating pipelines and personalizing them\n",
        "from sklearn.pipeline import Pipeline\n",
        "from sklearn.compose import ColumnTransformer\n",
        "from sklearn.base import TransformerMixin\n",
        "import numpy as np\n",
        "import pandas as pd\n",
        "import matplotlib.pyplot as plt\n",
        "\n",
        "from sklearn.preprocessing import StandardScaler, normalize\n",
        "from sklearn.decomposition import PCA\n",
        "from sklearn.cluster import KMeans\n",
        "\n",
        "# To oversample and undersample data\n",
        "from imblearn.over_sampling import SMOTE\n",
        "from imblearn.under_sampling import RandomUnderSampler\n",
        "\n",
        "# To define maximum number of columns to be displayed in a dataframe\n",
        "pd.set_option(\"display.max_columns\", None)\n",
        "\n",
        "# To supress scientific notations for a dataframe\n",
        "pd.set_option(\"display.float_format\", lambda x: \"%.3f\" % x)\n",
        "\n",
        "# set the background for the graphs\n",
        "plt.style.use(\"ggplot\")\n",
        "\n",
        "# For pandas profiling\n",
        "!pip install pandas-profiling\n",
        "from pandas_profiling import ProfileReport\n",
        "\n",
        "# Printing style\n",
        "!pip install tabulate\n",
        "from tabulate import tabulate\n",
        "\n",
        "# To supress warnings\n",
        "import warnings\n",
        "\n",
        "# date time\n",
        "from datetime import datetime\n",
        "\n",
        "warnings.filterwarnings(\"ignore\")"
      ]
    },
    {
      "cell_type": "code",
      "execution_count": 2,
      "id": "63f07591-7193-425b-b294-45968e5b6313",
      "metadata": {
        "id": "63f07591-7193-425b-b294-45968e5b6313"
      },
      "outputs": [],
      "source": [
        "# Loading the dataset\n",
        "churner =pd.read_csv(\"/content/sample_data/credit_card_churn.csv\")"
      ]
    },
    {
      "cell_type": "code",
      "execution_count": 3,
      "id": "1e9c2a45-3fa5-40a3-b91f-65f5edb2c31e",
      "metadata": {
        "colab": {
          "base_uri": "https://localhost:8080/"
        },
        "id": "1e9c2a45-3fa5-40a3-b91f-65f5edb2c31e",
        "outputId": "e9bbc189-3026-498d-f70f-8cb974383530"
      },
      "outputs": [
        {
          "output_type": "execute_result",
          "data": {
            "text/plain": [
              "(10127, 23)"
            ]
          },
          "metadata": {},
          "execution_count": 3
        }
      ],
      "source": [
        "# Checking the number of rows and columns in the data\n",
        "churner.shape"
      ]
    },
    {
      "cell_type": "code",
      "execution_count": 4,
      "id": "669a3279-9b76-430c-b890-732fa02925f4",
      "metadata": {
        "id": "669a3279-9b76-430c-b890-732fa02925f4"
      },
      "outputs": [],
      "source": [
        "additional_droppable_columns = [\n",
        "    'Naive_Bayes_Classifier_Attrition_Flag_Card_Category_Contacts_Count_12_mon_Dependent_count_Education_Level_Months_Inactive_12_mon_1',\n",
        "    'Naive_Bayes_Classifier_Attrition_Flag_Card_Category_Contacts_Count_12_mon_Dependent_count_Education_Level_Months_Inactive_12_mon_2'\n",
        "]\n",
        "\n",
        "for col in additional_droppable_columns:\n",
        "    if col in churner.columns.unique().tolist():\n",
        "        churner.drop(columns=[col], inplace=True)"
      ]
    },
    {
      "cell_type": "code",
      "execution_count": 5,
      "id": "ba3e4d21-38f6-4078-9173-b1d9f8c82258",
      "metadata": {
        "id": "ba3e4d21-38f6-4078-9173-b1d9f8c82258"
      },
      "outputs": [],
      "source": [
        "# Creating a copy dataset for analysis\n",
        "\n",
        "data = churner.copy()"
      ]
    },
    {
      "cell_type": "code",
      "execution_count": 6,
      "id": "99ccdede-fc48-4025-b464-6ca84fef4316",
      "metadata": {
        "colab": {
          "base_uri": "https://localhost:8080/",
          "height": 357
        },
        "id": "99ccdede-fc48-4025-b464-6ca84fef4316",
        "outputId": "6b4501f6-9b39-4d14-fc8c-3e18268b1375"
      },
      "outputs": [
        {
          "output_type": "execute_result",
          "data": {
            "text/plain": [
              "   CLIENTNUM     Attrition_Flag  Customer_Age Gender  Dependent_count  \\\n",
              "0  768805383  Existing Customer            45      M                3   \n",
              "1  818770008  Existing Customer            49      F                5   \n",
              "2  713982108  Existing Customer            51      M                3   \n",
              "3  769911858  Existing Customer            40      F                4   \n",
              "4  709106358  Existing Customer            40      M                3   \n",
              "\n",
              "  Education_Level Marital_Status Income_Category Card_Category  \\\n",
              "0     High School        Married     $60K - $80K          Blue   \n",
              "1        Graduate         Single  Less than $40K          Blue   \n",
              "2        Graduate        Married    $80K - $120K          Blue   \n",
              "3     High School        Unknown  Less than $40K          Blue   \n",
              "4      Uneducated        Married     $60K - $80K          Blue   \n",
              "\n",
              "   Months_on_book  Total_Relationship_Count  Months_Inactive_12_mon  \\\n",
              "0              39                         5                       1   \n",
              "1              44                         6                       1   \n",
              "2              36                         4                       1   \n",
              "3              34                         3                       4   \n",
              "4              21                         5                       1   \n",
              "\n",
              "   Contacts_Count_12_mon  Credit_Limit  Total_Revolving_Bal  Avg_Open_To_Buy  \\\n",
              "0                      3     12691.000                  777        11914.000   \n",
              "1                      2      8256.000                  864         7392.000   \n",
              "2                      0      3418.000                    0         3418.000   \n",
              "3                      1      3313.000                 2517          796.000   \n",
              "4                      0      4716.000                    0         4716.000   \n",
              "\n",
              "   Total_Amt_Chng_Q4_Q1  Total_Trans_Amt  Total_Trans_Ct  Total_Ct_Chng_Q4_Q1  \\\n",
              "0                 1.335             1144              42                1.625   \n",
              "1                 1.541             1291              33                3.714   \n",
              "2                 2.594             1887              20                2.333   \n",
              "3                 1.405             1171              20                2.333   \n",
              "4                 2.175              816              28                2.500   \n",
              "\n",
              "   Avg_Utilization_Ratio  \n",
              "0                  0.061  \n",
              "1                  0.105  \n",
              "2                  0.000  \n",
              "3                  0.760  \n",
              "4                  0.000  "
            ],
            "text/html": [
              "\n",
              "  <div id=\"df-1af2c78b-b895-4fc6-906b-2cadee19cad7\">\n",
              "    <div class=\"colab-df-container\">\n",
              "      <div>\n",
              "<style scoped>\n",
              "    .dataframe tbody tr th:only-of-type {\n",
              "        vertical-align: middle;\n",
              "    }\n",
              "\n",
              "    .dataframe tbody tr th {\n",
              "        vertical-align: top;\n",
              "    }\n",
              "\n",
              "    .dataframe thead th {\n",
              "        text-align: right;\n",
              "    }\n",
              "</style>\n",
              "<table border=\"1\" class=\"dataframe\">\n",
              "  <thead>\n",
              "    <tr style=\"text-align: right;\">\n",
              "      <th></th>\n",
              "      <th>CLIENTNUM</th>\n",
              "      <th>Attrition_Flag</th>\n",
              "      <th>Customer_Age</th>\n",
              "      <th>Gender</th>\n",
              "      <th>Dependent_count</th>\n",
              "      <th>Education_Level</th>\n",
              "      <th>Marital_Status</th>\n",
              "      <th>Income_Category</th>\n",
              "      <th>Card_Category</th>\n",
              "      <th>Months_on_book</th>\n",
              "      <th>Total_Relationship_Count</th>\n",
              "      <th>Months_Inactive_12_mon</th>\n",
              "      <th>Contacts_Count_12_mon</th>\n",
              "      <th>Credit_Limit</th>\n",
              "      <th>Total_Revolving_Bal</th>\n",
              "      <th>Avg_Open_To_Buy</th>\n",
              "      <th>Total_Amt_Chng_Q4_Q1</th>\n",
              "      <th>Total_Trans_Amt</th>\n",
              "      <th>Total_Trans_Ct</th>\n",
              "      <th>Total_Ct_Chng_Q4_Q1</th>\n",
              "      <th>Avg_Utilization_Ratio</th>\n",
              "    </tr>\n",
              "  </thead>\n",
              "  <tbody>\n",
              "    <tr>\n",
              "      <th>0</th>\n",
              "      <td>768805383</td>\n",
              "      <td>Existing Customer</td>\n",
              "      <td>45</td>\n",
              "      <td>M</td>\n",
              "      <td>3</td>\n",
              "      <td>High School</td>\n",
              "      <td>Married</td>\n",
              "      <td>$60K - $80K</td>\n",
              "      <td>Blue</td>\n",
              "      <td>39</td>\n",
              "      <td>5</td>\n",
              "      <td>1</td>\n",
              "      <td>3</td>\n",
              "      <td>12691.000</td>\n",
              "      <td>777</td>\n",
              "      <td>11914.000</td>\n",
              "      <td>1.335</td>\n",
              "      <td>1144</td>\n",
              "      <td>42</td>\n",
              "      <td>1.625</td>\n",
              "      <td>0.061</td>\n",
              "    </tr>\n",
              "    <tr>\n",
              "      <th>1</th>\n",
              "      <td>818770008</td>\n",
              "      <td>Existing Customer</td>\n",
              "      <td>49</td>\n",
              "      <td>F</td>\n",
              "      <td>5</td>\n",
              "      <td>Graduate</td>\n",
              "      <td>Single</td>\n",
              "      <td>Less than $40K</td>\n",
              "      <td>Blue</td>\n",
              "      <td>44</td>\n",
              "      <td>6</td>\n",
              "      <td>1</td>\n",
              "      <td>2</td>\n",
              "      <td>8256.000</td>\n",
              "      <td>864</td>\n",
              "      <td>7392.000</td>\n",
              "      <td>1.541</td>\n",
              "      <td>1291</td>\n",
              "      <td>33</td>\n",
              "      <td>3.714</td>\n",
              "      <td>0.105</td>\n",
              "    </tr>\n",
              "    <tr>\n",
              "      <th>2</th>\n",
              "      <td>713982108</td>\n",
              "      <td>Existing Customer</td>\n",
              "      <td>51</td>\n",
              "      <td>M</td>\n",
              "      <td>3</td>\n",
              "      <td>Graduate</td>\n",
              "      <td>Married</td>\n",
              "      <td>$80K - $120K</td>\n",
              "      <td>Blue</td>\n",
              "      <td>36</td>\n",
              "      <td>4</td>\n",
              "      <td>1</td>\n",
              "      <td>0</td>\n",
              "      <td>3418.000</td>\n",
              "      <td>0</td>\n",
              "      <td>3418.000</td>\n",
              "      <td>2.594</td>\n",
              "      <td>1887</td>\n",
              "      <td>20</td>\n",
              "      <td>2.333</td>\n",
              "      <td>0.000</td>\n",
              "    </tr>\n",
              "    <tr>\n",
              "      <th>3</th>\n",
              "      <td>769911858</td>\n",
              "      <td>Existing Customer</td>\n",
              "      <td>40</td>\n",
              "      <td>F</td>\n",
              "      <td>4</td>\n",
              "      <td>High School</td>\n",
              "      <td>Unknown</td>\n",
              "      <td>Less than $40K</td>\n",
              "      <td>Blue</td>\n",
              "      <td>34</td>\n",
              "      <td>3</td>\n",
              "      <td>4</td>\n",
              "      <td>1</td>\n",
              "      <td>3313.000</td>\n",
              "      <td>2517</td>\n",
              "      <td>796.000</td>\n",
              "      <td>1.405</td>\n",
              "      <td>1171</td>\n",
              "      <td>20</td>\n",
              "      <td>2.333</td>\n",
              "      <td>0.760</td>\n",
              "    </tr>\n",
              "    <tr>\n",
              "      <th>4</th>\n",
              "      <td>709106358</td>\n",
              "      <td>Existing Customer</td>\n",
              "      <td>40</td>\n",
              "      <td>M</td>\n",
              "      <td>3</td>\n",
              "      <td>Uneducated</td>\n",
              "      <td>Married</td>\n",
              "      <td>$60K - $80K</td>\n",
              "      <td>Blue</td>\n",
              "      <td>21</td>\n",
              "      <td>5</td>\n",
              "      <td>1</td>\n",
              "      <td>0</td>\n",
              "      <td>4716.000</td>\n",
              "      <td>0</td>\n",
              "      <td>4716.000</td>\n",
              "      <td>2.175</td>\n",
              "      <td>816</td>\n",
              "      <td>28</td>\n",
              "      <td>2.500</td>\n",
              "      <td>0.000</td>\n",
              "    </tr>\n",
              "  </tbody>\n",
              "</table>\n",
              "</div>\n",
              "      <button class=\"colab-df-convert\" onclick=\"convertToInteractive('df-1af2c78b-b895-4fc6-906b-2cadee19cad7')\"\n",
              "              title=\"Convert this dataframe to an interactive table.\"\n",
              "              style=\"display:none;\">\n",
              "        \n",
              "  <svg xmlns=\"http://www.w3.org/2000/svg\" height=\"24px\"viewBox=\"0 0 24 24\"\n",
              "       width=\"24px\">\n",
              "    <path d=\"M0 0h24v24H0V0z\" fill=\"none\"/>\n",
              "    <path d=\"M18.56 5.44l.94 2.06.94-2.06 2.06-.94-2.06-.94-.94-2.06-.94 2.06-2.06.94zm-11 1L8.5 8.5l.94-2.06 2.06-.94-2.06-.94L8.5 2.5l-.94 2.06-2.06.94zm10 10l.94 2.06.94-2.06 2.06-.94-2.06-.94-.94-2.06-.94 2.06-2.06.94z\"/><path d=\"M17.41 7.96l-1.37-1.37c-.4-.4-.92-.59-1.43-.59-.52 0-1.04.2-1.43.59L10.3 9.45l-7.72 7.72c-.78.78-.78 2.05 0 2.83L4 21.41c.39.39.9.59 1.41.59.51 0 1.02-.2 1.41-.59l7.78-7.78 2.81-2.81c.8-.78.8-2.07 0-2.86zM5.41 20L4 18.59l7.72-7.72 1.47 1.35L5.41 20z\"/>\n",
              "  </svg>\n",
              "      </button>\n",
              "      \n",
              "  <style>\n",
              "    .colab-df-container {\n",
              "      display:flex;\n",
              "      flex-wrap:wrap;\n",
              "      gap: 12px;\n",
              "    }\n",
              "\n",
              "    .colab-df-convert {\n",
              "      background-color: #E8F0FE;\n",
              "      border: none;\n",
              "      border-radius: 50%;\n",
              "      cursor: pointer;\n",
              "      display: none;\n",
              "      fill: #1967D2;\n",
              "      height: 32px;\n",
              "      padding: 0 0 0 0;\n",
              "      width: 32px;\n",
              "    }\n",
              "\n",
              "    .colab-df-convert:hover {\n",
              "      background-color: #E2EBFA;\n",
              "      box-shadow: 0px 1px 2px rgba(60, 64, 67, 0.3), 0px 1px 3px 1px rgba(60, 64, 67, 0.15);\n",
              "      fill: #174EA6;\n",
              "    }\n",
              "\n",
              "    [theme=dark] .colab-df-convert {\n",
              "      background-color: #3B4455;\n",
              "      fill: #D2E3FC;\n",
              "    }\n",
              "\n",
              "    [theme=dark] .colab-df-convert:hover {\n",
              "      background-color: #434B5C;\n",
              "      box-shadow: 0px 1px 3px 1px rgba(0, 0, 0, 0.15);\n",
              "      filter: drop-shadow(0px 1px 2px rgba(0, 0, 0, 0.3));\n",
              "      fill: #FFFFFF;\n",
              "    }\n",
              "  </style>\n",
              "\n",
              "      <script>\n",
              "        const buttonEl =\n",
              "          document.querySelector('#df-1af2c78b-b895-4fc6-906b-2cadee19cad7 button.colab-df-convert');\n",
              "        buttonEl.style.display =\n",
              "          google.colab.kernel.accessAllowed ? 'block' : 'none';\n",
              "\n",
              "        async function convertToInteractive(key) {\n",
              "          const element = document.querySelector('#df-1af2c78b-b895-4fc6-906b-2cadee19cad7');\n",
              "          const dataTable =\n",
              "            await google.colab.kernel.invokeFunction('convertToInteractive',\n",
              "                                                     [key], {});\n",
              "          if (!dataTable) return;\n",
              "\n",
              "          const docLinkHtml = 'Like what you see? Visit the ' +\n",
              "            '<a target=\"_blank\" href=https://colab.research.google.com/notebooks/data_table.ipynb>data table notebook</a>'\n",
              "            + ' to learn more about interactive tables.';\n",
              "          element.innerHTML = '';\n",
              "          dataTable['output_type'] = 'display_data';\n",
              "          await google.colab.output.renderOutput(dataTable, element);\n",
              "          const docLink = document.createElement('div');\n",
              "          docLink.innerHTML = docLinkHtml;\n",
              "          element.appendChild(docLink);\n",
              "        }\n",
              "      </script>\n",
              "    </div>\n",
              "  </div>\n",
              "  "
            ]
          },
          "metadata": {},
          "execution_count": 6
        }
      ],
      "source": [
        "# let's view the first 5 rows of the data\n",
        "data.head()"
      ]
    },
    {
      "cell_type": "code",
      "execution_count": 7,
      "id": "e9bc3884-fdb1-4103-a171-7fdbaf6dfd91",
      "metadata": {
        "colab": {
          "base_uri": "https://localhost:8080/",
          "height": 357
        },
        "id": "e9bc3884-fdb1-4103-a171-7fdbaf6dfd91",
        "outputId": "ccde4026-5b2d-448e-cdee-5781058f6aff"
      },
      "outputs": [
        {
          "output_type": "execute_result",
          "data": {
            "text/plain": [
              "       CLIENTNUM     Attrition_Flag  Customer_Age Gender  Dependent_count  \\\n",
              "10122  772366833  Existing Customer            50      M                2   \n",
              "10123  710638233  Attrited Customer            41      M                2   \n",
              "10124  716506083  Attrited Customer            44      F                1   \n",
              "10125  717406983  Attrited Customer            30      M                2   \n",
              "10126  714337233  Attrited Customer            43      F                2   \n",
              "\n",
              "      Education_Level Marital_Status Income_Category Card_Category  \\\n",
              "10122        Graduate         Single     $40K - $60K          Blue   \n",
              "10123         Unknown       Divorced     $40K - $60K          Blue   \n",
              "10124     High School        Married  Less than $40K          Blue   \n",
              "10125        Graduate        Unknown     $40K - $60K          Blue   \n",
              "10126        Graduate        Married  Less than $40K        Silver   \n",
              "\n",
              "       Months_on_book  Total_Relationship_Count  Months_Inactive_12_mon  \\\n",
              "10122              40                         3                       2   \n",
              "10123              25                         4                       2   \n",
              "10124              36                         5                       3   \n",
              "10125              36                         4                       3   \n",
              "10126              25                         6                       2   \n",
              "\n",
              "       Contacts_Count_12_mon  Credit_Limit  Total_Revolving_Bal  \\\n",
              "10122                      3      4003.000                 1851   \n",
              "10123                      3      4277.000                 2186   \n",
              "10124                      4      5409.000                    0   \n",
              "10125                      3      5281.000                    0   \n",
              "10126                      4     10388.000                 1961   \n",
              "\n",
              "       Avg_Open_To_Buy  Total_Amt_Chng_Q4_Q1  Total_Trans_Amt  Total_Trans_Ct  \\\n",
              "10122         2152.000                 0.703            15476             117   \n",
              "10123         2091.000                 0.804             8764              69   \n",
              "10124         5409.000                 0.819            10291              60   \n",
              "10125         5281.000                 0.535             8395              62   \n",
              "10126         8427.000                 0.703            10294              61   \n",
              "\n",
              "       Total_Ct_Chng_Q4_Q1  Avg_Utilization_Ratio  \n",
              "10122                0.857                  0.462  \n",
              "10123                0.683                  0.511  \n",
              "10124                0.818                  0.000  \n",
              "10125                0.722                  0.000  \n",
              "10126                0.649                  0.189  "
            ],
            "text/html": [
              "\n",
              "  <div id=\"df-efdb619f-ddeb-41ff-b6cb-68c832de3135\">\n",
              "    <div class=\"colab-df-container\">\n",
              "      <div>\n",
              "<style scoped>\n",
              "    .dataframe tbody tr th:only-of-type {\n",
              "        vertical-align: middle;\n",
              "    }\n",
              "\n",
              "    .dataframe tbody tr th {\n",
              "        vertical-align: top;\n",
              "    }\n",
              "\n",
              "    .dataframe thead th {\n",
              "        text-align: right;\n",
              "    }\n",
              "</style>\n",
              "<table border=\"1\" class=\"dataframe\">\n",
              "  <thead>\n",
              "    <tr style=\"text-align: right;\">\n",
              "      <th></th>\n",
              "      <th>CLIENTNUM</th>\n",
              "      <th>Attrition_Flag</th>\n",
              "      <th>Customer_Age</th>\n",
              "      <th>Gender</th>\n",
              "      <th>Dependent_count</th>\n",
              "      <th>Education_Level</th>\n",
              "      <th>Marital_Status</th>\n",
              "      <th>Income_Category</th>\n",
              "      <th>Card_Category</th>\n",
              "      <th>Months_on_book</th>\n",
              "      <th>Total_Relationship_Count</th>\n",
              "      <th>Months_Inactive_12_mon</th>\n",
              "      <th>Contacts_Count_12_mon</th>\n",
              "      <th>Credit_Limit</th>\n",
              "      <th>Total_Revolving_Bal</th>\n",
              "      <th>Avg_Open_To_Buy</th>\n",
              "      <th>Total_Amt_Chng_Q4_Q1</th>\n",
              "      <th>Total_Trans_Amt</th>\n",
              "      <th>Total_Trans_Ct</th>\n",
              "      <th>Total_Ct_Chng_Q4_Q1</th>\n",
              "      <th>Avg_Utilization_Ratio</th>\n",
              "    </tr>\n",
              "  </thead>\n",
              "  <tbody>\n",
              "    <tr>\n",
              "      <th>10122</th>\n",
              "      <td>772366833</td>\n",
              "      <td>Existing Customer</td>\n",
              "      <td>50</td>\n",
              "      <td>M</td>\n",
              "      <td>2</td>\n",
              "      <td>Graduate</td>\n",
              "      <td>Single</td>\n",
              "      <td>$40K - $60K</td>\n",
              "      <td>Blue</td>\n",
              "      <td>40</td>\n",
              "      <td>3</td>\n",
              "      <td>2</td>\n",
              "      <td>3</td>\n",
              "      <td>4003.000</td>\n",
              "      <td>1851</td>\n",
              "      <td>2152.000</td>\n",
              "      <td>0.703</td>\n",
              "      <td>15476</td>\n",
              "      <td>117</td>\n",
              "      <td>0.857</td>\n",
              "      <td>0.462</td>\n",
              "    </tr>\n",
              "    <tr>\n",
              "      <th>10123</th>\n",
              "      <td>710638233</td>\n",
              "      <td>Attrited Customer</td>\n",
              "      <td>41</td>\n",
              "      <td>M</td>\n",
              "      <td>2</td>\n",
              "      <td>Unknown</td>\n",
              "      <td>Divorced</td>\n",
              "      <td>$40K - $60K</td>\n",
              "      <td>Blue</td>\n",
              "      <td>25</td>\n",
              "      <td>4</td>\n",
              "      <td>2</td>\n",
              "      <td>3</td>\n",
              "      <td>4277.000</td>\n",
              "      <td>2186</td>\n",
              "      <td>2091.000</td>\n",
              "      <td>0.804</td>\n",
              "      <td>8764</td>\n",
              "      <td>69</td>\n",
              "      <td>0.683</td>\n",
              "      <td>0.511</td>\n",
              "    </tr>\n",
              "    <tr>\n",
              "      <th>10124</th>\n",
              "      <td>716506083</td>\n",
              "      <td>Attrited Customer</td>\n",
              "      <td>44</td>\n",
              "      <td>F</td>\n",
              "      <td>1</td>\n",
              "      <td>High School</td>\n",
              "      <td>Married</td>\n",
              "      <td>Less than $40K</td>\n",
              "      <td>Blue</td>\n",
              "      <td>36</td>\n",
              "      <td>5</td>\n",
              "      <td>3</td>\n",
              "      <td>4</td>\n",
              "      <td>5409.000</td>\n",
              "      <td>0</td>\n",
              "      <td>5409.000</td>\n",
              "      <td>0.819</td>\n",
              "      <td>10291</td>\n",
              "      <td>60</td>\n",
              "      <td>0.818</td>\n",
              "      <td>0.000</td>\n",
              "    </tr>\n",
              "    <tr>\n",
              "      <th>10125</th>\n",
              "      <td>717406983</td>\n",
              "      <td>Attrited Customer</td>\n",
              "      <td>30</td>\n",
              "      <td>M</td>\n",
              "      <td>2</td>\n",
              "      <td>Graduate</td>\n",
              "      <td>Unknown</td>\n",
              "      <td>$40K - $60K</td>\n",
              "      <td>Blue</td>\n",
              "      <td>36</td>\n",
              "      <td>4</td>\n",
              "      <td>3</td>\n",
              "      <td>3</td>\n",
              "      <td>5281.000</td>\n",
              "      <td>0</td>\n",
              "      <td>5281.000</td>\n",
              "      <td>0.535</td>\n",
              "      <td>8395</td>\n",
              "      <td>62</td>\n",
              "      <td>0.722</td>\n",
              "      <td>0.000</td>\n",
              "    </tr>\n",
              "    <tr>\n",
              "      <th>10126</th>\n",
              "      <td>714337233</td>\n",
              "      <td>Attrited Customer</td>\n",
              "      <td>43</td>\n",
              "      <td>F</td>\n",
              "      <td>2</td>\n",
              "      <td>Graduate</td>\n",
              "      <td>Married</td>\n",
              "      <td>Less than $40K</td>\n",
              "      <td>Silver</td>\n",
              "      <td>25</td>\n",
              "      <td>6</td>\n",
              "      <td>2</td>\n",
              "      <td>4</td>\n",
              "      <td>10388.000</td>\n",
              "      <td>1961</td>\n",
              "      <td>8427.000</td>\n",
              "      <td>0.703</td>\n",
              "      <td>10294</td>\n",
              "      <td>61</td>\n",
              "      <td>0.649</td>\n",
              "      <td>0.189</td>\n",
              "    </tr>\n",
              "  </tbody>\n",
              "</table>\n",
              "</div>\n",
              "      <button class=\"colab-df-convert\" onclick=\"convertToInteractive('df-efdb619f-ddeb-41ff-b6cb-68c832de3135')\"\n",
              "              title=\"Convert this dataframe to an interactive table.\"\n",
              "              style=\"display:none;\">\n",
              "        \n",
              "  <svg xmlns=\"http://www.w3.org/2000/svg\" height=\"24px\"viewBox=\"0 0 24 24\"\n",
              "       width=\"24px\">\n",
              "    <path d=\"M0 0h24v24H0V0z\" fill=\"none\"/>\n",
              "    <path d=\"M18.56 5.44l.94 2.06.94-2.06 2.06-.94-2.06-.94-.94-2.06-.94 2.06-2.06.94zm-11 1L8.5 8.5l.94-2.06 2.06-.94-2.06-.94L8.5 2.5l-.94 2.06-2.06.94zm10 10l.94 2.06.94-2.06 2.06-.94-2.06-.94-.94-2.06-.94 2.06-2.06.94z\"/><path d=\"M17.41 7.96l-1.37-1.37c-.4-.4-.92-.59-1.43-.59-.52 0-1.04.2-1.43.59L10.3 9.45l-7.72 7.72c-.78.78-.78 2.05 0 2.83L4 21.41c.39.39.9.59 1.41.59.51 0 1.02-.2 1.41-.59l7.78-7.78 2.81-2.81c.8-.78.8-2.07 0-2.86zM5.41 20L4 18.59l7.72-7.72 1.47 1.35L5.41 20z\"/>\n",
              "  </svg>\n",
              "      </button>\n",
              "      \n",
              "  <style>\n",
              "    .colab-df-container {\n",
              "      display:flex;\n",
              "      flex-wrap:wrap;\n",
              "      gap: 12px;\n",
              "    }\n",
              "\n",
              "    .colab-df-convert {\n",
              "      background-color: #E8F0FE;\n",
              "      border: none;\n",
              "      border-radius: 50%;\n",
              "      cursor: pointer;\n",
              "      display: none;\n",
              "      fill: #1967D2;\n",
              "      height: 32px;\n",
              "      padding: 0 0 0 0;\n",
              "      width: 32px;\n",
              "    }\n",
              "\n",
              "    .colab-df-convert:hover {\n",
              "      background-color: #E2EBFA;\n",
              "      box-shadow: 0px 1px 2px rgba(60, 64, 67, 0.3), 0px 1px 3px 1px rgba(60, 64, 67, 0.15);\n",
              "      fill: #174EA6;\n",
              "    }\n",
              "\n",
              "    [theme=dark] .colab-df-convert {\n",
              "      background-color: #3B4455;\n",
              "      fill: #D2E3FC;\n",
              "    }\n",
              "\n",
              "    [theme=dark] .colab-df-convert:hover {\n",
              "      background-color: #434B5C;\n",
              "      box-shadow: 0px 1px 3px 1px rgba(0, 0, 0, 0.15);\n",
              "      filter: drop-shadow(0px 1px 2px rgba(0, 0, 0, 0.3));\n",
              "      fill: #FFFFFF;\n",
              "    }\n",
              "  </style>\n",
              "\n",
              "      <script>\n",
              "        const buttonEl =\n",
              "          document.querySelector('#df-efdb619f-ddeb-41ff-b6cb-68c832de3135 button.colab-df-convert');\n",
              "        buttonEl.style.display =\n",
              "          google.colab.kernel.accessAllowed ? 'block' : 'none';\n",
              "\n",
              "        async function convertToInteractive(key) {\n",
              "          const element = document.querySelector('#df-efdb619f-ddeb-41ff-b6cb-68c832de3135');\n",
              "          const dataTable =\n",
              "            await google.colab.kernel.invokeFunction('convertToInteractive',\n",
              "                                                     [key], {});\n",
              "          if (!dataTable) return;\n",
              "\n",
              "          const docLinkHtml = 'Like what you see? Visit the ' +\n",
              "            '<a target=\"_blank\" href=https://colab.research.google.com/notebooks/data_table.ipynb>data table notebook</a>'\n",
              "            + ' to learn more about interactive tables.';\n",
              "          element.innerHTML = '';\n",
              "          dataTable['output_type'] = 'display_data';\n",
              "          await google.colab.output.renderOutput(dataTable, element);\n",
              "          const docLink = document.createElement('div');\n",
              "          docLink.innerHTML = docLinkHtml;\n",
              "          element.appendChild(docLink);\n",
              "        }\n",
              "      </script>\n",
              "    </div>\n",
              "  </div>\n",
              "  "
            ]
          },
          "metadata": {},
          "execution_count": 7
        }
      ],
      "source": [
        "# let's view the last 5 rows of the data\n",
        "data.tail()"
      ]
    },
    {
      "cell_type": "code",
      "execution_count": 8,
      "id": "8343046c-2af1-4b3a-aa7f-c4684b165a7d",
      "metadata": {
        "colab": {
          "base_uri": "https://localhost:8080/"
        },
        "id": "8343046c-2af1-4b3a-aa7f-c4684b165a7d",
        "outputId": "d8e28946-0613-488f-9595-0c09a1c09e09"
      },
      "outputs": [
        {
          "output_type": "stream",
          "name": "stdout",
          "text": [
            "<class 'pandas.core.frame.DataFrame'>\n",
            "RangeIndex: 10127 entries, 0 to 10126\n",
            "Data columns (total 21 columns):\n",
            " #   Column                    Non-Null Count  Dtype  \n",
            "---  ------                    --------------  -----  \n",
            " 0   CLIENTNUM                 10127 non-null  int64  \n",
            " 1   Attrition_Flag            10127 non-null  object \n",
            " 2   Customer_Age              10127 non-null  int64  \n",
            " 3   Gender                    10127 non-null  object \n",
            " 4   Dependent_count           10127 non-null  int64  \n",
            " 5   Education_Level           10127 non-null  object \n",
            " 6   Marital_Status            10127 non-null  object \n",
            " 7   Income_Category           10127 non-null  object \n",
            " 8   Card_Category             10127 non-null  object \n",
            " 9   Months_on_book            10127 non-null  int64  \n",
            " 10  Total_Relationship_Count  10127 non-null  int64  \n",
            " 11  Months_Inactive_12_mon    10127 non-null  int64  \n",
            " 12  Contacts_Count_12_mon     10127 non-null  int64  \n",
            " 13  Credit_Limit              10127 non-null  float64\n",
            " 14  Total_Revolving_Bal       10127 non-null  int64  \n",
            " 15  Avg_Open_To_Buy           10127 non-null  float64\n",
            " 16  Total_Amt_Chng_Q4_Q1      10127 non-null  float64\n",
            " 17  Total_Trans_Amt           10127 non-null  int64  \n",
            " 18  Total_Trans_Ct            10127 non-null  int64  \n",
            " 19  Total_Ct_Chng_Q4_Q1       10127 non-null  float64\n",
            " 20  Avg_Utilization_Ratio     10127 non-null  float64\n",
            "dtypes: float64(5), int64(10), object(6)\n",
            "memory usage: 1.6+ MB\n"
          ]
        }
      ],
      "source": [
        "# let's check the Data Types of the columns in the dataset\n",
        "data.info()"
      ]
    },
    {
      "cell_type": "markdown",
      "id": "455535aa-fb62-4d77-a60f-6c764fe1ae91",
      "metadata": {
        "id": "455535aa-fb62-4d77-a60f-6c764fe1ae91"
      },
      "source": [
        "-There are a total of 21 columns and 10,127 observations in the dataset\n",
        "-We can see that Education_Level and Marital_Status have less than 10,127 non-null values i.e. columns have missing values."
      ]
    },
    {
      "cell_type": "code",
      "execution_count": 9,
      "id": "f469b452-a796-4bd7-8a9f-da93c12cb10a",
      "metadata": {
        "colab": {
          "base_uri": "https://localhost:8080/"
        },
        "id": "f469b452-a796-4bd7-8a9f-da93c12cb10a",
        "outputId": "b0590124-5847-4fec-c2f5-7486dbb5e6f1"
      },
      "outputs": [
        {
          "output_type": "execute_result",
          "data": {
            "text/plain": [
              "0"
            ]
          },
          "metadata": {},
          "execution_count": 9
        }
      ],
      "source": [
        "# let's check for duplicate values in the data\n",
        "data.duplicated().sum()"
      ]
    },
    {
      "cell_type": "code",
      "execution_count": 10,
      "id": "046c80e8-c852-44b8-a355-14379c958d43",
      "metadata": {
        "colab": {
          "base_uri": "https://localhost:8080/",
          "height": 49
        },
        "id": "046c80e8-c852-44b8-a355-14379c958d43",
        "outputId": "121cf50f-649d-4094-c902-19be0d2c85fe"
      },
      "outputs": [
        {
          "output_type": "execute_result",
          "data": {
            "text/plain": [
              "<pandas.io.formats.style.Styler at 0x7fa72da21950>"
            ],
            "text/html": [
              "<style type=\"text/css\">\n",
              "</style>\n",
              "<table id=\"T_fd45f_\" class=\"dataframe\">\n",
              "  <thead>\n",
              "    <tr>\n",
              "      <th class=\"blank level0\" >&nbsp;</th>\n",
              "      <th class=\"col_heading level0 col0\" >Null Record Count</th>\n",
              "      <th class=\"col_heading level0 col1\" >Percentage of Null Records</th>\n",
              "    </tr>\n",
              "  </thead>\n",
              "  <tbody>\n",
              "  </tbody>\n",
              "</table>\n"
            ]
          },
          "metadata": {},
          "execution_count": 10
        }
      ],
      "source": [
        "# let's check for missing values in the data\n",
        "df_null_summary = pd.concat(\n",
        "    [data.isnull().sum(), data.isnull().sum() * 100 / data.isnull().count()], axis=1\n",
        ")\n",
        "df_null_summary.columns = [\"Null Record Count\", \"Percentage of Null Records\"]\n",
        "df_null_summary[df_null_summary[\"Null Record Count\"] > 0].sort_values(\n",
        "    by=\"Percentage of Null Records\", ascending=False\n",
        ").style.background_gradient(cmap=\"YlOrRd\")"
      ]
    },
    {
      "cell_type": "markdown",
      "id": "594afc2f-4f21-4c77-9f0b-1f3c442a1f6a",
      "metadata": {
        "id": "594afc2f-4f21-4c77-9f0b-1f3c442a1f6a"
      },
      "source": [
        "No missing values"
      ]
    },
    {
      "cell_type": "markdown",
      "id": "677c0c96-928d-44a1-b27d-e18aecfd0f41",
      "metadata": {
        "id": "677c0c96-928d-44a1-b27d-e18aecfd0f41"
      },
      "source": [
        "Let's check the number of unique values in each column"
      ]
    },
    {
      "cell_type": "code",
      "execution_count": 11,
      "id": "cc9a3e16-f68c-46a0-bc3e-8dcf053ed192",
      "metadata": {
        "colab": {
          "base_uri": "https://localhost:8080/"
        },
        "id": "cc9a3e16-f68c-46a0-bc3e-8dcf053ed192",
        "outputId": "2a20931e-2fb3-413b-cd10-d3ba8ee9886f"
      },
      "outputs": [
        {
          "output_type": "execute_result",
          "data": {
            "text/plain": [
              "Attrition_Flag     2\n",
              "Gender             2\n",
              "Education_Level    7\n",
              "Marital_Status     4\n",
              "Income_Category    6\n",
              "Card_Category      4\n",
              "dtype: int64"
            ]
          },
          "metadata": {},
          "execution_count": 11
        }
      ],
      "source": [
        "data.select_dtypes(include=\"object\").nunique()"
      ]
    },
    {
      "cell_type": "code",
      "execution_count": 12,
      "id": "9f7e8248-f0f1-4949-ae46-7ac0edb3d914",
      "metadata": {
        "colab": {
          "base_uri": "https://localhost:8080/"
        },
        "id": "9f7e8248-f0f1-4949-ae46-7ac0edb3d914",
        "outputId": "c1d2a6f9-a4b4-409c-b5fa-969adc3427f5"
      },
      "outputs": [
        {
          "output_type": "execute_result",
          "data": {
            "text/plain": [
              "CLIENTNUM                   10127\n",
              "Customer_Age                   45\n",
              "Dependent_count                 6\n",
              "Months_on_book                 44\n",
              "Total_Relationship_Count        6\n",
              "Months_Inactive_12_mon          7\n",
              "Contacts_Count_12_mon           7\n",
              "Credit_Limit                 6205\n",
              "Total_Revolving_Bal          1974\n",
              "Avg_Open_To_Buy              6813\n",
              "Total_Amt_Chng_Q4_Q1         1158\n",
              "Total_Trans_Amt              5033\n",
              "Total_Trans_Ct                126\n",
              "Total_Ct_Chng_Q4_Q1           830\n",
              "Avg_Utilization_Ratio         964\n",
              "dtype: int64"
            ]
          },
          "metadata": {},
          "execution_count": 12
        }
      ],
      "source": [
        "#Unique values for Numerical Columns\n",
        "data.select_dtypes(exclude=\"object\").nunique()"
      ]
    },
    {
      "cell_type": "markdown",
      "id": "194681d3-b36b-4e31-bb2e-0bebe38ecfa9",
      "metadata": {
        "id": "194681d3-b36b-4e31-bb2e-0bebe38ecfa9"
      },
      "source": [
        "Age has only 45 unique values i.e. most of the customers are of similar age"
      ]
    },
    {
      "cell_type": "code",
      "execution_count": 13,
      "id": "fc24f0ff-a629-4e95-b84c-98c77bf8d462",
      "metadata": {
        "colab": {
          "base_uri": "https://localhost:8080/",
          "height": 584
        },
        "id": "fc24f0ff-a629-4e95-b84c-98c77bf8d462",
        "outputId": "f0c56d79-ae29-4f76-d3f0-28c7598ad09f"
      },
      "outputs": [
        {
          "output_type": "execute_result",
          "data": {
            "text/plain": [
              "                             count          mean          std           min  \\\n",
              "CLIENTNUM                10127.000 739177606.334 36903783.450 708082083.000   \n",
              "Customer_Age             10127.000        46.326        8.017        26.000   \n",
              "Dependent_count          10127.000         2.346        1.299         0.000   \n",
              "Months_on_book           10127.000        35.928        7.986        13.000   \n",
              "Total_Relationship_Count 10127.000         3.813        1.554         1.000   \n",
              "Months_Inactive_12_mon   10127.000         2.341        1.011         0.000   \n",
              "Contacts_Count_12_mon    10127.000         2.455        1.106         0.000   \n",
              "Credit_Limit             10127.000      8631.954     9088.777      1438.300   \n",
              "Total_Revolving_Bal      10127.000      1162.814      814.987         0.000   \n",
              "Avg_Open_To_Buy          10127.000      7469.140     9090.685         3.000   \n",
              "Total_Amt_Chng_Q4_Q1     10127.000         0.760        0.219         0.000   \n",
              "Total_Trans_Amt          10127.000      4404.086     3397.129       510.000   \n",
              "Total_Trans_Ct           10127.000        64.859       23.473        10.000   \n",
              "Total_Ct_Chng_Q4_Q1      10127.000         0.712        0.238         0.000   \n",
              "Avg_Utilization_Ratio    10127.000         0.275        0.276         0.000   \n",
              "\n",
              "                                   25%           50%           75%  \\\n",
              "CLIENTNUM                713036770.500 717926358.000 773143533.000   \n",
              "Customer_Age                    41.000        46.000        52.000   \n",
              "Dependent_count                  1.000         2.000         3.000   \n",
              "Months_on_book                  31.000        36.000        40.000   \n",
              "Total_Relationship_Count         3.000         4.000         5.000   \n",
              "Months_Inactive_12_mon           2.000         2.000         3.000   \n",
              "Contacts_Count_12_mon            2.000         2.000         3.000   \n",
              "Credit_Limit                  2555.000      4549.000     11067.500   \n",
              "Total_Revolving_Bal            359.000      1276.000      1784.000   \n",
              "Avg_Open_To_Buy               1324.500      3474.000      9859.000   \n",
              "Total_Amt_Chng_Q4_Q1             0.631         0.736         0.859   \n",
              "Total_Trans_Amt               2155.500      3899.000      4741.000   \n",
              "Total_Trans_Ct                  45.000        67.000        81.000   \n",
              "Total_Ct_Chng_Q4_Q1              0.582         0.702         0.818   \n",
              "Avg_Utilization_Ratio            0.023         0.176         0.503   \n",
              "\n",
              "                                   max  \n",
              "CLIENTNUM                828343083.000  \n",
              "Customer_Age                    73.000  \n",
              "Dependent_count                  5.000  \n",
              "Months_on_book                  56.000  \n",
              "Total_Relationship_Count         6.000  \n",
              "Months_Inactive_12_mon           6.000  \n",
              "Contacts_Count_12_mon            6.000  \n",
              "Credit_Limit                 34516.000  \n",
              "Total_Revolving_Bal           2517.000  \n",
              "Avg_Open_To_Buy              34516.000  \n",
              "Total_Amt_Chng_Q4_Q1             3.397  \n",
              "Total_Trans_Amt              18484.000  \n",
              "Total_Trans_Ct                 139.000  \n",
              "Total_Ct_Chng_Q4_Q1              3.714  \n",
              "Avg_Utilization_Ratio            0.999  "
            ],
            "text/html": [
              "\n",
              "  <div id=\"df-490399c4-1f78-4c4f-9a56-98d184c54966\">\n",
              "    <div class=\"colab-df-container\">\n",
              "      <div>\n",
              "<style scoped>\n",
              "    .dataframe tbody tr th:only-of-type {\n",
              "        vertical-align: middle;\n",
              "    }\n",
              "\n",
              "    .dataframe tbody tr th {\n",
              "        vertical-align: top;\n",
              "    }\n",
              "\n",
              "    .dataframe thead th {\n",
              "        text-align: right;\n",
              "    }\n",
              "</style>\n",
              "<table border=\"1\" class=\"dataframe\">\n",
              "  <thead>\n",
              "    <tr style=\"text-align: right;\">\n",
              "      <th></th>\n",
              "      <th>count</th>\n",
              "      <th>mean</th>\n",
              "      <th>std</th>\n",
              "      <th>min</th>\n",
              "      <th>25%</th>\n",
              "      <th>50%</th>\n",
              "      <th>75%</th>\n",
              "      <th>max</th>\n",
              "    </tr>\n",
              "  </thead>\n",
              "  <tbody>\n",
              "    <tr>\n",
              "      <th>CLIENTNUM</th>\n",
              "      <td>10127.000</td>\n",
              "      <td>739177606.334</td>\n",
              "      <td>36903783.450</td>\n",
              "      <td>708082083.000</td>\n",
              "      <td>713036770.500</td>\n",
              "      <td>717926358.000</td>\n",
              "      <td>773143533.000</td>\n",
              "      <td>828343083.000</td>\n",
              "    </tr>\n",
              "    <tr>\n",
              "      <th>Customer_Age</th>\n",
              "      <td>10127.000</td>\n",
              "      <td>46.326</td>\n",
              "      <td>8.017</td>\n",
              "      <td>26.000</td>\n",
              "      <td>41.000</td>\n",
              "      <td>46.000</td>\n",
              "      <td>52.000</td>\n",
              "      <td>73.000</td>\n",
              "    </tr>\n",
              "    <tr>\n",
              "      <th>Dependent_count</th>\n",
              "      <td>10127.000</td>\n",
              "      <td>2.346</td>\n",
              "      <td>1.299</td>\n",
              "      <td>0.000</td>\n",
              "      <td>1.000</td>\n",
              "      <td>2.000</td>\n",
              "      <td>3.000</td>\n",
              "      <td>5.000</td>\n",
              "    </tr>\n",
              "    <tr>\n",
              "      <th>Months_on_book</th>\n",
              "      <td>10127.000</td>\n",
              "      <td>35.928</td>\n",
              "      <td>7.986</td>\n",
              "      <td>13.000</td>\n",
              "      <td>31.000</td>\n",
              "      <td>36.000</td>\n",
              "      <td>40.000</td>\n",
              "      <td>56.000</td>\n",
              "    </tr>\n",
              "    <tr>\n",
              "      <th>Total_Relationship_Count</th>\n",
              "      <td>10127.000</td>\n",
              "      <td>3.813</td>\n",
              "      <td>1.554</td>\n",
              "      <td>1.000</td>\n",
              "      <td>3.000</td>\n",
              "      <td>4.000</td>\n",
              "      <td>5.000</td>\n",
              "      <td>6.000</td>\n",
              "    </tr>\n",
              "    <tr>\n",
              "      <th>Months_Inactive_12_mon</th>\n",
              "      <td>10127.000</td>\n",
              "      <td>2.341</td>\n",
              "      <td>1.011</td>\n",
              "      <td>0.000</td>\n",
              "      <td>2.000</td>\n",
              "      <td>2.000</td>\n",
              "      <td>3.000</td>\n",
              "      <td>6.000</td>\n",
              "    </tr>\n",
              "    <tr>\n",
              "      <th>Contacts_Count_12_mon</th>\n",
              "      <td>10127.000</td>\n",
              "      <td>2.455</td>\n",
              "      <td>1.106</td>\n",
              "      <td>0.000</td>\n",
              "      <td>2.000</td>\n",
              "      <td>2.000</td>\n",
              "      <td>3.000</td>\n",
              "      <td>6.000</td>\n",
              "    </tr>\n",
              "    <tr>\n",
              "      <th>Credit_Limit</th>\n",
              "      <td>10127.000</td>\n",
              "      <td>8631.954</td>\n",
              "      <td>9088.777</td>\n",
              "      <td>1438.300</td>\n",
              "      <td>2555.000</td>\n",
              "      <td>4549.000</td>\n",
              "      <td>11067.500</td>\n",
              "      <td>34516.000</td>\n",
              "    </tr>\n",
              "    <tr>\n",
              "      <th>Total_Revolving_Bal</th>\n",
              "      <td>10127.000</td>\n",
              "      <td>1162.814</td>\n",
              "      <td>814.987</td>\n",
              "      <td>0.000</td>\n",
              "      <td>359.000</td>\n",
              "      <td>1276.000</td>\n",
              "      <td>1784.000</td>\n",
              "      <td>2517.000</td>\n",
              "    </tr>\n",
              "    <tr>\n",
              "      <th>Avg_Open_To_Buy</th>\n",
              "      <td>10127.000</td>\n",
              "      <td>7469.140</td>\n",
              "      <td>9090.685</td>\n",
              "      <td>3.000</td>\n",
              "      <td>1324.500</td>\n",
              "      <td>3474.000</td>\n",
              "      <td>9859.000</td>\n",
              "      <td>34516.000</td>\n",
              "    </tr>\n",
              "    <tr>\n",
              "      <th>Total_Amt_Chng_Q4_Q1</th>\n",
              "      <td>10127.000</td>\n",
              "      <td>0.760</td>\n",
              "      <td>0.219</td>\n",
              "      <td>0.000</td>\n",
              "      <td>0.631</td>\n",
              "      <td>0.736</td>\n",
              "      <td>0.859</td>\n",
              "      <td>3.397</td>\n",
              "    </tr>\n",
              "    <tr>\n",
              "      <th>Total_Trans_Amt</th>\n",
              "      <td>10127.000</td>\n",
              "      <td>4404.086</td>\n",
              "      <td>3397.129</td>\n",
              "      <td>510.000</td>\n",
              "      <td>2155.500</td>\n",
              "      <td>3899.000</td>\n",
              "      <td>4741.000</td>\n",
              "      <td>18484.000</td>\n",
              "    </tr>\n",
              "    <tr>\n",
              "      <th>Total_Trans_Ct</th>\n",
              "      <td>10127.000</td>\n",
              "      <td>64.859</td>\n",
              "      <td>23.473</td>\n",
              "      <td>10.000</td>\n",
              "      <td>45.000</td>\n",
              "      <td>67.000</td>\n",
              "      <td>81.000</td>\n",
              "      <td>139.000</td>\n",
              "    </tr>\n",
              "    <tr>\n",
              "      <th>Total_Ct_Chng_Q4_Q1</th>\n",
              "      <td>10127.000</td>\n",
              "      <td>0.712</td>\n",
              "      <td>0.238</td>\n",
              "      <td>0.000</td>\n",
              "      <td>0.582</td>\n",
              "      <td>0.702</td>\n",
              "      <td>0.818</td>\n",
              "      <td>3.714</td>\n",
              "    </tr>\n",
              "    <tr>\n",
              "      <th>Avg_Utilization_Ratio</th>\n",
              "      <td>10127.000</td>\n",
              "      <td>0.275</td>\n",
              "      <td>0.276</td>\n",
              "      <td>0.000</td>\n",
              "      <td>0.023</td>\n",
              "      <td>0.176</td>\n",
              "      <td>0.503</td>\n",
              "      <td>0.999</td>\n",
              "    </tr>\n",
              "  </tbody>\n",
              "</table>\n",
              "</div>\n",
              "      <button class=\"colab-df-convert\" onclick=\"convertToInteractive('df-490399c4-1f78-4c4f-9a56-98d184c54966')\"\n",
              "              title=\"Convert this dataframe to an interactive table.\"\n",
              "              style=\"display:none;\">\n",
              "        \n",
              "  <svg xmlns=\"http://www.w3.org/2000/svg\" height=\"24px\"viewBox=\"0 0 24 24\"\n",
              "       width=\"24px\">\n",
              "    <path d=\"M0 0h24v24H0V0z\" fill=\"none\"/>\n",
              "    <path d=\"M18.56 5.44l.94 2.06.94-2.06 2.06-.94-2.06-.94-.94-2.06-.94 2.06-2.06.94zm-11 1L8.5 8.5l.94-2.06 2.06-.94-2.06-.94L8.5 2.5l-.94 2.06-2.06.94zm10 10l.94 2.06.94-2.06 2.06-.94-2.06-.94-.94-2.06-.94 2.06-2.06.94z\"/><path d=\"M17.41 7.96l-1.37-1.37c-.4-.4-.92-.59-1.43-.59-.52 0-1.04.2-1.43.59L10.3 9.45l-7.72 7.72c-.78.78-.78 2.05 0 2.83L4 21.41c.39.39.9.59 1.41.59.51 0 1.02-.2 1.41-.59l7.78-7.78 2.81-2.81c.8-.78.8-2.07 0-2.86zM5.41 20L4 18.59l7.72-7.72 1.47 1.35L5.41 20z\"/>\n",
              "  </svg>\n",
              "      </button>\n",
              "      \n",
              "  <style>\n",
              "    .colab-df-container {\n",
              "      display:flex;\n",
              "      flex-wrap:wrap;\n",
              "      gap: 12px;\n",
              "    }\n",
              "\n",
              "    .colab-df-convert {\n",
              "      background-color: #E8F0FE;\n",
              "      border: none;\n",
              "      border-radius: 50%;\n",
              "      cursor: pointer;\n",
              "      display: none;\n",
              "      fill: #1967D2;\n",
              "      height: 32px;\n",
              "      padding: 0 0 0 0;\n",
              "      width: 32px;\n",
              "    }\n",
              "\n",
              "    .colab-df-convert:hover {\n",
              "      background-color: #E2EBFA;\n",
              "      box-shadow: 0px 1px 2px rgba(60, 64, 67, 0.3), 0px 1px 3px 1px rgba(60, 64, 67, 0.15);\n",
              "      fill: #174EA6;\n",
              "    }\n",
              "\n",
              "    [theme=dark] .colab-df-convert {\n",
              "      background-color: #3B4455;\n",
              "      fill: #D2E3FC;\n",
              "    }\n",
              "\n",
              "    [theme=dark] .colab-df-convert:hover {\n",
              "      background-color: #434B5C;\n",
              "      box-shadow: 0px 1px 3px 1px rgba(0, 0, 0, 0.15);\n",
              "      filter: drop-shadow(0px 1px 2px rgba(0, 0, 0, 0.3));\n",
              "      fill: #FFFFFF;\n",
              "    }\n",
              "  </style>\n",
              "\n",
              "      <script>\n",
              "        const buttonEl =\n",
              "          document.querySelector('#df-490399c4-1f78-4c4f-9a56-98d184c54966 button.colab-df-convert');\n",
              "        buttonEl.style.display =\n",
              "          google.colab.kernel.accessAllowed ? 'block' : 'none';\n",
              "\n",
              "        async function convertToInteractive(key) {\n",
              "          const element = document.querySelector('#df-490399c4-1f78-4c4f-9a56-98d184c54966');\n",
              "          const dataTable =\n",
              "            await google.colab.kernel.invokeFunction('convertToInteractive',\n",
              "                                                     [key], {});\n",
              "          if (!dataTable) return;\n",
              "\n",
              "          const docLinkHtml = 'Like what you see? Visit the ' +\n",
              "            '<a target=\"_blank\" href=https://colab.research.google.com/notebooks/data_table.ipynb>data table notebook</a>'\n",
              "            + ' to learn more about interactive tables.';\n",
              "          element.innerHTML = '';\n",
              "          dataTable['output_type'] = 'display_data';\n",
              "          await google.colab.output.renderOutput(dataTable, element);\n",
              "          const docLink = document.createElement('div');\n",
              "          docLink.innerHTML = docLinkHtml;\n",
              "          element.appendChild(docLink);\n",
              "        }\n",
              "      </script>\n",
              "    </div>\n",
              "  </div>\n",
              "  "
            ]
          },
          "metadata": {},
          "execution_count": 13
        }
      ],
      "source": [
        "# let's view the statistical summary of the numerical columns in the data\n",
        "data.describe().T"
      ]
    },
    {
      "cell_type": "markdown",
      "id": "2d61e065-0d0b-4136-8243-f1396580c4a2",
      "metadata": {
        "id": "2d61e065-0d0b-4136-8243-f1396580c4a2"
      },
      "source": [
        "-Mean value for the Customer Age column is approx 46 and the median is also 46. This shows that majority of the customers are under 46 years of age.\n",
        "-Dependent Count column has mean and median of ~2\n",
        "-Months on Book column has mean and median of 36 months. Minimum value is 13 months, showing that the dataset captures data for customers with the bank at least 1 whole years\n",
        "-Total Relationship Count has mean and median of ~4\n",
        "-Credit Limit has a wide range of 1.4K to 34.5K, the median being 4.5K, way less than the mean 8.6K\n",
        "-Total Transaction Count has mean of ~65 and median of 67"
      ]
    },
    {
      "cell_type": "code",
      "execution_count": 14,
      "id": "fddf0e01-b326-40b0-9f85-afa65df2c100",
      "metadata": {
        "colab": {
          "base_uri": "https://localhost:8080/",
          "height": 237
        },
        "id": "fddf0e01-b326-40b0-9f85-afa65df2c100",
        "outputId": "be2ca017-d4eb-4b05-966d-89dcaee2dc10"
      },
      "outputs": [
        {
          "output_type": "execute_result",
          "data": {
            "text/plain": [
              "                 count unique                top  freq\n",
              "Attrition_Flag   10127      2  Existing Customer  8500\n",
              "Gender           10127      2                  F  5358\n",
              "Education_Level  10127      7           Graduate  3128\n",
              "Marital_Status   10127      4            Married  4687\n",
              "Income_Category  10127      6     Less than $40K  3561\n",
              "Card_Category    10127      4               Blue  9436"
            ],
            "text/html": [
              "\n",
              "  <div id=\"df-6e68d171-86cc-4ba9-8c51-f18d5ce63903\">\n",
              "    <div class=\"colab-df-container\">\n",
              "      <div>\n",
              "<style scoped>\n",
              "    .dataframe tbody tr th:only-of-type {\n",
              "        vertical-align: middle;\n",
              "    }\n",
              "\n",
              "    .dataframe tbody tr th {\n",
              "        vertical-align: top;\n",
              "    }\n",
              "\n",
              "    .dataframe thead th {\n",
              "        text-align: right;\n",
              "    }\n",
              "</style>\n",
              "<table border=\"1\" class=\"dataframe\">\n",
              "  <thead>\n",
              "    <tr style=\"text-align: right;\">\n",
              "      <th></th>\n",
              "      <th>count</th>\n",
              "      <th>unique</th>\n",
              "      <th>top</th>\n",
              "      <th>freq</th>\n",
              "    </tr>\n",
              "  </thead>\n",
              "  <tbody>\n",
              "    <tr>\n",
              "      <th>Attrition_Flag</th>\n",
              "      <td>10127</td>\n",
              "      <td>2</td>\n",
              "      <td>Existing Customer</td>\n",
              "      <td>8500</td>\n",
              "    </tr>\n",
              "    <tr>\n",
              "      <th>Gender</th>\n",
              "      <td>10127</td>\n",
              "      <td>2</td>\n",
              "      <td>F</td>\n",
              "      <td>5358</td>\n",
              "    </tr>\n",
              "    <tr>\n",
              "      <th>Education_Level</th>\n",
              "      <td>10127</td>\n",
              "      <td>7</td>\n",
              "      <td>Graduate</td>\n",
              "      <td>3128</td>\n",
              "    </tr>\n",
              "    <tr>\n",
              "      <th>Marital_Status</th>\n",
              "      <td>10127</td>\n",
              "      <td>4</td>\n",
              "      <td>Married</td>\n",
              "      <td>4687</td>\n",
              "    </tr>\n",
              "    <tr>\n",
              "      <th>Income_Category</th>\n",
              "      <td>10127</td>\n",
              "      <td>6</td>\n",
              "      <td>Less than $40K</td>\n",
              "      <td>3561</td>\n",
              "    </tr>\n",
              "    <tr>\n",
              "      <th>Card_Category</th>\n",
              "      <td>10127</td>\n",
              "      <td>4</td>\n",
              "      <td>Blue</td>\n",
              "      <td>9436</td>\n",
              "    </tr>\n",
              "  </tbody>\n",
              "</table>\n",
              "</div>\n",
              "      <button class=\"colab-df-convert\" onclick=\"convertToInteractive('df-6e68d171-86cc-4ba9-8c51-f18d5ce63903')\"\n",
              "              title=\"Convert this dataframe to an interactive table.\"\n",
              "              style=\"display:none;\">\n",
              "        \n",
              "  <svg xmlns=\"http://www.w3.org/2000/svg\" height=\"24px\"viewBox=\"0 0 24 24\"\n",
              "       width=\"24px\">\n",
              "    <path d=\"M0 0h24v24H0V0z\" fill=\"none\"/>\n",
              "    <path d=\"M18.56 5.44l.94 2.06.94-2.06 2.06-.94-2.06-.94-.94-2.06-.94 2.06-2.06.94zm-11 1L8.5 8.5l.94-2.06 2.06-.94-2.06-.94L8.5 2.5l-.94 2.06-2.06.94zm10 10l.94 2.06.94-2.06 2.06-.94-2.06-.94-.94-2.06-.94 2.06-2.06.94z\"/><path d=\"M17.41 7.96l-1.37-1.37c-.4-.4-.92-.59-1.43-.59-.52 0-1.04.2-1.43.59L10.3 9.45l-7.72 7.72c-.78.78-.78 2.05 0 2.83L4 21.41c.39.39.9.59 1.41.59.51 0 1.02-.2 1.41-.59l7.78-7.78 2.81-2.81c.8-.78.8-2.07 0-2.86zM5.41 20L4 18.59l7.72-7.72 1.47 1.35L5.41 20z\"/>\n",
              "  </svg>\n",
              "      </button>\n",
              "      \n",
              "  <style>\n",
              "    .colab-df-container {\n",
              "      display:flex;\n",
              "      flex-wrap:wrap;\n",
              "      gap: 12px;\n",
              "    }\n",
              "\n",
              "    .colab-df-convert {\n",
              "      background-color: #E8F0FE;\n",
              "      border: none;\n",
              "      border-radius: 50%;\n",
              "      cursor: pointer;\n",
              "      display: none;\n",
              "      fill: #1967D2;\n",
              "      height: 32px;\n",
              "      padding: 0 0 0 0;\n",
              "      width: 32px;\n",
              "    }\n",
              "\n",
              "    .colab-df-convert:hover {\n",
              "      background-color: #E2EBFA;\n",
              "      box-shadow: 0px 1px 2px rgba(60, 64, 67, 0.3), 0px 1px 3px 1px rgba(60, 64, 67, 0.15);\n",
              "      fill: #174EA6;\n",
              "    }\n",
              "\n",
              "    [theme=dark] .colab-df-convert {\n",
              "      background-color: #3B4455;\n",
              "      fill: #D2E3FC;\n",
              "    }\n",
              "\n",
              "    [theme=dark] .colab-df-convert:hover {\n",
              "      background-color: #434B5C;\n",
              "      box-shadow: 0px 1px 3px 1px rgba(0, 0, 0, 0.15);\n",
              "      filter: drop-shadow(0px 1px 2px rgba(0, 0, 0, 0.3));\n",
              "      fill: #FFFFFF;\n",
              "    }\n",
              "  </style>\n",
              "\n",
              "      <script>\n",
              "        const buttonEl =\n",
              "          document.querySelector('#df-6e68d171-86cc-4ba9-8c51-f18d5ce63903 button.colab-df-convert');\n",
              "        buttonEl.style.display =\n",
              "          google.colab.kernel.accessAllowed ? 'block' : 'none';\n",
              "\n",
              "        async function convertToInteractive(key) {\n",
              "          const element = document.querySelector('#df-6e68d171-86cc-4ba9-8c51-f18d5ce63903');\n",
              "          const dataTable =\n",
              "            await google.colab.kernel.invokeFunction('convertToInteractive',\n",
              "                                                     [key], {});\n",
              "          if (!dataTable) return;\n",
              "\n",
              "          const docLinkHtml = 'Like what you see? Visit the ' +\n",
              "            '<a target=\"_blank\" href=https://colab.research.google.com/notebooks/data_table.ipynb>data table notebook</a>'\n",
              "            + ' to learn more about interactive tables.';\n",
              "          element.innerHTML = '';\n",
              "          dataTable['output_type'] = 'display_data';\n",
              "          await google.colab.output.renderOutput(dataTable, element);\n",
              "          const docLink = document.createElement('div');\n",
              "          docLink.innerHTML = docLinkHtml;\n",
              "          element.appendChild(docLink);\n",
              "        }\n",
              "      </script>\n",
              "    </div>\n",
              "  </div>\n",
              "  "
            ]
          },
          "metadata": {},
          "execution_count": 14
        }
      ],
      "source": [
        "# let's view the statistical summary of the categorical columns in the data\n",
        "data.describe(include=\"object\").T"
      ]
    },
    {
      "cell_type": "code",
      "execution_count": 15,
      "id": "6e7372db-6d03-40d2-82bc-4e492fd4dd33",
      "metadata": {
        "id": "6e7372db-6d03-40d2-82bc-4e492fd4dd33"
      },
      "outputs": [],
      "source": [
        "# Below function prints unique value counts and percentages for the category/object type variables\n",
        "\n",
        "\n",
        "def category_unique_value():\n",
        "    for cat_cols in (\n",
        "        data.select_dtypes(exclude=[np.int64, np.float64]).columns.unique().to_list()\n",
        "    ):\n",
        "        print(\"Unique values and corresponding data counts for feature: \" + cat_cols)\n",
        "        print(\"-\" * 90)\n",
        "        df_temp = pd.concat(\n",
        "            [\n",
        "                data[cat_cols].value_counts(),\n",
        "                data[cat_cols].value_counts(normalize=True) * 100,\n",
        "            ],\n",
        "            axis=1,\n",
        "        )\n",
        "        df_temp.columns = [\"Count\", \"Percentage\"]\n",
        "        print(df_temp)\n",
        "        print(\"-\" * 90)"
      ]
    },
    {
      "cell_type": "code",
      "execution_count": 16,
      "id": "aa3ce3f2-507d-4cc9-9a23-f8ecc02a98d0",
      "metadata": {
        "colab": {
          "base_uri": "https://localhost:8080/"
        },
        "id": "aa3ce3f2-507d-4cc9-9a23-f8ecc02a98d0",
        "outputId": "6433628f-0647-44f6-bc34-41746d159a06"
      },
      "outputs": [
        {
          "output_type": "stream",
          "name": "stdout",
          "text": [
            "Unique values and corresponding data counts for feature: Attrition_Flag\n",
            "------------------------------------------------------------------------------------------\n",
            "                   Count  Percentage\n",
            "Existing Customer   8500      83.934\n",
            "Attrited Customer   1627      16.066\n",
            "------------------------------------------------------------------------------------------\n",
            "Unique values and corresponding data counts for feature: Gender\n",
            "------------------------------------------------------------------------------------------\n",
            "   Count  Percentage\n",
            "F   5358      52.908\n",
            "M   4769      47.092\n",
            "------------------------------------------------------------------------------------------\n",
            "Unique values and corresponding data counts for feature: Education_Level\n",
            "------------------------------------------------------------------------------------------\n",
            "               Count  Percentage\n",
            "Graduate        3128      30.888\n",
            "High School     2013      19.878\n",
            "Unknown         1519      15.000\n",
            "Uneducated      1487      14.684\n",
            "College         1013      10.003\n",
            "Post-Graduate    516       5.095\n",
            "Doctorate        451       4.453\n",
            "------------------------------------------------------------------------------------------\n",
            "Unique values and corresponding data counts for feature: Marital_Status\n",
            "------------------------------------------------------------------------------------------\n",
            "          Count  Percentage\n",
            "Married    4687      46.282\n",
            "Single     3943      38.936\n",
            "Unknown     749       7.396\n",
            "Divorced    748       7.386\n",
            "------------------------------------------------------------------------------------------\n",
            "Unique values and corresponding data counts for feature: Income_Category\n",
            "------------------------------------------------------------------------------------------\n",
            "                Count  Percentage\n",
            "Less than $40K   3561      35.163\n",
            "$40K - $60K      1790      17.676\n",
            "$80K - $120K     1535      15.157\n",
            "$60K - $80K      1402      13.844\n",
            "Unknown          1112      10.981\n",
            "$120K +           727       7.179\n",
            "------------------------------------------------------------------------------------------\n",
            "Unique values and corresponding data counts for feature: Card_Category\n",
            "------------------------------------------------------------------------------------------\n",
            "          Count  Percentage\n",
            "Blue       9436      93.177\n",
            "Silver      555       5.480\n",
            "Gold        116       1.145\n",
            "Platinum     20       0.197\n",
            "------------------------------------------------------------------------------------------\n"
          ]
        }
      ],
      "source": [
        "category_unique_value()"
      ]
    },
    {
      "cell_type": "markdown",
      "id": "ff6bcd39-aee2-4399-8698-41a747f4df12",
      "metadata": {
        "id": "ff6bcd39-aee2-4399-8698-41a747f4df12"
      },
      "source": [
        "The target variable Attrition Flag has Existing to Attrited ratio of 83.9 : 16.1. There is imbalance in the dataset\n",
        "~93% customers are having Blue Card\n",
        "Income Category has a value abc for 10% records, which we'll change to Unknown"
      ]
    },
    {
      "cell_type": "markdown",
      "id": "bbe28285-4ad7-494c-adc8-3773c0f36457",
      "metadata": {
        "id": "bbe28285-4ad7-494c-adc8-3773c0f36457"
      },
      "source": [
        "Pre-EDA data processing"
      ]
    },
    {
      "cell_type": "code",
      "execution_count": 17,
      "id": "2a9e7109-6e43-4ac4-90c2-f5e4ca330ed4",
      "metadata": {
        "id": "2a9e7109-6e43-4ac4-90c2-f5e4ca330ed4"
      },
      "outputs": [],
      "source": [
        "#drop column Clientnum\n",
        "data.drop(columns=[\"CLIENTNUM\"], inplace=True)"
      ]
    },
    {
      "cell_type": "markdown",
      "id": "4c651c5d-1949-416b-9e14-2e20788b5fbb",
      "metadata": {
        "id": "4c651c5d-1949-416b-9e14-2e20788b5fbb"
      },
      "source": [
        "Treating missing values in Education Level and Marital Status\n",
        "Note:   The missing value treatment should be done after splitting the data into Train, Validation and Test sets. However, in this case, the treatment is generic, since we are filling in the data with Unknown. Thus, the treatment can be done on the overall dataset. Similar strategy is applicable for treating the Income Category column value abc"
      ]
    },
    {
      "cell_type": "code",
      "execution_count": 18,
      "id": "987abf76-45c5-49d3-8dfc-9d6e6841e938",
      "metadata": {
        "id": "987abf76-45c5-49d3-8dfc-9d6e6841e938"
      },
      "outputs": [],
      "source": [
        "data[\"Education_Level\"] = data[\"Education_Level\"].fillna(\"Unknown\")\n",
        "data[\"Marital_Status\"] = data[\"Marital_Status\"].fillna(\"Unknown\")"
      ]
    },
    {
      "cell_type": "markdown",
      "id": "416b1684-6a61-41e6-bf4b-c56742e1f61a",
      "metadata": {
        "id": "416b1684-6a61-41e6-bf4b-c56742e1f61a"
      },
      "source": [
        "Treating Income Category = abc"
      ]
    },
    {
      "cell_type": "code",
      "execution_count": 19,
      "id": "56b537df-0042-4419-a1b6-b6e69fe72151",
      "metadata": {
        "id": "56b537df-0042-4419-a1b6-b6e69fe72151"
      },
      "outputs": [],
      "source": [
        "data.loc[data[data[\"Income_Category\"] == \"abc\"].index, \"Income_Category\"] = \"Unknown\""
      ]
    },
    {
      "cell_type": "code",
      "execution_count": 20,
      "id": "b2cf27c0-e439-4fdb-bd5f-b57fb1802128",
      "metadata": {
        "colab": {
          "base_uri": "https://localhost:8080/"
        },
        "id": "b2cf27c0-e439-4fdb-bd5f-b57fb1802128",
        "outputId": "4fffa35a-9d7f-4b4a-bca7-7fe68250c6d7"
      },
      "outputs": [
        {
          "output_type": "stream",
          "name": "stdout",
          "text": [
            "Unique values and corresponding data counts for feature: Attrition_Flag\n",
            "------------------------------------------------------------------------------------------\n",
            "                   Count  Percentage\n",
            "Existing Customer   8500      83.934\n",
            "Attrited Customer   1627      16.066\n",
            "------------------------------------------------------------------------------------------\n",
            "Unique values and corresponding data counts for feature: Gender\n",
            "------------------------------------------------------------------------------------------\n",
            "   Count  Percentage\n",
            "F   5358      52.908\n",
            "M   4769      47.092\n",
            "------------------------------------------------------------------------------------------\n",
            "Unique values and corresponding data counts for feature: Education_Level\n",
            "------------------------------------------------------------------------------------------\n",
            "               Count  Percentage\n",
            "Graduate        3128      30.888\n",
            "High School     2013      19.878\n",
            "Unknown         1519      15.000\n",
            "Uneducated      1487      14.684\n",
            "College         1013      10.003\n",
            "Post-Graduate    516       5.095\n",
            "Doctorate        451       4.453\n",
            "------------------------------------------------------------------------------------------\n",
            "Unique values and corresponding data counts for feature: Marital_Status\n",
            "------------------------------------------------------------------------------------------\n",
            "          Count  Percentage\n",
            "Married    4687      46.282\n",
            "Single     3943      38.936\n",
            "Unknown     749       7.396\n",
            "Divorced    748       7.386\n",
            "------------------------------------------------------------------------------------------\n",
            "Unique values and corresponding data counts for feature: Income_Category\n",
            "------------------------------------------------------------------------------------------\n",
            "                Count  Percentage\n",
            "Less than $40K   3561      35.163\n",
            "$40K - $60K      1790      17.676\n",
            "$80K - $120K     1535      15.157\n",
            "$60K - $80K      1402      13.844\n",
            "Unknown          1112      10.981\n",
            "$120K +           727       7.179\n",
            "------------------------------------------------------------------------------------------\n",
            "Unique values and corresponding data counts for feature: Card_Category\n",
            "------------------------------------------------------------------------------------------\n",
            "          Count  Percentage\n",
            "Blue       9436      93.177\n",
            "Silver      555       5.480\n",
            "Gold        116       1.145\n",
            "Platinum     20       0.197\n",
            "------------------------------------------------------------------------------------------\n"
          ]
        }
      ],
      "source": [
        "#Checking operation outcome\n",
        "category_unique_value()"
      ]
    },
    {
      "cell_type": "code",
      "execution_count": 21,
      "id": "d1753ceb-b501-422f-84de-a427642b0bed",
      "metadata": {
        "colab": {
          "base_uri": "https://localhost:8080/",
          "height": 49
        },
        "id": "d1753ceb-b501-422f-84de-a427642b0bed",
        "outputId": "a3e5314e-19d7-4ff3-d1f1-20bef5d6f3e6"
      },
      "outputs": [
        {
          "output_type": "execute_result",
          "data": {
            "text/plain": [
              "<pandas.io.formats.style.Styler at 0x7fa72d937610>"
            ],
            "text/html": [
              "<style type=\"text/css\">\n",
              "</style>\n",
              "<table id=\"T_76471_\" class=\"dataframe\">\n",
              "  <thead>\n",
              "    <tr>\n",
              "      <th class=\"blank level0\" >&nbsp;</th>\n",
              "      <th class=\"col_heading level0 col0\" >Null Record Count</th>\n",
              "      <th class=\"col_heading level0 col1\" >Percentage of Null Records</th>\n",
              "    </tr>\n",
              "  </thead>\n",
              "  <tbody>\n",
              "  </tbody>\n",
              "</table>\n"
            ]
          },
          "metadata": {},
          "execution_count": 21
        }
      ],
      "source": [
        "# let's check for missing values in the data\n",
        "df_null_summary = pd.concat(\n",
        "    [data.isnull().sum(), data.isnull().sum() * 100 / data.isnull().count()], axis=1\n",
        ")\n",
        "df_null_summary.columns = [\"Null Record Count\", \"Percentage of Null Records\"]\n",
        "df_null_summary[df_null_summary[\"Null Record Count\"] > 0].sort_values(\n",
        "    by=\"Percentage of Null Records\", ascending=False\n",
        ").style.background_gradient(cmap=\"YlOrRd\")"
      ]
    },
    {
      "cell_type": "markdown",
      "id": "a35e4bf5-0599-4fa1-963d-c2daf1a75ae3",
      "metadata": {
        "id": "a35e4bf5-0599-4fa1-963d-c2daf1a75ae3"
      },
      "source": [
        "All the null data values have been treated along with the incorrect/junk data in Income Category column"
      ]
    },
    {
      "cell_type": "markdown",
      "id": "d027b3b1-f367-45e5-921e-711994868ef5",
      "metadata": {
        "id": "d027b3b1-f367-45e5-921e-711994868ef5"
      },
      "source": [
        "Data type conversions\n",
        "Converting the data type of the category variables from object/float to category"
      ]
    },
    {
      "cell_type": "code",
      "execution_count": 22,
      "id": "626876e3-b0fb-4a24-b45e-de3f0a6d3353",
      "metadata": {
        "id": "626876e3-b0fb-4a24-b45e-de3f0a6d3353"
      },
      "outputs": [],
      "source": [
        "category_columns = data.select_dtypes(include=\"object\").columns.tolist()\n",
        "data[category_columns] = data[category_columns].astype(\"category\")"
      ]
    },
    {
      "cell_type": "markdown",
      "id": "ce660e6f-9209-438c-8f12-7d6e82379238",
      "metadata": {
        "id": "ce660e6f-9209-438c-8f12-7d6e82379238"
      },
      "source": [
        "Standardizing column names\n",
        "Removing the spaces from column names, and standardizing the column names to lower case"
      ]
    },
    {
      "cell_type": "code",
      "execution_count": 23,
      "id": "cde0992f-6daf-4fcc-86c9-af2928d11f4e",
      "metadata": {
        "id": "cde0992f-6daf-4fcc-86c9-af2928d11f4e"
      },
      "outputs": [],
      "source": [
        "data.columns = [i.replace(\" \", \"_\").lower() for i in data.columns]"
      ]
    },
    {
      "cell_type": "code",
      "execution_count": 24,
      "id": "52c752bb-e67c-4bb2-9394-2e984548fc17",
      "metadata": {
        "colab": {
          "base_uri": "https://localhost:8080/"
        },
        "id": "52c752bb-e67c-4bb2-9394-2e984548fc17",
        "outputId": "41289603-3e75-4421-a862-1722b8e32f27"
      },
      "outputs": [
        {
          "output_type": "stream",
          "name": "stdout",
          "text": [
            "<class 'pandas.core.frame.DataFrame'>\n",
            "RangeIndex: 10127 entries, 0 to 10126\n",
            "Data columns (total 20 columns):\n",
            " #   Column                    Non-Null Count  Dtype   \n",
            "---  ------                    --------------  -----   \n",
            " 0   attrition_flag            10127 non-null  category\n",
            " 1   customer_age              10127 non-null  int64   \n",
            " 2   gender                    10127 non-null  category\n",
            " 3   dependent_count           10127 non-null  int64   \n",
            " 4   education_level           10127 non-null  category\n",
            " 5   marital_status            10127 non-null  category\n",
            " 6   income_category           10127 non-null  category\n",
            " 7   card_category             10127 non-null  category\n",
            " 8   months_on_book            10127 non-null  int64   \n",
            " 9   total_relationship_count  10127 non-null  int64   \n",
            " 10  months_inactive_12_mon    10127 non-null  int64   \n",
            " 11  contacts_count_12_mon     10127 non-null  int64   \n",
            " 12  credit_limit              10127 non-null  float64 \n",
            " 13  total_revolving_bal       10127 non-null  int64   \n",
            " 14  avg_open_to_buy           10127 non-null  float64 \n",
            " 15  total_amt_chng_q4_q1      10127 non-null  float64 \n",
            " 16  total_trans_amt           10127 non-null  int64   \n",
            " 17  total_trans_ct            10127 non-null  int64   \n",
            " 18  total_ct_chng_q4_q1       10127 non-null  float64 \n",
            " 19  avg_utilization_ratio     10127 non-null  float64 \n",
            "dtypes: category(6), float64(5), int64(9)\n",
            "memory usage: 1.1 MB\n"
          ]
        }
      ],
      "source": [
        "data.info()"
      ]
    },
    {
      "cell_type": "markdown",
      "id": "599c17f4-6d85-4d55-ba46-e93daaf14fee",
      "metadata": {
        "id": "599c17f4-6d85-4d55-ba46-e93daaf14fee"
      },
      "source": [
        "We'll move on to data analysis now"
      ]
    },
    {
      "cell_type": "markdown",
      "id": "50041133-732d-4c1e-bd07-41f3a8140474",
      "metadata": {
        "id": "50041133-732d-4c1e-bd07-41f3a8140474"
      },
      "source": [
        "Exploratory Data Analysis\n",
        "Univariate Analysis\n",
        "Numerical Feature Summary\n",
        "The first step of univariate analysis is to check the distribution/spread of the data. This is done using primarily histograms and box plots. Additionally we'll plot each numerical feature on violin plot and cumulative density distribution plot. For these 4 kind of plots, we are building below summary() function to plot each of the numerical attributes. Also, we'll display feature-wise 5 point summary."
      ]
    },
    {
      "cell_type": "code",
      "execution_count": 25,
      "id": "2d86d4bf-f106-4c7e-8240-a6e8fdee6922",
      "metadata": {
        "id": "2d86d4bf-f106-4c7e-8240-a6e8fdee6922"
      },
      "outputs": [],
      "source": [
        "def summary(data: pd.DataFrame, x: str):\n",
        "    \"\"\"\n",
        "    The function prints the 5 point summary and histogram, box plot,\n",
        "    violin plot, and cumulative density distribution plots for each\n",
        "    feature name passed as the argument.\n",
        "\n",
        "    Parameters:\n",
        "    ----------\n",
        "\n",
        "    x: str, feature name\n",
        "\n",
        "    Usage:\n",
        "    ------------\n",
        "\n",
        "    summary('age')\n",
        "    \"\"\"\n",
        "    x_min = data[x].min()\n",
        "    x_max = data[x].max()\n",
        "    Q1 = data[x].quantile(0.25)\n",
        "    Q2 = data[x].quantile(0.50)\n",
        "    Q3 = data[x].quantile(0.75)\n",
        "\n",
        "    dict = {\"Min\": x_min, \"Q1\": Q1, \"Q2\": Q2, \"Q3\": Q3, \"Max\": x_max}\n",
        "    df = pd.DataFrame(data=dict, index=[\"Value\"])\n",
        "    print(f\"5 Point Summary of {x.capitalize()} Attribute:\\n\")\n",
        "    print(tabulate(df, headers=\"keys\", tablefmt=\"psql\"))\n",
        "\n",
        "    fig = plt.figure(figsize=(16, 8))\n",
        "    plt.subplots_adjust(hspace=0.6)\n",
        "    sns.set_palette(\"Pastel1\")\n",
        "\n",
        "    plt.subplot(221, frameon=True)\n",
        "    ax1 = sns.distplot(data[x], color=\"purple\")\n",
        "    ax1.axvline(\n",
        "        np.mean(data[x]), color=\"purple\", linestyle=\"--\"\n",
        "    )  # Add mean to the histogram\n",
        "    ax1.axvline(\n",
        "        np.median(data[x]), color=\"black\", linestyle=\"-\"\n",
        "    )  # Add median to the histogram\n",
        "    plt.title(f\"{x.capitalize()} Density Distribution\")\n",
        "\n",
        "    plt.subplot(222, frameon=True)\n",
        "    ax2 = sns.violinplot(x=data[x], palette=\"Accent\", split=True)\n",
        "    plt.title(f\"{x.capitalize()} Violinplot\")\n",
        "\n",
        "    plt.subplot(223, frameon=True, sharex=ax1)\n",
        "    ax3 = sns.boxplot(\n",
        "        x=data[x], palette=\"cool\", width=0.7, linewidth=0.6, showmeans=True\n",
        "    )\n",
        "    plt.title(f\"{x.capitalize()} Boxplot\")\n",
        "\n",
        "    plt.subplot(224, frameon=True, sharex=ax2)\n",
        "    ax4 = sns.kdeplot(data[x], cumulative=True)\n",
        "    plt.title(f\"{x.capitalize()} Cumulative Density Distribution\")\n",
        "\n",
        "    plt.show()"
      ]
    },
    {
      "cell_type": "code",
      "execution_count": 26,
      "id": "989a9803-f89e-4d90-9d5d-ab3d8b734fe0",
      "metadata": {
        "colab": {
          "base_uri": "https://localhost:8080/"
        },
        "id": "989a9803-f89e-4d90-9d5d-ab3d8b734fe0",
        "outputId": "c9bb5c91-2a94-4200-8330-b534af92d10b"
      },
      "outputs": [
        {
          "output_type": "stream",
          "name": "stdout",
          "text": [
            "5 Point Summary of Customer_age Attribute:\n",
            "\n",
            "+-------+-------+------+------+------+-------+\n",
            "|       |   Min |   Q1 |   Q2 |   Q3 |   Max |\n",
            "|-------+-------+------+------+------+-------|\n",
            "| Value |    26 |   41 |   46 |   52 |    73 |\n",
            "+-------+-------+------+------+------+-------+\n"
          ]
        }
      ],
      "source": [
        "summary(data, \"customer_age\")"
      ]
    },
    {
      "cell_type": "markdown",
      "id": "d5fc061e-c172-49d4-b3da-b1884249019b",
      "metadata": {
        "id": "d5fc061e-c172-49d4-b3da-b1884249019b"
      },
      "source": [
        "The data is normally distributed, with only 2 outliers on the right side (higher end)"
      ]
    },
    {
      "cell_type": "code",
      "execution_count": 27,
      "id": "02c535bb-4cd5-4bae-8b2a-354e88cca725",
      "metadata": {
        "colab": {
          "base_uri": "https://localhost:8080/"
        },
        "id": "02c535bb-4cd5-4bae-8b2a-354e88cca725",
        "outputId": "5c5549f4-df83-40aa-fe05-b1b6c44a30d4"
      },
      "outputs": [
        {
          "output_type": "stream",
          "name": "stdout",
          "text": [
            "5 Point Summary of Dependent_count Attribute:\n",
            "\n",
            "+-------+-------+------+------+------+-------+\n",
            "|       |   Min |   Q1 |   Q2 |   Q3 |   Max |\n",
            "|-------+-------+------+------+------+-------|\n",
            "| Value |     0 |    1 |    2 |    3 |     5 |\n",
            "+-------+-------+------+------+------+-------+\n"
          ]
        }
      ],
      "source": [
        "summary(data, \"dependent_count\")"
      ]
    },
    {
      "cell_type": "markdown",
      "id": "ba4692ba-cb1d-4832-98a4-49623e907a5e",
      "metadata": {
        "id": "ba4692ba-cb1d-4832-98a4-49623e907a5e"
      },
      "source": [
        "Dependent Count is mostly 2 or 3"
      ]
    },
    {
      "cell_type": "code",
      "execution_count": 28,
      "id": "8f7d3524-8110-4b68-befc-b781521105d4",
      "metadata": {
        "colab": {
          "base_uri": "https://localhost:8080/"
        },
        "id": "8f7d3524-8110-4b68-befc-b781521105d4",
        "outputId": "822dedc7-6b48-4ade-c666-ed7e1930d06f"
      },
      "outputs": [
        {
          "output_type": "stream",
          "name": "stdout",
          "text": [
            "5 Point Summary of Months_on_book Attribute:\n",
            "\n",
            "+-------+-------+------+------+------+-------+\n",
            "|       |   Min |   Q1 |   Q2 |   Q3 |   Max |\n",
            "|-------+-------+------+------+------+-------|\n",
            "| Value |    13 |   31 |   36 |   40 |    56 |\n",
            "+-------+-------+------+------+------+-------+\n"
          ]
        }
      ],
      "source": [
        "summary(data, \"months_on_book\")"
      ]
    },
    {
      "cell_type": "markdown",
      "id": "893da56a-3929-4b61-b16f-73bef0f7e870",
      "metadata": {
        "id": "893da56a-3929-4b61-b16f-73bef0f7e870"
      },
      "source": [
        "Most customers are on the books for 3 years\n",
        "There are outliers on both lower and higher end"
      ]
    },
    {
      "cell_type": "code",
      "execution_count": 29,
      "id": "fd80c76f-95c6-46a0-80fe-3611ac2a78e0",
      "metadata": {
        "colab": {
          "base_uri": "https://localhost:8080/"
        },
        "id": "fd80c76f-95c6-46a0-80fe-3611ac2a78e0",
        "outputId": "ed540d58-9b24-4254-efcc-6df084baea29"
      },
      "outputs": [
        {
          "output_type": "stream",
          "name": "stdout",
          "text": [
            "5 Point Summary of Total_relationship_count Attribute:\n",
            "\n",
            "+-------+-------+------+------+------+-------+\n",
            "|       |   Min |   Q1 |   Q2 |   Q3 |   Max |\n",
            "|-------+-------+------+------+------+-------|\n",
            "| Value |     1 |    3 |    4 |    5 |     6 |\n",
            "+-------+-------+------+------+------+-------+\n"
          ]
        }
      ],
      "source": [
        "summary(data, \"total_relationship_count\")"
      ]
    },
    {
      "cell_type": "markdown",
      "id": "4d6fc2f1-de74-4ece-af7c-728193409040",
      "metadata": {
        "id": "4d6fc2f1-de74-4ece-af7c-728193409040"
      },
      "source": [
        "Most of the customers have 4 or more relations with the bank"
      ]
    },
    {
      "cell_type": "code",
      "execution_count": 30,
      "id": "ef20f395-2708-46e7-8ce6-69741330cddc",
      "metadata": {
        "colab": {
          "base_uri": "https://localhost:8080/"
        },
        "id": "ef20f395-2708-46e7-8ce6-69741330cddc",
        "outputId": "f64ab616-9112-4e13-e709-cdef19a260dc"
      },
      "outputs": [
        {
          "output_type": "stream",
          "name": "stdout",
          "text": [
            "5 Point Summary of Months_inactive_12_mon Attribute:\n",
            "\n",
            "+-------+-------+------+------+------+-------+\n",
            "|       |   Min |   Q1 |   Q2 |   Q3 |   Max |\n",
            "|-------+-------+------+------+------+-------|\n",
            "| Value |     0 |    2 |    2 |    3 |     6 |\n",
            "+-------+-------+------+------+------+-------+\n"
          ]
        }
      ],
      "source": [
        "summary(data, \"months_inactive_12_mon\")"
      ]
    },
    {
      "cell_type": "markdown",
      "id": "1bd76088-da71-4461-96e0-f254011ce724",
      "metadata": {
        "id": "1bd76088-da71-4461-96e0-f254011ce724"
      },
      "source": [
        "There are lower and higher end outliers for Months inactive in last 12 months\n",
        "Lower end outliers are not concerning since 0 value means the customer is always active. The customers who are inactive for 5 or more months are to be concerned about."
      ]
    },
    {
      "cell_type": "code",
      "execution_count": 31,
      "id": "aca6994d-2468-4141-909d-09c5598c180a",
      "metadata": {
        "colab": {
          "base_uri": "https://localhost:8080/"
        },
        "id": "aca6994d-2468-4141-909d-09c5598c180a",
        "outputId": "0d0582c0-9af3-4080-8da2-17a4d61c2c96"
      },
      "outputs": [
        {
          "output_type": "stream",
          "name": "stdout",
          "text": [
            "5 Point Summary of Contacts_count_12_mon Attribute:\n",
            "\n",
            "+-------+-------+------+------+------+-------+\n",
            "|       |   Min |   Q1 |   Q2 |   Q3 |   Max |\n",
            "|-------+-------+------+------+------+-------|\n",
            "| Value |     0 |    2 |    2 |    3 |     6 |\n",
            "+-------+-------+------+------+------+-------+\n"
          ]
        }
      ],
      "source": [
        "summary(data, \"contacts_count_12_mon\")"
      ]
    },
    {
      "cell_type": "markdown",
      "id": "18bbd23b-769e-4293-bee8-1c477303a3d4",
      "metadata": {
        "id": "18bbd23b-769e-4293-bee8-1c477303a3d4"
      },
      "source": [
        "Again lower and higher end outliers are noticed.\n",
        "Here less number of contacts between the bank and the customer should be interesting to be checked"
      ]
    },
    {
      "cell_type": "code",
      "execution_count": 32,
      "id": "1133a53c-210b-4ae3-9773-a7b85f40a7b1",
      "metadata": {
        "colab": {
          "base_uri": "https://localhost:8080/"
        },
        "id": "1133a53c-210b-4ae3-9773-a7b85f40a7b1",
        "outputId": "9a2c965a-6bd9-4fb5-c39c-7c2bbe385ea3"
      },
      "outputs": [
        {
          "output_type": "stream",
          "name": "stdout",
          "text": [
            "5 Point Summary of Credit_limit Attribute:\n",
            "\n",
            "+-------+--------+------+------+---------+-------+\n",
            "|       |    Min |   Q1 |   Q2 |      Q3 |   Max |\n",
            "|-------+--------+------+------+---------+-------|\n",
            "| Value | 1438.3 | 2555 | 4549 | 11067.5 | 34516 |\n",
            "+-------+--------+------+------+---------+-------+\n"
          ]
        }
      ],
      "source": [
        "summary(data, \"credit_limit\")"
      ]
    },
    {
      "cell_type": "markdown",
      "id": "f02dde3b-9753-4477-9b93-41b2571404aa",
      "metadata": {
        "id": "f02dde3b-9753-4477-9b93-41b2571404aa"
      },
      "source": [
        "There are higher end outliers in Credit Limit. This might be because the customers are high end."
      ]
    },
    {
      "cell_type": "code",
      "execution_count": 33,
      "id": "27164be4-9868-40b2-ba14-eacc40bea864",
      "metadata": {
        "colab": {
          "base_uri": "https://localhost:8080/"
        },
        "id": "27164be4-9868-40b2-ba14-eacc40bea864",
        "outputId": "1d3cf135-2893-4798-96ba-6554d7935449"
      },
      "outputs": [
        {
          "output_type": "execute_result",
          "data": {
            "text/plain": [
              "$80K - $120K     0.421\n",
              "$120K +          0.302\n",
              "$60K - $80K      0.156\n",
              "Unknown          0.110\n",
              "$40K - $60K      0.012\n",
              "Less than $40K   0.000\n",
              "Name: income_category, dtype: float64"
            ]
          },
          "metadata": {},
          "execution_count": 33
        }
      ],
      "source": [
        "data[data[\"credit_limit\"] > 23000][\"income_category\"].value_counts(normalize=True)"
      ]
    },
    {
      "cell_type": "code",
      "execution_count": 34,
      "id": "f2ffbdf0-847c-4ba0-be94-312e9f134731",
      "metadata": {
        "colab": {
          "base_uri": "https://localhost:8080/"
        },
        "id": "f2ffbdf0-847c-4ba0-be94-312e9f134731",
        "outputId": "ea43e5eb-ce3f-4a7b-ec23-1a4dd3115b51"
      },
      "outputs": [
        {
          "output_type": "execute_result",
          "data": {
            "text/plain": [
              "Blue       0.592\n",
              "Silver     0.310\n",
              "Gold       0.083\n",
              "Platinum   0.015\n",
              "Name: card_category, dtype: float64"
            ]
          },
          "metadata": {},
          "execution_count": 34
        }
      ],
      "source": [
        "data[data[\"credit_limit\"] > 23000][\"card_category\"].value_counts(normalize=True)"
      ]
    },
    {
      "cell_type": "markdown",
      "id": "3a82c3b4-9d86-4f0e-bb67-5d2771f64ba1",
      "metadata": {
        "id": "3a82c3b4-9d86-4f0e-bb67-5d2771f64ba1"
      },
      "source": [
        "The customers with credit limit more than 23K have ~87% people earning $60K or more, and 90% have Blue or Silver card"
      ]
    },
    {
      "cell_type": "code",
      "execution_count": 35,
      "id": "8111aa94-c73d-4922-9a22-2423da02e3a0",
      "metadata": {
        "colab": {
          "base_uri": "https://localhost:8080/"
        },
        "id": "8111aa94-c73d-4922-9a22-2423da02e3a0",
        "outputId": "2b77b8bb-223e-46bc-971a-c42adcf3dfd0"
      },
      "outputs": [
        {
          "output_type": "stream",
          "name": "stdout",
          "text": [
            "5 Point Summary of Total_revolving_bal Attribute:\n",
            "\n",
            "+-------+-------+------+------+------+-------+\n",
            "|       |   Min |   Q1 |   Q2 |   Q3 |   Max |\n",
            "|-------+-------+------+------+------+-------|\n",
            "| Value |     0 |  359 | 1276 | 1784 |  2517 |\n",
            "+-------+-------+------+------+------+-------+\n"
          ]
        }
      ],
      "source": [
        "summary(data, \"total_revolving_bal\")"
      ]
    },
    {
      "cell_type": "markdown",
      "id": "5327572d-73f5-45ad-95d3-a10492934670",
      "metadata": {
        "id": "5327572d-73f5-45ad-95d3-a10492934670"
      },
      "source": [
        "Total revolving balance of 0 would mean the customer never uses the credit card"
      ]
    },
    {
      "cell_type": "code",
      "execution_count": 36,
      "id": "48545475-22cb-4bd8-a478-ccfcabcf8b2a",
      "metadata": {
        "colab": {
          "base_uri": "https://localhost:8080/"
        },
        "id": "48545475-22cb-4bd8-a478-ccfcabcf8b2a",
        "outputId": "e1fd25d2-c5b1-4a4d-e645-8c5ded5101af"
      },
      "outputs": [
        {
          "output_type": "stream",
          "name": "stdout",
          "text": [
            "5 Point Summary of Avg_open_to_buy Attribute:\n",
            "\n",
            "+-------+-------+--------+------+------+-------+\n",
            "|       |   Min |     Q1 |   Q2 |   Q3 |   Max |\n",
            "|-------+-------+--------+------+------+-------|\n",
            "| Value |     3 | 1324.5 | 3474 | 9859 | 34516 |\n",
            "+-------+-------+--------+------+------+-------+\n"
          ]
        }
      ],
      "source": [
        "summary(data, \"avg_open_to_buy\")"
      ]
    },
    {
      "cell_type": "markdown",
      "id": "dab25a5b-8959-4cdc-abfa-1fee46b8fba0",
      "metadata": {
        "id": "dab25a5b-8959-4cdc-abfa-1fee46b8fba0"
      },
      "source": [
        "Average Open to Buy has lots of higher end outliers, which means there are customers who uses only very small amount of their credit limit\n",
        "Data is right skewed"
      ]
    },
    {
      "cell_type": "code",
      "execution_count": 37,
      "id": "7f523a80-707e-47b4-a1a5-aaf3c49927eb",
      "metadata": {
        "colab": {
          "base_uri": "https://localhost:8080/"
        },
        "id": "7f523a80-707e-47b4-a1a5-aaf3c49927eb",
        "outputId": "80557579-dd2f-4b10-a560-3471b056e9a2"
      },
      "outputs": [
        {
          "output_type": "stream",
          "name": "stdout",
          "text": [
            "5 Point Summary of Total_amt_chng_q4_q1 Attribute:\n",
            "\n",
            "+-------+-------+-------+-------+-------+-------+\n",
            "|       |   Min |    Q1 |    Q2 |    Q3 |   Max |\n",
            "|-------+-------+-------+-------+-------+-------|\n",
            "| Value |     0 | 0.631 | 0.736 | 0.859 | 3.397 |\n",
            "+-------+-------+-------+-------+-------+-------+\n"
          ]
        }
      ],
      "source": [
        "summary(data, \"total_amt_chng_q4_q1\")"
      ]
    },
    {
      "cell_type": "markdown",
      "id": "9ca6b7af-601f-475c-a16a-8e7e7750a721",
      "metadata": {
        "id": "9ca6b7af-601f-475c-a16a-8e7e7750a721"
      },
      "source": [
        "Outliers are on both higher and lower end"
      ]
    },
    {
      "cell_type": "code",
      "execution_count": 38,
      "id": "b359261c-1a08-4f4e-bcbc-b212983cfd8f",
      "metadata": {
        "colab": {
          "base_uri": "https://localhost:8080/"
        },
        "id": "b359261c-1a08-4f4e-bcbc-b212983cfd8f",
        "outputId": "8b98d3b2-c59e-406a-c272-10396abaa036"
      },
      "outputs": [
        {
          "output_type": "stream",
          "name": "stdout",
          "text": [
            "5 Point Summary of Total_trans_amt Attribute:\n",
            "\n",
            "+-------+-------+--------+------+------+-------+\n",
            "|       |   Min |     Q1 |   Q2 |   Q3 |   Max |\n",
            "|-------+-------+--------+------+------+-------|\n",
            "| Value |   510 | 2155.5 | 3899 | 4741 | 18484 |\n",
            "+-------+-------+--------+------+------+-------+\n"
          ]
        }
      ],
      "source": [
        "summary(data, \"total_trans_amt\")"
      ]
    },
    {
      "cell_type": "markdown",
      "id": "cc2824bc-a00f-4655-b999-cfb4fd2f8a58",
      "metadata": {
        "id": "cc2824bc-a00f-4655-b999-cfb4fd2f8a58"
      },
      "source": [
        "Total Transaction Amount has lots of higher end outliers"
      ]
    },
    {
      "cell_type": "code",
      "execution_count": 39,
      "id": "2b211044-516d-426f-a331-2ce078103995",
      "metadata": {
        "colab": {
          "base_uri": "https://localhost:8080/"
        },
        "id": "2b211044-516d-426f-a331-2ce078103995",
        "outputId": "20bab549-fb31-4048-84ab-0b0ef8d5aaaf"
      },
      "outputs": [
        {
          "output_type": "stream",
          "name": "stdout",
          "text": [
            "5 Point Summary of Total_trans_ct Attribute:\n",
            "\n",
            "+-------+-------+------+------+------+-------+\n",
            "|       |   Min |   Q1 |   Q2 |   Q3 |   Max |\n",
            "|-------+-------+------+------+------+-------|\n",
            "| Value |    10 |   45 |   67 |   81 |   139 |\n",
            "+-------+-------+------+------+------+-------+\n"
          ]
        }
      ],
      "source": [
        "summary(data, \"total_trans_ct\")"
      ]
    },
    {
      "cell_type": "code",
      "execution_count": 40,
      "id": "a4dcb314-fe79-40be-9b15-5b19e3e5651f",
      "metadata": {
        "colab": {
          "base_uri": "https://localhost:8080/"
        },
        "id": "a4dcb314-fe79-40be-9b15-5b19e3e5651f",
        "outputId": "6b0c066d-c3c1-45c1-e9a5-74c5b1be2be4"
      },
      "outputs": [
        {
          "output_type": "stream",
          "name": "stdout",
          "text": [
            "5 Point Summary of Total_ct_chng_q4_q1 Attribute:\n",
            "\n",
            "+-------+-------+-------+-------+-------+-------+\n",
            "|       |   Min |    Q1 |    Q2 |    Q3 |   Max |\n",
            "|-------+-------+-------+-------+-------+-------|\n",
            "| Value |     0 | 0.582 | 0.702 | 0.818 | 3.714 |\n",
            "+-------+-------+-------+-------+-------+-------+\n"
          ]
        }
      ],
      "source": [
        "summary(data, \"total_ct_chng_q4_q1\")"
      ]
    },
    {
      "cell_type": "markdown",
      "id": "96d94ef8-8cf4-4348-a0c6-2737b1f86722",
      "metadata": {
        "id": "96d94ef8-8cf4-4348-a0c6-2737b1f86722"
      },
      "source": [
        "Outliers are on both higher and lower end"
      ]
    },
    {
      "cell_type": "code",
      "execution_count": 41,
      "id": "05a9a121-9e4d-42ce-ab31-53355fbb120e",
      "metadata": {
        "colab": {
          "base_uri": "https://localhost:8080/"
        },
        "id": "05a9a121-9e4d-42ce-ab31-53355fbb120e",
        "outputId": "c3a1eef9-2bad-476d-adfd-695caa60c399"
      },
      "outputs": [
        {
          "output_type": "stream",
          "name": "stdout",
          "text": [
            "5 Point Summary of Avg_utilization_ratio Attribute:\n",
            "\n",
            "+-------+-------+-------+-------+-------+-------+\n",
            "|       |   Min |    Q1 |    Q2 |    Q3 |   Max |\n",
            "|-------+-------+-------+-------+-------+-------|\n",
            "| Value |     0 | 0.023 | 0.176 | 0.503 | 0.999 |\n",
            "+-------+-------+-------+-------+-------+-------+\n"
          ]
        }
      ],
      "source": [
        "summary(data, \"avg_utilization_ratio\")"
      ]
    },
    {
      "cell_type": "markdown",
      "id": "d788ce26-74e9-46e2-8bc7-965536584da0",
      "metadata": {
        "id": "d788ce26-74e9-46e2-8bc7-965536584da0"
      },
      "source": [
        "Average utilization is right skewed"
      ]
    },
    {
      "cell_type": "markdown",
      "id": "96b74ad7-5006-4c17-a2de-a2766fad143b",
      "metadata": {
        "id": "96b74ad7-5006-4c17-a2de-a2766fad143b"
      },
      "source": [
        "Percentage on bar chart for Categorical Features\n",
        "For the categorical variables, it is best to analyze them at percentage of total on bar charts Below function takes a category column as input and plots bar chart with percentages on top of each bar"
      ]
    },
    {
      "cell_type": "code",
      "execution_count": 42,
      "id": "3d8f8a07-c59f-44fd-94f8-84833dca0465",
      "metadata": {
        "id": "3d8f8a07-c59f-44fd-94f8-84833dca0465"
      },
      "outputs": [],
      "source": [
        "# Below code plots grouped bar for each categorical feature\n",
        "\n",
        "def perc_on_bar(data: pd.DataFrame, cat_columns, target, hue=None, perc=True):\n",
        "    '''\n",
        "    The function takes a category column as input and plots bar chart with percentages on top of each bar\n",
        "    \n",
        "    Usage:\n",
        "    ------\n",
        "    \n",
        "    perc_on_bar(df, ['age'], 'prodtaken')\n",
        "    '''\n",
        "    \n",
        "    subplot_cols = 2\n",
        "    subplot_rows = int(len(cat_columns)/2 + 1)\n",
        "    plt.figure(figsize=(16,3*subplot_rows))\n",
        "    for i, col in enumerate(cat_columns):\n",
        "        plt.subplot(subplot_rows,subplot_cols,i+1)\n",
        "        order = data[col].value_counts(ascending=False).index  # Data order  \n",
        "        ax=sns.countplot(data=data, x=col, palette = 'crest', order=order, hue=hue);\n",
        "        for p in ax.patches:\n",
        "            percentage = '{:.1f}%\\n({})'.format(100 * p.get_height()/len(data[target]), p.get_height())\n",
        "            # Added percentage and actual value\n",
        "            x = p.get_x() + p.get_width() / 2\n",
        "            y = p.get_y() + p.get_height() + 40\n",
        "            if perc:\n",
        "                plt.annotate(percentage, (x, y), ha='center', color='black', fontsize='medium'); # Annotation on top of bars\n",
        "            plt.xticks(color='black', fontsize='medium', rotation= (-90 if col=='region' else 0));\n",
        "            plt.tight_layout()\n",
        "            plt.title(col.capitalize() + ' Percentage Bar Charts\\n\\n')"
      ]
    },
    {
      "cell_type": "code",
      "execution_count": 43,
      "id": "8d2775a4-648c-4826-9a81-2895d37fd8f3",
      "metadata": {
        "id": "8d2775a4-648c-4826-9a81-2895d37fd8f3"
      },
      "outputs": [],
      "source": [
        "category_columns = data.select_dtypes(include=\"category\").columns.tolist()\n",
        "target_variable = \"attrition_flag\"\n",
        "perc_on_bar(data, category_columns, target_variable)"
      ]
    },
    {
      "cell_type": "markdown",
      "id": "aa91d2e5-5d3f-4b06-a18e-c8dab0bb4982",
      "metadata": {
        "id": "aa91d2e5-5d3f-4b06-a18e-c8dab0bb4982"
      },
      "source": [
        "High Imbalance in data since the existing vs. attrited customers ratio is 84:16\n",
        "Data is almost equally distributed between Males and Females\n",
        "31% customers are Graduate\n",
        "~85% customers are either Single or Married, where 46.7% of the customers are Married\n",
        "35% customers earn less than $40k and 36% earns $60k or more\n",
        "~93% customers have Blue card"
      ]
    },
    {
      "cell_type": "markdown",
      "id": "519032bf-7da6-463f-b919-f23935f0309e",
      "metadata": {
        "id": "519032bf-7da6-463f-b919-f23935f0309e"
      },
      "source": [
        "Bi-variate Analysis\n",
        "Goal of Bi-variate analysis is to find inter-dependencies between features."
      ]
    },
    {
      "cell_type": "code",
      "execution_count": 44,
      "id": "a2322f44-33f9-4428-8cf8-9ee6d2cecfad",
      "metadata": {
        "id": "a2322f44-33f9-4428-8cf8-9ee6d2cecfad"
      },
      "outputs": [],
      "source": [
        "#Target vs. All numerical columns\n",
        "# Below code plots box charts for each numerical feature by each type of Personal Loan (0: Not Borrowed, 1: Borroed)\n",
        "def box_by_target(data: pd.DataFrame, numeric_columns, target, include_outliers):\n",
        "    \"\"\"\n",
        "    The function takes a category column, target column, and whether to include outliers or not as input\n",
        "    and plots bar chart with percentages on top of each bar\n",
        "\n",
        "    Usage:\n",
        "    ------\n",
        "\n",
        "    perc_on_bar(['age'], 'prodtaken', True)\n",
        "    \"\"\"\n",
        "    subplot_cols = 2\n",
        "    subplot_rows = int(len(numeric_columns) / 2 + 1)\n",
        "    plt.figure(figsize=(16, 3 * subplot_rows))\n",
        "    for i, col in enumerate(numeric_columns):\n",
        "        plt.subplot(8, 2, i + 1)\n",
        "        sns.boxplot(\n",
        "            data=data,\n",
        "            x=target,\n",
        "            y=col,\n",
        "            orient=\"vertical\",\n",
        "            palette=\"Blues\",\n",
        "            showfliers=include_outliers,\n",
        "        )\n",
        "        plt.tight_layout()\n",
        "        plt.title(str(i + 1) + \": \" + target + \" vs. \" + col, color=\"black\")"
      ]
    },
    {
      "cell_type": "code",
      "execution_count": 45,
      "id": "b9c96bdc-d91d-4ba0-997d-2cf96a04668f",
      "metadata": {
        "id": "b9c96bdc-d91d-4ba0-997d-2cf96a04668f"
      },
      "outputs": [],
      "source": [
        "#With outliers\n",
        "numeric_columns = data.select_dtypes(exclude=\"category\").columns.tolist()\n",
        "target_variable = \"attrition_flag\"\n",
        "box_by_target(data, numeric_columns, target_variable, True)"
      ]
    },
    {
      "cell_type": "code",
      "execution_count": 46,
      "id": "9b40cbb8-09fb-43d0-8e8c-0e4b846c953d",
      "metadata": {
        "id": "9b40cbb8-09fb-43d0-8e8c-0e4b846c953d"
      },
      "outputs": [],
      "source": [
        "#Without outliers\n",
        "box_by_target(data, numeric_columns, target_variable, False)"
      ]
    },
    {
      "cell_type": "markdown",
      "id": "32be9b03-71aa-4120-a975-6679ac7823b8",
      "metadata": {
        "id": "32be9b03-71aa-4120-a975-6679ac7823b8"
      },
      "source": [
        "Attrited customers have  \n",
        "\n",
        "Lower total transaction amount\n",
        "Lower total transaction count\n",
        "Lower utilization ratio\n",
        "Lower transaction count change Q4 to Q1\n",
        "Higher number of times contacted with or by the bank"
      ]
    },
    {
      "cell_type": "code",
      "execution_count": 47,
      "id": "5f636c91-845b-44e3-896b-18a1438716ef",
      "metadata": {
        "id": "5f636c91-845b-44e3-896b-18a1438716ef"
      },
      "outputs": [],
      "source": [
        "#Target vs. All Categorical Columns\n",
        "# Create a function that returns a Pie chart and a Bar Graph for the categorical variables:\n",
        "def cat_view(df: pd.DataFrame, x, target):\n",
        "    \"\"\"\n",
        "    Function to create a Bar chart and a Pie chart for categorical variables.\n",
        "    \"\"\"\n",
        "    from matplotlib import cm\n",
        "\n",
        "    color1 = cm.inferno(np.linspace(0.4, 0.8, 30))\n",
        "    color2 = cm.viridis(np.linspace(0.4, 0.8, 30))\n",
        "    sns.set_palette(\"cubehelix\")\n",
        "    fig, ax = plt.subplots(1, 2, figsize=(16, 4))\n",
        "\n",
        "    \"\"\"\n",
        "    Draw a Pie Chart on first subplot.\n",
        "    \"\"\"\n",
        "    s = data.groupby(x).size()\n",
        "\n",
        "    mydata_values = s.values.tolist()\n",
        "    mydata_index = s.index.tolist()\n",
        "\n",
        "    def func(pct, allvals):\n",
        "        absolute = int(pct / 100.0 * np.sum(allvals))\n",
        "        return \"{:.1f}%\\n({:d})\".format(pct, absolute)\n",
        "\n",
        "    wedges, texts, autotexts = ax[0].pie(\n",
        "        mydata_values,\n",
        "        autopct=lambda pct: func(pct, mydata_values),\n",
        "        textprops=dict(color=\"w\"),\n",
        "    )\n",
        "\n",
        "    ax[0].legend(\n",
        "        wedges,\n",
        "        mydata_index,\n",
        "        title=x.capitalize(),\n",
        "        loc=\"center left\",\n",
        "        bbox_to_anchor=(1, 0, 0.5, 1),\n",
        "    )\n",
        "\n",
        "    plt.setp(autotexts, size=12)\n",
        "\n",
        "    ax[0].set_title(f\"{x.capitalize()} Pie Chart\")\n",
        "\n",
        "    \"\"\"\n",
        "    Draw a Bar Graph on second subplot.\n",
        "    \"\"\"\n",
        "\n",
        "    df = pd.pivot_table(\n",
        "        data, index=[x], columns=[target], values=[\"credit_limit\"], aggfunc=len\n",
        "    )\n",
        "\n",
        "    labels = df.index.tolist()\n",
        "    no = df.values[:, 1].tolist()\n",
        "    yes = df.values[:, 0].tolist()\n",
        "\n",
        "    l = np.arange(len(labels))  # the label locations\n",
        "    width = 0.35  # the width of the bars\n",
        "\n",
        "    rects1 = ax[1].bar(\n",
        "        l - width / 2, no, width, label=\"Existing Customer\", color=color1\n",
        "    )\n",
        "    rects2 = ax[1].bar(\n",
        "        l + width / 2, yes, width, label=\"Attrited Customer\", color=color2\n",
        "    )\n",
        "\n",
        "    # Add some text for labels, title and custom x-axis tick labels, etc.\n",
        "    ax[1].set_ylabel(\"Scores\")\n",
        "    ax[1].set_title(f\"{x.capitalize()} Bar Graph\")\n",
        "    ax[1].set_xticks(l)\n",
        "    ax[1].set_xticklabels(labels)\n",
        "    ax[1].legend()\n",
        "\n",
        "    def autolabel(rects):\n",
        "\n",
        "        \"\"\"Attach a text label above each bar in *rects*, displaying its height.\"\"\"\n",
        "\n",
        "        for rect in rects:\n",
        "            height = rect.get_height()\n",
        "            ax[1].annotate(\n",
        "                \"{}\".format(height),\n",
        "                xy=(rect.get_x() + rect.get_width() / 2, height),\n",
        "                xytext=(0, 3),  # 3 points vertical offset\n",
        "                textcoords=\"offset points\",\n",
        "                fontsize=\"medium\",\n",
        "                ha=\"center\",\n",
        "                va=\"bottom\",\n",
        "            )\n",
        "\n",
        "    autolabel(rects1)\n",
        "    autolabel(rects2)\n",
        "\n",
        "    fig.tight_layout()\n",
        "    plt.show()\n",
        "\n",
        "    \"\"\"\n",
        "    Draw a Stacked Bar Graph on bottom.\n",
        "    \"\"\"\n",
        "\n",
        "    sns.set(palette=\"tab10\")\n",
        "    tab = pd.crosstab(data[x], data[target], normalize=\"index\")\n",
        "\n",
        "    tab.plot.bar(stacked=True, figsize=(16, 3))\n",
        "    plt.title(x.capitalize() + \" Stacked Bar Plot\")\n",
        "    plt.legend(loc=\"upper right\", bbox_to_anchor=(0, 1))\n",
        "    plt.show()\n",
        "cat_view(data, \"gender\", \"attrition_flag\")"
      ]
    },
    {
      "cell_type": "markdown",
      "id": "be38aae8-f0ee-459d-90ce-af7fc4f34af6",
      "metadata": {
        "id": "be38aae8-f0ee-459d-90ce-af7fc4f34af6"
      },
      "source": [
        "Attrition does not seem to be related with Gender"
      ]
    },
    {
      "cell_type": "code",
      "execution_count": 48,
      "id": "458b0495-f6ce-478c-a85d-ca00e2c5ed66",
      "metadata": {
        "id": "458b0495-f6ce-478c-a85d-ca00e2c5ed66"
      },
      "outputs": [],
      "source": [
        "cat_view(data, \"education_level\", \"attrition_flag\")"
      ]
    },
    {
      "cell_type": "markdown",
      "id": "624c2334-fe9c-4a39-92d6-85c8c8f78e32",
      "metadata": {
        "id": "624c2334-fe9c-4a39-92d6-85c8c8f78e32"
      },
      "source": [
        "Attrition does not seem to be related with Education"
      ]
    },
    {
      "cell_type": "code",
      "execution_count": 49,
      "id": "7415af10-2de2-4798-9b2f-2aec12a28f6e",
      "metadata": {
        "id": "7415af10-2de2-4798-9b2f-2aec12a28f6e"
      },
      "outputs": [],
      "source": [
        "cat_view(data, \"marital_status\", \"attrition_flag\")"
      ]
    },
    {
      "cell_type": "markdown",
      "id": "aa597f39-5898-4c83-a04c-65f6001e063f",
      "metadata": {
        "id": "aa597f39-5898-4c83-a04c-65f6001e063f"
      },
      "source": [
        "Attrition does not seem to be related with Marital Status"
      ]
    },
    {
      "cell_type": "code",
      "execution_count": 50,
      "id": "467f7fa4-dc18-4b25-b548-e2f4974a79cc",
      "metadata": {
        "id": "467f7fa4-dc18-4b25-b548-e2f4974a79cc"
      },
      "outputs": [],
      "source": [
        "cat_view(data, \"income_category\", \"attrition_flag\")"
      ]
    },
    {
      "cell_type": "markdown",
      "id": "aa672c5e-d310-46d1-bc47-9022d5d86886",
      "metadata": {
        "id": "aa672c5e-d310-46d1-bc47-9022d5d86886"
      },
      "source": [
        "Attrition does not seem to be related with Income Category"
      ]
    },
    {
      "cell_type": "code",
      "execution_count": 51,
      "id": "f8deafa1-a78a-45fb-a9cd-c97f83792dab",
      "metadata": {
        "id": "f8deafa1-a78a-45fb-a9cd-c97f83792dab"
      },
      "outputs": [],
      "source": [
        "cat_view(data, \"card_category\", \"attrition_flag\")"
      ]
    },
    {
      "cell_type": "markdown",
      "id": "bfcfb6a7-506a-4f72-969b-64abc122f5f9",
      "metadata": {
        "id": "bfcfb6a7-506a-4f72-969b-64abc122f5f9"
      },
      "source": [
        "Platinum card holder are appearing to be having attrition tendency, however, since there are only 20 data points for platinum card holders, this observation would be biased"
      ]
    },
    {
      "cell_type": "markdown",
      "id": "28021661-2131-4a69-9b52-57bf63c943ce",
      "metadata": {
        "id": "28021661-2131-4a69-9b52-57bf63c943ce"
      },
      "source": [
        "Multi-variate Plots\n",
        "Pairplot of all available numeric columns, hued by Personal Loan"
      ]
    },
    {
      "cell_type": "code",
      "execution_count": 52,
      "id": "5e6738fb-5f52-442a-b338-728ec8e82d83",
      "metadata": {
        "colab": {
          "base_uri": "https://localhost:8080/"
        },
        "id": "5e6738fb-5f52-442a-b338-728ec8e82d83",
        "outputId": "cb523a29-47d1-42b6-d239-8484f4ca87a5"
      },
      "outputs": [
        {
          "output_type": "execute_result",
          "data": {
            "text/plain": [
              "<seaborn.axisgrid.PairGrid at 0x7fa727968cd0>"
            ]
          },
          "metadata": {},
          "execution_count": 52
        }
      ],
      "source": [
        "#Below plot shows correlations between the numerical features in the dataset\n",
        "\n",
        "plt.figure(figsize=(20, 20))\n",
        "sns.set(palette=\"nipy_spectral\")\n",
        "sns.pairplot(data=data, hue=\"attrition_flag\", corner=True)"
      ]
    },
    {
      "cell_type": "markdown",
      "id": "5d6dfec2-cba6-4b74-b5f4-2b1ac602f1e5",
      "metadata": {
        "id": "5d6dfec2-cba6-4b74-b5f4-2b1ac602f1e5"
      },
      "source": [
        "There are clusters formed with respect to attrition for the variables total revolving amount, total amount change Q4 to Q1, total transaction amount, total transaction count, total transaction count change Q4 to Q1\n",
        "There are strong correlation between a few columns as well, which we'll check in below correlation heatmap."
      ]
    },
    {
      "cell_type": "markdown",
      "id": "85834f53-193d-43d7-90a6-588bbc0aa219",
      "metadata": {
        "id": "85834f53-193d-43d7-90a6-588bbc0aa219"
      },
      "source": [
        "#Heatmap to understand correlations between independent and dependent variables\n",
        "#Plotting correlation heatmap of the features\n"
      ]
    },
    {
      "cell_type": "code",
      "execution_count": 53,
      "id": "241edb75-c4ef-49f9-a94a-b1bbd6734992",
      "metadata": {
        "id": "241edb75-c4ef-49f9-a94a-b1bbd6734992"
      },
      "outputs": [],
      "source": [
        "codes = {'Existing Customer':0, 'Attrited Customer':1}\n",
        "data_clean = data.copy()\n",
        "data_clean['attrition_flag'] = data_clean['attrition_flag'].map(codes).astype(int)\n",
        "\n",
        "\n",
        "sns.set(rc={\"figure.figsize\": (15, 15)})\n",
        "sns.heatmap(\n",
        "    data_clean.corr(),\n",
        "    annot=True,\n",
        "    linewidths=0.5,\n",
        "    center=0,\n",
        "    cbar=False,\n",
        "    cmap=\"YlGnBu\",\n",
        "    fmt=\"0.2f\",\n",
        ")\n",
        "plt.show()"
      ]
    },
    {
      "cell_type": "markdown",
      "id": "eb869b33-d06a-4565-86b1-cef799aa487c",
      "metadata": {
        "id": "eb869b33-d06a-4565-86b1-cef799aa487c"
      },
      "source": [
        "-Credit Limit and Average Open to Buy have 100% collinearity\n",
        "-Months on book and Customer Age have quite strong correlation\n",
        "-Average Utilization Ration and Total Revolving Balance are also a bit correlated it appears\n",
        "-Attrition Flag does not have highly strong correlation with any of the numeric variables\n",
        "-Customer Churn appears to be uncorrelated with Customer Age, Dependent Count, Months on Book, Open to Buy, Credit Limit, we'll remove these from dataset"
      ]
    },
    {
      "cell_type": "markdown",
      "id": "fafb346b-3d4e-4866-a76b-54485e264872",
      "metadata": {
        "id": "fafb346b-3d4e-4866-a76b-54485e264872"
      },
      "source": [
        "Data Preprocessing\n",
        "Pre-processing steps:\n",
        "\n",
        "Data Split into Dependent and Target sets\n",
        "Data Split to Train, Test and Validation sets\n",
        "Standardize feature names\n",
        "Drop unnecessary columns (Client Number, Customer Age, Dependent Count, Months on Book, Open to Buy, Credit Limit)\n",
        "Missing Value/Incorrect Value treatment\n",
        "Encoding\n",
        "Scaling/Outlier treatment"
      ]
    },
    {
      "cell_type": "code",
      "execution_count": 54,
      "id": "c6e98a72-56f1-4fed-ba86-008466b3e30e",
      "metadata": {
        "id": "c6e98a72-56f1-4fed-ba86-008466b3e30e"
      },
      "outputs": [],
      "source": [
        "# Building a function to standardize columns\n",
        "\n",
        "def feature_name_standardize(df: pd.DataFrame):\n",
        "    df_ = df.copy()\n",
        "    df_.columns = [i.replace(\" \", \"_\").lower() for i in df_.columns]\n",
        "    return df_\n",
        "\n",
        "# Building a function to drop features\n",
        "\n",
        "def drop_feature(df: pd.DataFrame, features: list = []):\n",
        "    df_ = df.copy()\n",
        "    if len(features) != 0:\n",
        "        df_ = df_.drop(columns=features)\n",
        "        \n",
        "    return df_\n",
        "\n",
        "# Building a function to treat incorrect value\n",
        "\n",
        "def mask_value(df: pd.DataFrame, feature: str = None, value_to_mask: str = None, masked_value: str = None):\n",
        "    df_ = df.copy()\n",
        "    if feature != None and value_to_mask != None:\n",
        "        if feature in df_.columns:\n",
        "            df_[feature] = df_[feature].astype('object')\n",
        "            df_.loc[df_[df_[feature] == value_to_mask].index, feature] = masked_value\n",
        "            df_[feature] = df_[feature].astype('category')\n",
        "            \n",
        "    return df_\n",
        "\n",
        "# Building a custom imputer\n",
        "\n",
        "def impute_category_unknown(df: pd.DataFrame, fill_value: str):\n",
        "    df_ = df.copy()\n",
        "    for col in df_.select_dtypes(include='category').columns.tolist():\n",
        "        df_[col] = df_[col].astype('object')\n",
        "        df_[col] = df_[col].fillna('Unknown')\n",
        "        df_[col] = df_[col].astype('category')\n",
        "    return df_\n",
        "\n",
        "# Building a custom data preprocessing class with fit and transform methods for standardizing column names\n",
        "\n",
        "class FeatureNamesStandardizer(TransformerMixin):\n",
        "    def __init__(self):\n",
        "        pass\n",
        "\n",
        "    def fit(self, X, y=None):\n",
        "        \"\"\"All SciKit-Learn compatible transformers and classifiers have the\n",
        "        same interface. `fit` always returns the same object.\"\"\"\n",
        "        return self\n",
        "\n",
        "    def transform(self, X):\n",
        "        \"\"\"Returns dataframe with column names in lower case with underscores in place of spaces.\"\"\"\n",
        "        X_ = feature_name_standardize(X)\n",
        "        return X_\n",
        "    \n",
        "    \n",
        "# Building a custom data preprocessing class with fit and transform methods for dropping columns\n",
        "\n",
        "class ColumnDropper(TransformerMixin):\n",
        "    def __init__(self, features: list):\n",
        "        self.features = features\n",
        "\n",
        "    def fit(self, X, y=None):\n",
        "        \"\"\"All SciKit-Learn compatible transformers and classifiers have the\n",
        "        same interface. `fit` always returns the same object.\"\"\"\n",
        "        return self\n",
        "\n",
        "    def transform(self, X):\n",
        "        \"\"\"Given a list of columns, returns a dataframe without those columns.\"\"\"\n",
        "        X_ = drop_feature(X, features=self.features)\n",
        "        return X_\n",
        "        \n",
        "    \n",
        "\n",
        "# Building a custom data preprocessing class with fit and transform methods for custom value masking\n",
        "\n",
        "class CustomValueMasker(TransformerMixin):\n",
        "    def __init__(self, feature: str, value_to_mask: str, masked_value: str):\n",
        "        self.feature = feature\n",
        "        self.value_to_mask = value_to_mask\n",
        "        self.masked_value = masked_value\n",
        "\n",
        "    def fit(self, X, y=None):\n",
        "        \"\"\"All SciKit-Learn compatible transformers and classifiers have the\n",
        "        same interface. `fit` always returns the same object.\"\"\"\n",
        "        return self\n",
        "\n",
        "    def transform(self, X):\n",
        "        \"\"\"Return a dataframe with the required feature value masked as required.\"\"\"\n",
        "        X_ = mask_value(X, self.feature, self.value_to_mask, self.masked_value)\n",
        "        return X_\n",
        "    \n",
        "    \n",
        "# Building a custom class to one-hot encode using pandas\n",
        "class PandasOneHot(TransformerMixin):\n",
        "    def __init__(self, columns: list = None):\n",
        "        self.columns = columns\n",
        "\n",
        "    def fit(self, X, y=None):\n",
        "        \"\"\"All SciKit-Learn compatible transformers and classifiers have the\n",
        "        same interface. `fit` always returns the same object.\"\"\"\n",
        "        return self\n",
        "\n",
        "    def transform(self, X):\n",
        "        \"\"\"Return a dataframe with the required feature value masked as required.\"\"\"\n",
        "        X_ = pd.get_dummies(X, columns = self.columns, drop_first=True)\n",
        "        return X_\n",
        "    \n",
        "# Building a custom class to fill nulls with Unknown\n",
        "class FillUnknown(TransformerMixin):\n",
        "    def __init__(self):\n",
        "        pass\n",
        "\n",
        "    def fit(self, X, y=None):\n",
        "        \"\"\"All SciKit-Learn compatible transformers and classifiers have the\n",
        "        same interface. `fit` always returns the same object.\"\"\"\n",
        "        return self\n",
        "\n",
        "    def transform(self, X):\n",
        "        \"\"\"Return a dataframe with the required feature value masked as required.\"\"\"\n",
        "        X_ = impute_category_unknown(X, fill_value='Unknown')\n",
        "        return X_"
      ]
    },
    {
      "cell_type": "markdown",
      "id": "a16f112a-0b79-44a4-bcd2-67ff09490289",
      "metadata": {
        "id": "a16f112a-0b79-44a4-bcd2-67ff09490289"
      },
      "source": [
        "Firstly we'll work on building models individually after data pre-processing, and later we'll build an ML pipeline to run end to end process of pre-processing and model building. We are creating a data copy for the first part."
      ]
    },
    {
      "cell_type": "code",
      "execution_count": 55,
      "id": "ec9c5b3b-8424-436a-965b-e634004a30af",
      "metadata": {
        "colab": {
          "base_uri": "https://localhost:8080/",
          "height": 824
        },
        "id": "ec9c5b3b-8424-436a-965b-e634004a30af",
        "outputId": "8751b7ba-c9d7-465c-b9d1-0ee487dd90d4"
      },
      "outputs": [
        {
          "output_type": "execute_result",
          "data": {
            "text/plain": [
              "                             count unique                top  freq  \\\n",
              "CLIENTNUM                10127.000    NaN                NaN   NaN   \n",
              "Attrition_Flag               10127      2  Existing Customer  8500   \n",
              "Customer_Age             10127.000    NaN                NaN   NaN   \n",
              "Gender                       10127      2                  F  5358   \n",
              "Dependent_count          10127.000    NaN                NaN   NaN   \n",
              "Education_Level              10127      7           Graduate  3128   \n",
              "Marital_Status               10127      4            Married  4687   \n",
              "Income_Category              10127      6     Less than $40K  3561   \n",
              "Card_Category                10127      4               Blue  9436   \n",
              "Months_on_book           10127.000    NaN                NaN   NaN   \n",
              "Total_Relationship_Count 10127.000    NaN                NaN   NaN   \n",
              "Months_Inactive_12_mon   10127.000    NaN                NaN   NaN   \n",
              "Contacts_Count_12_mon    10127.000    NaN                NaN   NaN   \n",
              "Credit_Limit             10127.000    NaN                NaN   NaN   \n",
              "Total_Revolving_Bal      10127.000    NaN                NaN   NaN   \n",
              "Avg_Open_To_Buy          10127.000    NaN                NaN   NaN   \n",
              "Total_Amt_Chng_Q4_Q1     10127.000    NaN                NaN   NaN   \n",
              "Total_Trans_Amt          10127.000    NaN                NaN   NaN   \n",
              "Total_Trans_Ct           10127.000    NaN                NaN   NaN   \n",
              "Total_Ct_Chng_Q4_Q1      10127.000    NaN                NaN   NaN   \n",
              "Avg_Utilization_Ratio    10127.000    NaN                NaN   NaN   \n",
              "\n",
              "                                  mean          std           min  \\\n",
              "CLIENTNUM                739177606.334 36903783.450 708082083.000   \n",
              "Attrition_Flag                     NaN          NaN           NaN   \n",
              "Customer_Age                    46.326        8.017        26.000   \n",
              "Gender                             NaN          NaN           NaN   \n",
              "Dependent_count                  2.346        1.299         0.000   \n",
              "Education_Level                    NaN          NaN           NaN   \n",
              "Marital_Status                     NaN          NaN           NaN   \n",
              "Income_Category                    NaN          NaN           NaN   \n",
              "Card_Category                      NaN          NaN           NaN   \n",
              "Months_on_book                  35.928        7.986        13.000   \n",
              "Total_Relationship_Count         3.813        1.554         1.000   \n",
              "Months_Inactive_12_mon           2.341        1.011         0.000   \n",
              "Contacts_Count_12_mon            2.455        1.106         0.000   \n",
              "Credit_Limit                  8631.954     9088.777      1438.300   \n",
              "Total_Revolving_Bal           1162.814      814.987         0.000   \n",
              "Avg_Open_To_Buy               7469.140     9090.685         3.000   \n",
              "Total_Amt_Chng_Q4_Q1             0.760        0.219         0.000   \n",
              "Total_Trans_Amt               4404.086     3397.129       510.000   \n",
              "Total_Trans_Ct                  64.859       23.473        10.000   \n",
              "Total_Ct_Chng_Q4_Q1              0.712        0.238         0.000   \n",
              "Avg_Utilization_Ratio            0.275        0.276         0.000   \n",
              "\n",
              "                                   25%           50%           75%  \\\n",
              "CLIENTNUM                713036770.500 717926358.000 773143533.000   \n",
              "Attrition_Flag                     NaN           NaN           NaN   \n",
              "Customer_Age                    41.000        46.000        52.000   \n",
              "Gender                             NaN           NaN           NaN   \n",
              "Dependent_count                  1.000         2.000         3.000   \n",
              "Education_Level                    NaN           NaN           NaN   \n",
              "Marital_Status                     NaN           NaN           NaN   \n",
              "Income_Category                    NaN           NaN           NaN   \n",
              "Card_Category                      NaN           NaN           NaN   \n",
              "Months_on_book                  31.000        36.000        40.000   \n",
              "Total_Relationship_Count         3.000         4.000         5.000   \n",
              "Months_Inactive_12_mon           2.000         2.000         3.000   \n",
              "Contacts_Count_12_mon            2.000         2.000         3.000   \n",
              "Credit_Limit                  2555.000      4549.000     11067.500   \n",
              "Total_Revolving_Bal            359.000      1276.000      1784.000   \n",
              "Avg_Open_To_Buy               1324.500      3474.000      9859.000   \n",
              "Total_Amt_Chng_Q4_Q1             0.631         0.736         0.859   \n",
              "Total_Trans_Amt               2155.500      3899.000      4741.000   \n",
              "Total_Trans_Ct                  45.000        67.000        81.000   \n",
              "Total_Ct_Chng_Q4_Q1              0.582         0.702         0.818   \n",
              "Avg_Utilization_Ratio            0.023         0.176         0.503   \n",
              "\n",
              "                                   max  \n",
              "CLIENTNUM                828343083.000  \n",
              "Attrition_Flag                     NaN  \n",
              "Customer_Age                    73.000  \n",
              "Gender                             NaN  \n",
              "Dependent_count                  5.000  \n",
              "Education_Level                    NaN  \n",
              "Marital_Status                     NaN  \n",
              "Income_Category                    NaN  \n",
              "Card_Category                      NaN  \n",
              "Months_on_book                  56.000  \n",
              "Total_Relationship_Count         6.000  \n",
              "Months_Inactive_12_mon           6.000  \n",
              "Contacts_Count_12_mon            6.000  \n",
              "Credit_Limit                 34516.000  \n",
              "Total_Revolving_Bal           2517.000  \n",
              "Avg_Open_To_Buy              34516.000  \n",
              "Total_Amt_Chng_Q4_Q1             3.397  \n",
              "Total_Trans_Amt              18484.000  \n",
              "Total_Trans_Ct                 139.000  \n",
              "Total_Ct_Chng_Q4_Q1              3.714  \n",
              "Avg_Utilization_Ratio            0.999  "
            ],
            "text/html": [
              "\n",
              "  <div id=\"df-d9f4f9e9-200a-47c1-b84a-d54bcc4c7618\">\n",
              "    <div class=\"colab-df-container\">\n",
              "      <div>\n",
              "<style scoped>\n",
              "    .dataframe tbody tr th:only-of-type {\n",
              "        vertical-align: middle;\n",
              "    }\n",
              "\n",
              "    .dataframe tbody tr th {\n",
              "        vertical-align: top;\n",
              "    }\n",
              "\n",
              "    .dataframe thead th {\n",
              "        text-align: right;\n",
              "    }\n",
              "</style>\n",
              "<table border=\"1\" class=\"dataframe\">\n",
              "  <thead>\n",
              "    <tr style=\"text-align: right;\">\n",
              "      <th></th>\n",
              "      <th>count</th>\n",
              "      <th>unique</th>\n",
              "      <th>top</th>\n",
              "      <th>freq</th>\n",
              "      <th>mean</th>\n",
              "      <th>std</th>\n",
              "      <th>min</th>\n",
              "      <th>25%</th>\n",
              "      <th>50%</th>\n",
              "      <th>75%</th>\n",
              "      <th>max</th>\n",
              "    </tr>\n",
              "  </thead>\n",
              "  <tbody>\n",
              "    <tr>\n",
              "      <th>CLIENTNUM</th>\n",
              "      <td>10127.000</td>\n",
              "      <td>NaN</td>\n",
              "      <td>NaN</td>\n",
              "      <td>NaN</td>\n",
              "      <td>739177606.334</td>\n",
              "      <td>36903783.450</td>\n",
              "      <td>708082083.000</td>\n",
              "      <td>713036770.500</td>\n",
              "      <td>717926358.000</td>\n",
              "      <td>773143533.000</td>\n",
              "      <td>828343083.000</td>\n",
              "    </tr>\n",
              "    <tr>\n",
              "      <th>Attrition_Flag</th>\n",
              "      <td>10127</td>\n",
              "      <td>2</td>\n",
              "      <td>Existing Customer</td>\n",
              "      <td>8500</td>\n",
              "      <td>NaN</td>\n",
              "      <td>NaN</td>\n",
              "      <td>NaN</td>\n",
              "      <td>NaN</td>\n",
              "      <td>NaN</td>\n",
              "      <td>NaN</td>\n",
              "      <td>NaN</td>\n",
              "    </tr>\n",
              "    <tr>\n",
              "      <th>Customer_Age</th>\n",
              "      <td>10127.000</td>\n",
              "      <td>NaN</td>\n",
              "      <td>NaN</td>\n",
              "      <td>NaN</td>\n",
              "      <td>46.326</td>\n",
              "      <td>8.017</td>\n",
              "      <td>26.000</td>\n",
              "      <td>41.000</td>\n",
              "      <td>46.000</td>\n",
              "      <td>52.000</td>\n",
              "      <td>73.000</td>\n",
              "    </tr>\n",
              "    <tr>\n",
              "      <th>Gender</th>\n",
              "      <td>10127</td>\n",
              "      <td>2</td>\n",
              "      <td>F</td>\n",
              "      <td>5358</td>\n",
              "      <td>NaN</td>\n",
              "      <td>NaN</td>\n",
              "      <td>NaN</td>\n",
              "      <td>NaN</td>\n",
              "      <td>NaN</td>\n",
              "      <td>NaN</td>\n",
              "      <td>NaN</td>\n",
              "    </tr>\n",
              "    <tr>\n",
              "      <th>Dependent_count</th>\n",
              "      <td>10127.000</td>\n",
              "      <td>NaN</td>\n",
              "      <td>NaN</td>\n",
              "      <td>NaN</td>\n",
              "      <td>2.346</td>\n",
              "      <td>1.299</td>\n",
              "      <td>0.000</td>\n",
              "      <td>1.000</td>\n",
              "      <td>2.000</td>\n",
              "      <td>3.000</td>\n",
              "      <td>5.000</td>\n",
              "    </tr>\n",
              "    <tr>\n",
              "      <th>Education_Level</th>\n",
              "      <td>10127</td>\n",
              "      <td>7</td>\n",
              "      <td>Graduate</td>\n",
              "      <td>3128</td>\n",
              "      <td>NaN</td>\n",
              "      <td>NaN</td>\n",
              "      <td>NaN</td>\n",
              "      <td>NaN</td>\n",
              "      <td>NaN</td>\n",
              "      <td>NaN</td>\n",
              "      <td>NaN</td>\n",
              "    </tr>\n",
              "    <tr>\n",
              "      <th>Marital_Status</th>\n",
              "      <td>10127</td>\n",
              "      <td>4</td>\n",
              "      <td>Married</td>\n",
              "      <td>4687</td>\n",
              "      <td>NaN</td>\n",
              "      <td>NaN</td>\n",
              "      <td>NaN</td>\n",
              "      <td>NaN</td>\n",
              "      <td>NaN</td>\n",
              "      <td>NaN</td>\n",
              "      <td>NaN</td>\n",
              "    </tr>\n",
              "    <tr>\n",
              "      <th>Income_Category</th>\n",
              "      <td>10127</td>\n",
              "      <td>6</td>\n",
              "      <td>Less than $40K</td>\n",
              "      <td>3561</td>\n",
              "      <td>NaN</td>\n",
              "      <td>NaN</td>\n",
              "      <td>NaN</td>\n",
              "      <td>NaN</td>\n",
              "      <td>NaN</td>\n",
              "      <td>NaN</td>\n",
              "      <td>NaN</td>\n",
              "    </tr>\n",
              "    <tr>\n",
              "      <th>Card_Category</th>\n",
              "      <td>10127</td>\n",
              "      <td>4</td>\n",
              "      <td>Blue</td>\n",
              "      <td>9436</td>\n",
              "      <td>NaN</td>\n",
              "      <td>NaN</td>\n",
              "      <td>NaN</td>\n",
              "      <td>NaN</td>\n",
              "      <td>NaN</td>\n",
              "      <td>NaN</td>\n",
              "      <td>NaN</td>\n",
              "    </tr>\n",
              "    <tr>\n",
              "      <th>Months_on_book</th>\n",
              "      <td>10127.000</td>\n",
              "      <td>NaN</td>\n",
              "      <td>NaN</td>\n",
              "      <td>NaN</td>\n",
              "      <td>35.928</td>\n",
              "      <td>7.986</td>\n",
              "      <td>13.000</td>\n",
              "      <td>31.000</td>\n",
              "      <td>36.000</td>\n",
              "      <td>40.000</td>\n",
              "      <td>56.000</td>\n",
              "    </tr>\n",
              "    <tr>\n",
              "      <th>Total_Relationship_Count</th>\n",
              "      <td>10127.000</td>\n",
              "      <td>NaN</td>\n",
              "      <td>NaN</td>\n",
              "      <td>NaN</td>\n",
              "      <td>3.813</td>\n",
              "      <td>1.554</td>\n",
              "      <td>1.000</td>\n",
              "      <td>3.000</td>\n",
              "      <td>4.000</td>\n",
              "      <td>5.000</td>\n",
              "      <td>6.000</td>\n",
              "    </tr>\n",
              "    <tr>\n",
              "      <th>Months_Inactive_12_mon</th>\n",
              "      <td>10127.000</td>\n",
              "      <td>NaN</td>\n",
              "      <td>NaN</td>\n",
              "      <td>NaN</td>\n",
              "      <td>2.341</td>\n",
              "      <td>1.011</td>\n",
              "      <td>0.000</td>\n",
              "      <td>2.000</td>\n",
              "      <td>2.000</td>\n",
              "      <td>3.000</td>\n",
              "      <td>6.000</td>\n",
              "    </tr>\n",
              "    <tr>\n",
              "      <th>Contacts_Count_12_mon</th>\n",
              "      <td>10127.000</td>\n",
              "      <td>NaN</td>\n",
              "      <td>NaN</td>\n",
              "      <td>NaN</td>\n",
              "      <td>2.455</td>\n",
              "      <td>1.106</td>\n",
              "      <td>0.000</td>\n",
              "      <td>2.000</td>\n",
              "      <td>2.000</td>\n",
              "      <td>3.000</td>\n",
              "      <td>6.000</td>\n",
              "    </tr>\n",
              "    <tr>\n",
              "      <th>Credit_Limit</th>\n",
              "      <td>10127.000</td>\n",
              "      <td>NaN</td>\n",
              "      <td>NaN</td>\n",
              "      <td>NaN</td>\n",
              "      <td>8631.954</td>\n",
              "      <td>9088.777</td>\n",
              "      <td>1438.300</td>\n",
              "      <td>2555.000</td>\n",
              "      <td>4549.000</td>\n",
              "      <td>11067.500</td>\n",
              "      <td>34516.000</td>\n",
              "    </tr>\n",
              "    <tr>\n",
              "      <th>Total_Revolving_Bal</th>\n",
              "      <td>10127.000</td>\n",
              "      <td>NaN</td>\n",
              "      <td>NaN</td>\n",
              "      <td>NaN</td>\n",
              "      <td>1162.814</td>\n",
              "      <td>814.987</td>\n",
              "      <td>0.000</td>\n",
              "      <td>359.000</td>\n",
              "      <td>1276.000</td>\n",
              "      <td>1784.000</td>\n",
              "      <td>2517.000</td>\n",
              "    </tr>\n",
              "    <tr>\n",
              "      <th>Avg_Open_To_Buy</th>\n",
              "      <td>10127.000</td>\n",
              "      <td>NaN</td>\n",
              "      <td>NaN</td>\n",
              "      <td>NaN</td>\n",
              "      <td>7469.140</td>\n",
              "      <td>9090.685</td>\n",
              "      <td>3.000</td>\n",
              "      <td>1324.500</td>\n",
              "      <td>3474.000</td>\n",
              "      <td>9859.000</td>\n",
              "      <td>34516.000</td>\n",
              "    </tr>\n",
              "    <tr>\n",
              "      <th>Total_Amt_Chng_Q4_Q1</th>\n",
              "      <td>10127.000</td>\n",
              "      <td>NaN</td>\n",
              "      <td>NaN</td>\n",
              "      <td>NaN</td>\n",
              "      <td>0.760</td>\n",
              "      <td>0.219</td>\n",
              "      <td>0.000</td>\n",
              "      <td>0.631</td>\n",
              "      <td>0.736</td>\n",
              "      <td>0.859</td>\n",
              "      <td>3.397</td>\n",
              "    </tr>\n",
              "    <tr>\n",
              "      <th>Total_Trans_Amt</th>\n",
              "      <td>10127.000</td>\n",
              "      <td>NaN</td>\n",
              "      <td>NaN</td>\n",
              "      <td>NaN</td>\n",
              "      <td>4404.086</td>\n",
              "      <td>3397.129</td>\n",
              "      <td>510.000</td>\n",
              "      <td>2155.500</td>\n",
              "      <td>3899.000</td>\n",
              "      <td>4741.000</td>\n",
              "      <td>18484.000</td>\n",
              "    </tr>\n",
              "    <tr>\n",
              "      <th>Total_Trans_Ct</th>\n",
              "      <td>10127.000</td>\n",
              "      <td>NaN</td>\n",
              "      <td>NaN</td>\n",
              "      <td>NaN</td>\n",
              "      <td>64.859</td>\n",
              "      <td>23.473</td>\n",
              "      <td>10.000</td>\n",
              "      <td>45.000</td>\n",
              "      <td>67.000</td>\n",
              "      <td>81.000</td>\n",
              "      <td>139.000</td>\n",
              "    </tr>\n",
              "    <tr>\n",
              "      <th>Total_Ct_Chng_Q4_Q1</th>\n",
              "      <td>10127.000</td>\n",
              "      <td>NaN</td>\n",
              "      <td>NaN</td>\n",
              "      <td>NaN</td>\n",
              "      <td>0.712</td>\n",
              "      <td>0.238</td>\n",
              "      <td>0.000</td>\n",
              "      <td>0.582</td>\n",
              "      <td>0.702</td>\n",
              "      <td>0.818</td>\n",
              "      <td>3.714</td>\n",
              "    </tr>\n",
              "    <tr>\n",
              "      <th>Avg_Utilization_Ratio</th>\n",
              "      <td>10127.000</td>\n",
              "      <td>NaN</td>\n",
              "      <td>NaN</td>\n",
              "      <td>NaN</td>\n",
              "      <td>0.275</td>\n",
              "      <td>0.276</td>\n",
              "      <td>0.000</td>\n",
              "      <td>0.023</td>\n",
              "      <td>0.176</td>\n",
              "      <td>0.503</td>\n",
              "      <td>0.999</td>\n",
              "    </tr>\n",
              "  </tbody>\n",
              "</table>\n",
              "</div>\n",
              "      <button class=\"colab-df-convert\" onclick=\"convertToInteractive('df-d9f4f9e9-200a-47c1-b84a-d54bcc4c7618')\"\n",
              "              title=\"Convert this dataframe to an interactive table.\"\n",
              "              style=\"display:none;\">\n",
              "        \n",
              "  <svg xmlns=\"http://www.w3.org/2000/svg\" height=\"24px\"viewBox=\"0 0 24 24\"\n",
              "       width=\"24px\">\n",
              "    <path d=\"M0 0h24v24H0V0z\" fill=\"none\"/>\n",
              "    <path d=\"M18.56 5.44l.94 2.06.94-2.06 2.06-.94-2.06-.94-.94-2.06-.94 2.06-2.06.94zm-11 1L8.5 8.5l.94-2.06 2.06-.94-2.06-.94L8.5 2.5l-.94 2.06-2.06.94zm10 10l.94 2.06.94-2.06 2.06-.94-2.06-.94-.94-2.06-.94 2.06-2.06.94z\"/><path d=\"M17.41 7.96l-1.37-1.37c-.4-.4-.92-.59-1.43-.59-.52 0-1.04.2-1.43.59L10.3 9.45l-7.72 7.72c-.78.78-.78 2.05 0 2.83L4 21.41c.39.39.9.59 1.41.59.51 0 1.02-.2 1.41-.59l7.78-7.78 2.81-2.81c.8-.78.8-2.07 0-2.86zM5.41 20L4 18.59l7.72-7.72 1.47 1.35L5.41 20z\"/>\n",
              "  </svg>\n",
              "      </button>\n",
              "      \n",
              "  <style>\n",
              "    .colab-df-container {\n",
              "      display:flex;\n",
              "      flex-wrap:wrap;\n",
              "      gap: 12px;\n",
              "    }\n",
              "\n",
              "    .colab-df-convert {\n",
              "      background-color: #E8F0FE;\n",
              "      border: none;\n",
              "      border-radius: 50%;\n",
              "      cursor: pointer;\n",
              "      display: none;\n",
              "      fill: #1967D2;\n",
              "      height: 32px;\n",
              "      padding: 0 0 0 0;\n",
              "      width: 32px;\n",
              "    }\n",
              "\n",
              "    .colab-df-convert:hover {\n",
              "      background-color: #E2EBFA;\n",
              "      box-shadow: 0px 1px 2px rgba(60, 64, 67, 0.3), 0px 1px 3px 1px rgba(60, 64, 67, 0.15);\n",
              "      fill: #174EA6;\n",
              "    }\n",
              "\n",
              "    [theme=dark] .colab-df-convert {\n",
              "      background-color: #3B4455;\n",
              "      fill: #D2E3FC;\n",
              "    }\n",
              "\n",
              "    [theme=dark] .colab-df-convert:hover {\n",
              "      background-color: #434B5C;\n",
              "      box-shadow: 0px 1px 3px 1px rgba(0, 0, 0, 0.15);\n",
              "      filter: drop-shadow(0px 1px 2px rgba(0, 0, 0, 0.3));\n",
              "      fill: #FFFFFF;\n",
              "    }\n",
              "  </style>\n",
              "\n",
              "      <script>\n",
              "        const buttonEl =\n",
              "          document.querySelector('#df-d9f4f9e9-200a-47c1-b84a-d54bcc4c7618 button.colab-df-convert');\n",
              "        buttonEl.style.display =\n",
              "          google.colab.kernel.accessAllowed ? 'block' : 'none';\n",
              "\n",
              "        async function convertToInteractive(key) {\n",
              "          const element = document.querySelector('#df-d9f4f9e9-200a-47c1-b84a-d54bcc4c7618');\n",
              "          const dataTable =\n",
              "            await google.colab.kernel.invokeFunction('convertToInteractive',\n",
              "                                                     [key], {});\n",
              "          if (!dataTable) return;\n",
              "\n",
              "          const docLinkHtml = 'Like what you see? Visit the ' +\n",
              "            '<a target=\"_blank\" href=https://colab.research.google.com/notebooks/data_table.ipynb>data table notebook</a>'\n",
              "            + ' to learn more about interactive tables.';\n",
              "          element.innerHTML = '';\n",
              "          dataTable['output_type'] = 'display_data';\n",
              "          await google.colab.output.renderOutput(dataTable, element);\n",
              "          const docLink = document.createElement('div');\n",
              "          docLink.innerHTML = docLinkHtml;\n",
              "          element.appendChild(docLink);\n",
              "        }\n",
              "      </script>\n",
              "    </div>\n",
              "  </div>\n",
              "  "
            ]
          },
          "metadata": {},
          "execution_count": 55
        }
      ],
      "source": [
        "#Creating data copy\n",
        "df = churner.copy()\n",
        "df.describe(include=\"all\").T"
      ]
    },
    {
      "cell_type": "markdown",
      "id": "0686fb57-b175-463c-b5e2-fd693b934b37",
      "metadata": {
        "id": "0686fb57-b175-463c-b5e2-fd693b934b37"
      },
      "source": [
        "Defining the static variables"
      ]
    },
    {
      "cell_type": "code",
      "execution_count": 56,
      "id": "27281a14-4a8f-47e6-a54d-5e6f00a3713b",
      "metadata": {
        "id": "27281a14-4a8f-47e6-a54d-5e6f00a3713b"
      },
      "outputs": [],
      "source": [
        "# The static variables\n",
        "\n",
        "# For dropping columns\n",
        "columns_to_drop = [\n",
        "    \"clientnum\",\n",
        "    \"credit_limit\",\n",
        "    \"dependent_count\",\n",
        "    \"months_on_book\",\n",
        "    \"avg_open_to_buy\",\n",
        "    \"customer_age\",\n",
        "]\n",
        "\n",
        "# For masking a particular value in a feature\n",
        "column_to_mask_value = \"income_category\"\n",
        "value_to_mask = \"abc\"\n",
        "masked_value = \"Unknown\"\n",
        "\n",
        "# Random state and loss\n",
        "seed = 1\n",
        "loss_func = \"logloss\"\n",
        "\n",
        "# Test and Validation sizes\n",
        "test_size = 0.2\n",
        "val_size = 0.25\n",
        "\n",
        "# Dependent Varibale Value map\n",
        "target_mapper = {\"Attrited Customer\": 1, \"Existing Customer\": 0}"
      ]
    },
    {
      "cell_type": "markdown",
      "id": "81087011-41ab-4a86-ac66-8895851d9caa",
      "metadata": {
        "id": "81087011-41ab-4a86-ac66-8895851d9caa"
      },
      "source": [
        "Data Type Conversions\n",
        "Here we are converting Object data type to Category"
      ]
    },
    {
      "cell_type": "code",
      "execution_count": 57,
      "id": "75b1fb2d-0b69-4ba4-9dfc-c634990a78a0",
      "metadata": {
        "id": "75b1fb2d-0b69-4ba4-9dfc-c634990a78a0"
      },
      "outputs": [],
      "source": [
        "cat_columns = df.select_dtypes(include=\"object\").columns.tolist()\n",
        "df[cat_columns] = df[cat_columns].astype(\"category\")"
      ]
    },
    {
      "cell_type": "markdown",
      "id": "1177e4ce-d16f-442c-b1b7-6040aeaaf8ec",
      "metadata": {
        "id": "1177e4ce-d16f-442c-b1b7-6040aeaaf8ec"
      },
      "source": [
        "Dependent and independent variables\n",
        "Splitting the dataset into dependent and independent variable sets\n",
        "\n"
      ]
    },
    {
      "cell_type": "code",
      "execution_count": 58,
      "id": "ceb4637d-648f-4316-a84e-32df00ac532c",
      "metadata": {
        "id": "ceb4637d-648f-4316-a84e-32df00ac532c"
      },
      "outputs": [],
      "source": [
        "X = df.drop(columns=[\"Attrition_Flag\"])\n",
        "y = df[\"Attrition_Flag\"].map(target_mapper)"
      ]
    },
    {
      "cell_type": "code",
      "execution_count": 59,
      "id": "4d76c490-b3b3-401c-aff7-3be60cb46094",
      "metadata": {
        "colab": {
          "base_uri": "https://localhost:8080/"
        },
        "id": "4d76c490-b3b3-401c-aff7-3be60cb46094",
        "outputId": "890006e6-d3e6-47bd-82d2-bd98f8eef5ed"
      },
      "outputs": [
        {
          "output_type": "stream",
          "name": "stdout",
          "text": [
            "Training data shape: \n",
            "\n",
            " (6075, 20) \n",
            "\n",
            "Validation Data Shape: \n",
            "\n",
            " (2026, 20) \n",
            "\n",
            "Testing Data Shape: \n",
            "\n",
            " (2026, 20)\n"
          ]
        }
      ],
      "source": [
        "# Splitting data into training, validation and test set:\n",
        "# first we split data into 2 parts, say temporary and test\n",
        "\n",
        "X_temp, X_test, y_temp, y_test = train_test_split(\n",
        "    X, y, test_size=test_size, random_state=seed, stratify=y\n",
        ")\n",
        "\n",
        "# then we split the temporary set into train and validation\n",
        "\n",
        "X_train, X_val, y_train, y_val = train_test_split(\n",
        "    X_temp, y_temp, test_size=val_size, random_state=seed, stratify=y_temp\n",
        ")\n",
        "print(\n",
        "    \"Training data shape: \\n\\n\",\n",
        "    X_train.shape,\n",
        "    \"\\n\\nValidation Data Shape: \\n\\n\",\n",
        "    X_val.shape,\n",
        "    \"\\n\\nTesting Data Shape: \\n\\n\",\n",
        "    X_test.shape,\n",
        ")"
      ]
    },
    {
      "cell_type": "code",
      "execution_count": 60,
      "id": "a0fb5ee3-a029-4b4d-b7b1-e6d01aaa2d21",
      "metadata": {
        "colab": {
          "base_uri": "https://localhost:8080/"
        },
        "id": "a0fb5ee3-a029-4b4d-b7b1-e6d01aaa2d21",
        "outputId": "a3872b33-48e5-4165-8fed-e1be53d1224c"
      },
      "outputs": [
        {
          "output_type": "stream",
          "name": "stdout",
          "text": [
            "Training: \n",
            " 0   0.839\n",
            "1   0.161\n",
            "Name: Attrition_Flag, dtype: float64\n",
            "\n",
            "\n",
            "Validation: \n",
            " 0   0.839\n",
            "1   0.161\n",
            "Name: Attrition_Flag, dtype: float64\n",
            "\n",
            "\n",
            "Test: \n",
            " 0   0.840\n",
            "1   0.160\n",
            "Name: Attrition_Flag, dtype: float64\n"
          ]
        }
      ],
      "source": [
        "#Checking the ratio of labels in the target column for each of the data segments\n",
        "print(\"Training: \\n\", y_train.value_counts(normalize=True))\n",
        "print(\"\\n\\nValidation: \\n\", y_val.value_counts(normalize=True))\n",
        "print(\"\\n\\nTest: \\n\", y_test.value_counts(normalize=True))"
      ]
    },
    {
      "cell_type": "markdown",
      "id": "3c058943-3a57-4f1c-9c03-134c74e28ca8",
      "metadata": {
        "id": "3c058943-3a57-4f1c-9c03-134c74e28ca8"
      },
      "source": [
        "Data processing\n",
        "Data pre-processing is one of the the most important parts of the job before starting to train the model with the dataset. We need to impute missing values, fix any illogical data value in columns, convert category columns to numeric (either ordinal, or binary using one-hot encoding), scale the data to deal with the distribution skewness and outliers, before feeding the data to a model.  \n",
        "\n",
        "We are using the pre-available transformation classes and the custom classes that we created to first fit the training data and then transform the train, validation and test dataset. This is the standard logical practice to keep the influence of test and validation data in the train dataset to prevent/avoid data leakage while training or validating the model."
      ]
    },
    {
      "cell_type": "code",
      "execution_count": 61,
      "id": "658e88a4-556d-4334-9d02-a08eab3a9b07",
      "metadata": {
        "id": "658e88a4-556d-4334-9d02-a08eab3a9b07"
      },
      "outputs": [],
      "source": [
        "# To Standardize feature names\n",
        "feature_name_standardizer = FeatureNamesStandardizer()\n",
        "\n",
        "X_train = feature_name_standardizer.fit_transform(X_train)\n",
        "X_val = feature_name_standardizer.transform(X_val)\n",
        "X_test = feature_name_standardizer.transform(X_test)\n",
        "\n",
        "# To Drop unnecessary columns\n",
        "column_dropper = ColumnDropper(features=columns_to_drop)\n",
        "\n",
        "X_train = column_dropper.fit_transform(X_train)\n",
        "X_val = column_dropper.transform(X_val)\n",
        "X_test = column_dropper.transform(X_test)\n",
        "\n",
        "# To Mask incorrect/meaningless value of a feature\n",
        "value_masker = CustomValueMasker(\n",
        "    feature=column_to_mask_value, value_to_mask=value_to_mask, masked_value=masked_value\n",
        ")\n",
        "\n",
        "X_train = value_masker.fit_transform(X_train)\n",
        "X_val = value_masker.transform(X_val)\n",
        "X_test = value_masker.transform(X_test)\n",
        "\n",
        "# To impute categorical Nulls to Unknown\n",
        "cat_columns = X_train.select_dtypes(include=\"category\").columns.tolist()\n",
        "imputer = FillUnknown()\n",
        "\n",
        "X_train[cat_columns] = imputer.fit_transform(X_train[cat_columns])\n",
        "X_val[cat_columns] = imputer.transform(X_val[cat_columns])\n",
        "X_test[cat_columns] = imputer.transform(X_test[cat_columns])\n",
        "\n",
        "# To encode the data\n",
        "one_hot = PandasOneHot()\n",
        "\n",
        "X_train = one_hot.fit_transform(X_train)\n",
        "X_val = one_hot.transform(X_val)\n",
        "X_test = one_hot.transform(X_test)\n",
        "\n",
        "\n",
        "# Scale the numerical columns\n",
        "robust_scaler = RobustScaler(with_centering=False, with_scaling=True)\n",
        "num_columns = [\n",
        "    \"total_relationship_count\",\n",
        "    \"months_inactive_12_mon\",\n",
        "    \"contacts_count_12_mon\",\n",
        "    \"total_revolving_bal\",\n",
        "    \"total_amt_chng_q4_q1\",\n",
        "    \"total_trans_amt\",\n",
        "    \"total_trans_ct\",\n",
        "    \"total_ct_chng_q4_q1\",\n",
        "    \"avg_utilization_ratio\",\n",
        "]\n",
        "\n",
        "X_train[num_columns] = pd.DataFrame(\n",
        "    robust_scaler.fit_transform(X_train[num_columns]),\n",
        "    columns=num_columns,\n",
        "    index=X_train.index,\n",
        ")\n",
        "X_val[num_columns] = pd.DataFrame(\n",
        "    robust_scaler.transform(X_val[num_columns]), columns=num_columns, index=X_val.index\n",
        ")\n",
        "X_test[num_columns] = pd.DataFrame(\n",
        "    robust_scaler.transform(X_test[num_columns]),\n",
        "    columns=num_columns,\n",
        "    index=X_test.index,\n",
        ")"
      ]
    },
    {
      "cell_type": "code",
      "execution_count": 62,
      "id": "1b2216d7-74ae-45c5-a28d-dbe72c02b6d1",
      "metadata": {
        "colab": {
          "base_uri": "https://localhost:8080/",
          "height": 225
        },
        "id": "1b2216d7-74ae-45c5-a28d-dbe72c02b6d1",
        "outputId": "33d2ed27-1895-49a6-8d14-0f4ad911b568"
      },
      "outputs": [
        {
          "output_type": "execute_result",
          "data": {
            "text/plain": [
              "      total_relationship_count  months_inactive_12_mon  contacts_count_12_mon  \\\n",
              "800                      3.000                   4.000                  3.000   \n",
              "498                      3.000                   2.000                  0.000   \n",
              "4356                     2.500                   1.000                  2.000   \n",
              "\n",
              "      total_revolving_bal  total_amt_chng_q4_q1  total_trans_amt  \\\n",
              "800                 1.226                 2.044            0.648   \n",
              "498                 1.450                 1.697            0.524   \n",
              "4356                1.926                 3.829            1.661   \n",
              "\n",
              "      total_trans_ct  total_ct_chng_q4_q1  avg_utilization_ratio  gender_M  \\\n",
              "800            1.278                2.249                  0.168         1   \n",
              "498            0.861                2.667                  1.376         1   \n",
              "4356           2.194                3.717                  0.775         1   \n",
              "\n",
              "      education_level_Doctorate  education_level_Graduate  \\\n",
              "800                           0                         0   \n",
              "498                           0                         0   \n",
              "4356                          0                         0   \n",
              "\n",
              "      education_level_High School  education_level_Post-Graduate  \\\n",
              "800                             0                              0   \n",
              "498                             0                              0   \n",
              "4356                            1                              0   \n",
              "\n",
              "      education_level_Uneducated  education_level_Unknown  \\\n",
              "800                            0                        1   \n",
              "498                            0                        1   \n",
              "4356                           0                        0   \n",
              "\n",
              "      marital_status_Married  marital_status_Single  marital_status_Unknown  \\\n",
              "800                        0                      1                       0   \n",
              "498                        1                      0                       0   \n",
              "4356                       1                      0                       0   \n",
              "\n",
              "      income_category_$40K - $60K  income_category_$60K - $80K  \\\n",
              "800                             0                            0   \n",
              "498                             0                            0   \n",
              "4356                            0                            0   \n",
              "\n",
              "      income_category_$80K - $120K  income_category_Less than $40K  \\\n",
              "800                              0                               0   \n",
              "498                              0                               0   \n",
              "4356                             1                               0   \n",
              "\n",
              "      income_category_Unknown  card_category_Gold  card_category_Platinum  \\\n",
              "800                         0                   0                       0   \n",
              "498                         1                   0                       0   \n",
              "4356                        0                   0                       0   \n",
              "\n",
              "      card_category_Silver  \n",
              "800                      0  \n",
              "498                      0  \n",
              "4356                     0  "
            ],
            "text/html": [
              "\n",
              "  <div id=\"df-36906d7c-c138-48f3-9f11-cf7f40d73200\">\n",
              "    <div class=\"colab-df-container\">\n",
              "      <div>\n",
              "<style scoped>\n",
              "    .dataframe tbody tr th:only-of-type {\n",
              "        vertical-align: middle;\n",
              "    }\n",
              "\n",
              "    .dataframe tbody tr th {\n",
              "        vertical-align: top;\n",
              "    }\n",
              "\n",
              "    .dataframe thead th {\n",
              "        text-align: right;\n",
              "    }\n",
              "</style>\n",
              "<table border=\"1\" class=\"dataframe\">\n",
              "  <thead>\n",
              "    <tr style=\"text-align: right;\">\n",
              "      <th></th>\n",
              "      <th>total_relationship_count</th>\n",
              "      <th>months_inactive_12_mon</th>\n",
              "      <th>contacts_count_12_mon</th>\n",
              "      <th>total_revolving_bal</th>\n",
              "      <th>total_amt_chng_q4_q1</th>\n",
              "      <th>total_trans_amt</th>\n",
              "      <th>total_trans_ct</th>\n",
              "      <th>total_ct_chng_q4_q1</th>\n",
              "      <th>avg_utilization_ratio</th>\n",
              "      <th>gender_M</th>\n",
              "      <th>education_level_Doctorate</th>\n",
              "      <th>education_level_Graduate</th>\n",
              "      <th>education_level_High School</th>\n",
              "      <th>education_level_Post-Graduate</th>\n",
              "      <th>education_level_Uneducated</th>\n",
              "      <th>education_level_Unknown</th>\n",
              "      <th>marital_status_Married</th>\n",
              "      <th>marital_status_Single</th>\n",
              "      <th>marital_status_Unknown</th>\n",
              "      <th>income_category_$40K - $60K</th>\n",
              "      <th>income_category_$60K - $80K</th>\n",
              "      <th>income_category_$80K - $120K</th>\n",
              "      <th>income_category_Less than $40K</th>\n",
              "      <th>income_category_Unknown</th>\n",
              "      <th>card_category_Gold</th>\n",
              "      <th>card_category_Platinum</th>\n",
              "      <th>card_category_Silver</th>\n",
              "    </tr>\n",
              "  </thead>\n",
              "  <tbody>\n",
              "    <tr>\n",
              "      <th>800</th>\n",
              "      <td>3.000</td>\n",
              "      <td>4.000</td>\n",
              "      <td>3.000</td>\n",
              "      <td>1.226</td>\n",
              "      <td>2.044</td>\n",
              "      <td>0.648</td>\n",
              "      <td>1.278</td>\n",
              "      <td>2.249</td>\n",
              "      <td>0.168</td>\n",
              "      <td>1</td>\n",
              "      <td>0</td>\n",
              "      <td>0</td>\n",
              "      <td>0</td>\n",
              "      <td>0</td>\n",
              "      <td>0</td>\n",
              "      <td>1</td>\n",
              "      <td>0</td>\n",
              "      <td>1</td>\n",
              "      <td>0</td>\n",
              "      <td>0</td>\n",
              "      <td>0</td>\n",
              "      <td>0</td>\n",
              "      <td>0</td>\n",
              "      <td>0</td>\n",
              "      <td>0</td>\n",
              "      <td>0</td>\n",
              "      <td>0</td>\n",
              "    </tr>\n",
              "    <tr>\n",
              "      <th>498</th>\n",
              "      <td>3.000</td>\n",
              "      <td>2.000</td>\n",
              "      <td>0.000</td>\n",
              "      <td>1.450</td>\n",
              "      <td>1.697</td>\n",
              "      <td>0.524</td>\n",
              "      <td>0.861</td>\n",
              "      <td>2.667</td>\n",
              "      <td>1.376</td>\n",
              "      <td>1</td>\n",
              "      <td>0</td>\n",
              "      <td>0</td>\n",
              "      <td>0</td>\n",
              "      <td>0</td>\n",
              "      <td>0</td>\n",
              "      <td>1</td>\n",
              "      <td>1</td>\n",
              "      <td>0</td>\n",
              "      <td>0</td>\n",
              "      <td>0</td>\n",
              "      <td>0</td>\n",
              "      <td>0</td>\n",
              "      <td>0</td>\n",
              "      <td>1</td>\n",
              "      <td>0</td>\n",
              "      <td>0</td>\n",
              "      <td>0</td>\n",
              "    </tr>\n",
              "    <tr>\n",
              "      <th>4356</th>\n",
              "      <td>2.500</td>\n",
              "      <td>1.000</td>\n",
              "      <td>2.000</td>\n",
              "      <td>1.926</td>\n",
              "      <td>3.829</td>\n",
              "      <td>1.661</td>\n",
              "      <td>2.194</td>\n",
              "      <td>3.717</td>\n",
              "      <td>0.775</td>\n",
              "      <td>1</td>\n",
              "      <td>0</td>\n",
              "      <td>0</td>\n",
              "      <td>1</td>\n",
              "      <td>0</td>\n",
              "      <td>0</td>\n",
              "      <td>0</td>\n",
              "      <td>1</td>\n",
              "      <td>0</td>\n",
              "      <td>0</td>\n",
              "      <td>0</td>\n",
              "      <td>0</td>\n",
              "      <td>1</td>\n",
              "      <td>0</td>\n",
              "      <td>0</td>\n",
              "      <td>0</td>\n",
              "      <td>0</td>\n",
              "      <td>0</td>\n",
              "    </tr>\n",
              "  </tbody>\n",
              "</table>\n",
              "</div>\n",
              "      <button class=\"colab-df-convert\" onclick=\"convertToInteractive('df-36906d7c-c138-48f3-9f11-cf7f40d73200')\"\n",
              "              title=\"Convert this dataframe to an interactive table.\"\n",
              "              style=\"display:none;\">\n",
              "        \n",
              "  <svg xmlns=\"http://www.w3.org/2000/svg\" height=\"24px\"viewBox=\"0 0 24 24\"\n",
              "       width=\"24px\">\n",
              "    <path d=\"M0 0h24v24H0V0z\" fill=\"none\"/>\n",
              "    <path d=\"M18.56 5.44l.94 2.06.94-2.06 2.06-.94-2.06-.94-.94-2.06-.94 2.06-2.06.94zm-11 1L8.5 8.5l.94-2.06 2.06-.94-2.06-.94L8.5 2.5l-.94 2.06-2.06.94zm10 10l.94 2.06.94-2.06 2.06-.94-2.06-.94-.94-2.06-.94 2.06-2.06.94z\"/><path d=\"M17.41 7.96l-1.37-1.37c-.4-.4-.92-.59-1.43-.59-.52 0-1.04.2-1.43.59L10.3 9.45l-7.72 7.72c-.78.78-.78 2.05 0 2.83L4 21.41c.39.39.9.59 1.41.59.51 0 1.02-.2 1.41-.59l7.78-7.78 2.81-2.81c.8-.78.8-2.07 0-2.86zM5.41 20L4 18.59l7.72-7.72 1.47 1.35L5.41 20z\"/>\n",
              "  </svg>\n",
              "      </button>\n",
              "      \n",
              "  <style>\n",
              "    .colab-df-container {\n",
              "      display:flex;\n",
              "      flex-wrap:wrap;\n",
              "      gap: 12px;\n",
              "    }\n",
              "\n",
              "    .colab-df-convert {\n",
              "      background-color: #E8F0FE;\n",
              "      border: none;\n",
              "      border-radius: 50%;\n",
              "      cursor: pointer;\n",
              "      display: none;\n",
              "      fill: #1967D2;\n",
              "      height: 32px;\n",
              "      padding: 0 0 0 0;\n",
              "      width: 32px;\n",
              "    }\n",
              "\n",
              "    .colab-df-convert:hover {\n",
              "      background-color: #E2EBFA;\n",
              "      box-shadow: 0px 1px 2px rgba(60, 64, 67, 0.3), 0px 1px 3px 1px rgba(60, 64, 67, 0.15);\n",
              "      fill: #174EA6;\n",
              "    }\n",
              "\n",
              "    [theme=dark] .colab-df-convert {\n",
              "      background-color: #3B4455;\n",
              "      fill: #D2E3FC;\n",
              "    }\n",
              "\n",
              "    [theme=dark] .colab-df-convert:hover {\n",
              "      background-color: #434B5C;\n",
              "      box-shadow: 0px 1px 3px 1px rgba(0, 0, 0, 0.15);\n",
              "      filter: drop-shadow(0px 1px 2px rgba(0, 0, 0, 0.3));\n",
              "      fill: #FFFFFF;\n",
              "    }\n",
              "  </style>\n",
              "\n",
              "      <script>\n",
              "        const buttonEl =\n",
              "          document.querySelector('#df-36906d7c-c138-48f3-9f11-cf7f40d73200 button.colab-df-convert');\n",
              "        buttonEl.style.display =\n",
              "          google.colab.kernel.accessAllowed ? 'block' : 'none';\n",
              "\n",
              "        async function convertToInteractive(key) {\n",
              "          const element = document.querySelector('#df-36906d7c-c138-48f3-9f11-cf7f40d73200');\n",
              "          const dataTable =\n",
              "            await google.colab.kernel.invokeFunction('convertToInteractive',\n",
              "                                                     [key], {});\n",
              "          if (!dataTable) return;\n",
              "\n",
              "          const docLinkHtml = 'Like what you see? Visit the ' +\n",
              "            '<a target=\"_blank\" href=https://colab.research.google.com/notebooks/data_table.ipynb>data table notebook</a>'\n",
              "            + ' to learn more about interactive tables.';\n",
              "          element.innerHTML = '';\n",
              "          dataTable['output_type'] = 'display_data';\n",
              "          await google.colab.output.renderOutput(dataTable, element);\n",
              "          const docLink = document.createElement('div');\n",
              "          docLink.innerHTML = docLinkHtml;\n",
              "          element.appendChild(docLink);\n",
              "        }\n",
              "      </script>\n",
              "    </div>\n",
              "  </div>\n",
              "  "
            ]
          },
          "metadata": {},
          "execution_count": 62
        }
      ],
      "source": [
        "X_train.head(3)"
      ]
    },
    {
      "cell_type": "code",
      "execution_count": 63,
      "id": "7d91b374-eeb5-4645-8367-6b01593ab2dd",
      "metadata": {
        "colab": {
          "base_uri": "https://localhost:8080/",
          "height": 225
        },
        "id": "7d91b374-eeb5-4645-8367-6b01593ab2dd",
        "outputId": "d73fdfa3-7bd5-4c65-a9e0-2784fc2d3a87"
      },
      "outputs": [
        {
          "output_type": "execute_result",
          "data": {
            "text/plain": [
              "      total_relationship_count  months_inactive_12_mon  contacts_count_12_mon  \\\n",
              "2894                     2.500                   2.000                  3.000   \n",
              "9158                     0.500                   3.000                  1.000   \n",
              "9618                     1.500                   4.000                  3.000   \n",
              "\n",
              "      total_revolving_bal  total_amt_chng_q4_q1  total_trans_amt  \\\n",
              "2894                0.000                 5.083            1.148   \n",
              "9158                0.000                 3.982            3.148   \n",
              "9618                1.584                 3.860            5.291   \n",
              "\n",
              "      total_trans_ct  total_ct_chng_q4_q1  avg_utilization_ratio  gender_M  \\\n",
              "2894           1.528                4.068                  0.000         1   \n",
              "9158           1.639                3.810                  0.000         1   \n",
              "9618           2.833                2.300                  0.126         1   \n",
              "\n",
              "      education_level_Doctorate  education_level_Graduate  \\\n",
              "2894                          0                         0   \n",
              "9158                          0                         0   \n",
              "9618                          0                         0   \n",
              "\n",
              "      education_level_High School  education_level_Post-Graduate  \\\n",
              "2894                            0                              1   \n",
              "9158                            0                              0   \n",
              "9618                            0                              0   \n",
              "\n",
              "      education_level_Uneducated  education_level_Unknown  \\\n",
              "2894                           0                        0   \n",
              "9158                           1                        0   \n",
              "9618                           1                        0   \n",
              "\n",
              "      marital_status_Married  marital_status_Single  marital_status_Unknown  \\\n",
              "2894                       0                      1                       0   \n",
              "9158                       0                      1                       0   \n",
              "9618                       1                      0                       0   \n",
              "\n",
              "      income_category_$40K - $60K  income_category_$60K - $80K  \\\n",
              "2894                            0                            0   \n",
              "9158                            0                            0   \n",
              "9618                            0                            0   \n",
              "\n",
              "      income_category_$80K - $120K  income_category_Less than $40K  \\\n",
              "2894                             1                               0   \n",
              "9158                             1                               0   \n",
              "9618                             0                               0   \n",
              "\n",
              "      income_category_Unknown  card_category_Gold  card_category_Platinum  \\\n",
              "2894                        0                   0                       0   \n",
              "9158                        0                   0                       0   \n",
              "9618                        0                   0                       1   \n",
              "\n",
              "      card_category_Silver  \n",
              "2894                     0  \n",
              "9158                     0  \n",
              "9618                     0  "
            ],
            "text/html": [
              "\n",
              "  <div id=\"df-cfdaa6d0-9ca6-45e4-9c53-0e089dda1fd6\">\n",
              "    <div class=\"colab-df-container\">\n",
              "      <div>\n",
              "<style scoped>\n",
              "    .dataframe tbody tr th:only-of-type {\n",
              "        vertical-align: middle;\n",
              "    }\n",
              "\n",
              "    .dataframe tbody tr th {\n",
              "        vertical-align: top;\n",
              "    }\n",
              "\n",
              "    .dataframe thead th {\n",
              "        text-align: right;\n",
              "    }\n",
              "</style>\n",
              "<table border=\"1\" class=\"dataframe\">\n",
              "  <thead>\n",
              "    <tr style=\"text-align: right;\">\n",
              "      <th></th>\n",
              "      <th>total_relationship_count</th>\n",
              "      <th>months_inactive_12_mon</th>\n",
              "      <th>contacts_count_12_mon</th>\n",
              "      <th>total_revolving_bal</th>\n",
              "      <th>total_amt_chng_q4_q1</th>\n",
              "      <th>total_trans_amt</th>\n",
              "      <th>total_trans_ct</th>\n",
              "      <th>total_ct_chng_q4_q1</th>\n",
              "      <th>avg_utilization_ratio</th>\n",
              "      <th>gender_M</th>\n",
              "      <th>education_level_Doctorate</th>\n",
              "      <th>education_level_Graduate</th>\n",
              "      <th>education_level_High School</th>\n",
              "      <th>education_level_Post-Graduate</th>\n",
              "      <th>education_level_Uneducated</th>\n",
              "      <th>education_level_Unknown</th>\n",
              "      <th>marital_status_Married</th>\n",
              "      <th>marital_status_Single</th>\n",
              "      <th>marital_status_Unknown</th>\n",
              "      <th>income_category_$40K - $60K</th>\n",
              "      <th>income_category_$60K - $80K</th>\n",
              "      <th>income_category_$80K - $120K</th>\n",
              "      <th>income_category_Less than $40K</th>\n",
              "      <th>income_category_Unknown</th>\n",
              "      <th>card_category_Gold</th>\n",
              "      <th>card_category_Platinum</th>\n",
              "      <th>card_category_Silver</th>\n",
              "    </tr>\n",
              "  </thead>\n",
              "  <tbody>\n",
              "    <tr>\n",
              "      <th>2894</th>\n",
              "      <td>2.500</td>\n",
              "      <td>2.000</td>\n",
              "      <td>3.000</td>\n",
              "      <td>0.000</td>\n",
              "      <td>5.083</td>\n",
              "      <td>1.148</td>\n",
              "      <td>1.528</td>\n",
              "      <td>4.068</td>\n",
              "      <td>0.000</td>\n",
              "      <td>1</td>\n",
              "      <td>0</td>\n",
              "      <td>0</td>\n",
              "      <td>0</td>\n",
              "      <td>1</td>\n",
              "      <td>0</td>\n",
              "      <td>0</td>\n",
              "      <td>0</td>\n",
              "      <td>1</td>\n",
              "      <td>0</td>\n",
              "      <td>0</td>\n",
              "      <td>0</td>\n",
              "      <td>1</td>\n",
              "      <td>0</td>\n",
              "      <td>0</td>\n",
              "      <td>0</td>\n",
              "      <td>0</td>\n",
              "      <td>0</td>\n",
              "    </tr>\n",
              "    <tr>\n",
              "      <th>9158</th>\n",
              "      <td>0.500</td>\n",
              "      <td>3.000</td>\n",
              "      <td>1.000</td>\n",
              "      <td>0.000</td>\n",
              "      <td>3.982</td>\n",
              "      <td>3.148</td>\n",
              "      <td>1.639</td>\n",
              "      <td>3.810</td>\n",
              "      <td>0.000</td>\n",
              "      <td>1</td>\n",
              "      <td>0</td>\n",
              "      <td>0</td>\n",
              "      <td>0</td>\n",
              "      <td>0</td>\n",
              "      <td>1</td>\n",
              "      <td>0</td>\n",
              "      <td>0</td>\n",
              "      <td>1</td>\n",
              "      <td>0</td>\n",
              "      <td>0</td>\n",
              "      <td>0</td>\n",
              "      <td>1</td>\n",
              "      <td>0</td>\n",
              "      <td>0</td>\n",
              "      <td>0</td>\n",
              "      <td>0</td>\n",
              "      <td>0</td>\n",
              "    </tr>\n",
              "    <tr>\n",
              "      <th>9618</th>\n",
              "      <td>1.500</td>\n",
              "      <td>4.000</td>\n",
              "      <td>3.000</td>\n",
              "      <td>1.584</td>\n",
              "      <td>3.860</td>\n",
              "      <td>5.291</td>\n",
              "      <td>2.833</td>\n",
              "      <td>2.300</td>\n",
              "      <td>0.126</td>\n",
              "      <td>1</td>\n",
              "      <td>0</td>\n",
              "      <td>0</td>\n",
              "      <td>0</td>\n",
              "      <td>0</td>\n",
              "      <td>1</td>\n",
              "      <td>0</td>\n",
              "      <td>1</td>\n",
              "      <td>0</td>\n",
              "      <td>0</td>\n",
              "      <td>0</td>\n",
              "      <td>0</td>\n",
              "      <td>0</td>\n",
              "      <td>0</td>\n",
              "      <td>0</td>\n",
              "      <td>0</td>\n",
              "      <td>1</td>\n",
              "      <td>0</td>\n",
              "    </tr>\n",
              "  </tbody>\n",
              "</table>\n",
              "</div>\n",
              "      <button class=\"colab-df-convert\" onclick=\"convertToInteractive('df-cfdaa6d0-9ca6-45e4-9c53-0e089dda1fd6')\"\n",
              "              title=\"Convert this dataframe to an interactive table.\"\n",
              "              style=\"display:none;\">\n",
              "        \n",
              "  <svg xmlns=\"http://www.w3.org/2000/svg\" height=\"24px\"viewBox=\"0 0 24 24\"\n",
              "       width=\"24px\">\n",
              "    <path d=\"M0 0h24v24H0V0z\" fill=\"none\"/>\n",
              "    <path d=\"M18.56 5.44l.94 2.06.94-2.06 2.06-.94-2.06-.94-.94-2.06-.94 2.06-2.06.94zm-11 1L8.5 8.5l.94-2.06 2.06-.94-2.06-.94L8.5 2.5l-.94 2.06-2.06.94zm10 10l.94 2.06.94-2.06 2.06-.94-2.06-.94-.94-2.06-.94 2.06-2.06.94z\"/><path d=\"M17.41 7.96l-1.37-1.37c-.4-.4-.92-.59-1.43-.59-.52 0-1.04.2-1.43.59L10.3 9.45l-7.72 7.72c-.78.78-.78 2.05 0 2.83L4 21.41c.39.39.9.59 1.41.59.51 0 1.02-.2 1.41-.59l7.78-7.78 2.81-2.81c.8-.78.8-2.07 0-2.86zM5.41 20L4 18.59l7.72-7.72 1.47 1.35L5.41 20z\"/>\n",
              "  </svg>\n",
              "      </button>\n",
              "      \n",
              "  <style>\n",
              "    .colab-df-container {\n",
              "      display:flex;\n",
              "      flex-wrap:wrap;\n",
              "      gap: 12px;\n",
              "    }\n",
              "\n",
              "    .colab-df-convert {\n",
              "      background-color: #E8F0FE;\n",
              "      border: none;\n",
              "      border-radius: 50%;\n",
              "      cursor: pointer;\n",
              "      display: none;\n",
              "      fill: #1967D2;\n",
              "      height: 32px;\n",
              "      padding: 0 0 0 0;\n",
              "      width: 32px;\n",
              "    }\n",
              "\n",
              "    .colab-df-convert:hover {\n",
              "      background-color: #E2EBFA;\n",
              "      box-shadow: 0px 1px 2px rgba(60, 64, 67, 0.3), 0px 1px 3px 1px rgba(60, 64, 67, 0.15);\n",
              "      fill: #174EA6;\n",
              "    }\n",
              "\n",
              "    [theme=dark] .colab-df-convert {\n",
              "      background-color: #3B4455;\n",
              "      fill: #D2E3FC;\n",
              "    }\n",
              "\n",
              "    [theme=dark] .colab-df-convert:hover {\n",
              "      background-color: #434B5C;\n",
              "      box-shadow: 0px 1px 3px 1px rgba(0, 0, 0, 0.15);\n",
              "      filter: drop-shadow(0px 1px 2px rgba(0, 0, 0, 0.3));\n",
              "      fill: #FFFFFF;\n",
              "    }\n",
              "  </style>\n",
              "\n",
              "      <script>\n",
              "        const buttonEl =\n",
              "          document.querySelector('#df-cfdaa6d0-9ca6-45e4-9c53-0e089dda1fd6 button.colab-df-convert');\n",
              "        buttonEl.style.display =\n",
              "          google.colab.kernel.accessAllowed ? 'block' : 'none';\n",
              "\n",
              "        async function convertToInteractive(key) {\n",
              "          const element = document.querySelector('#df-cfdaa6d0-9ca6-45e4-9c53-0e089dda1fd6');\n",
              "          const dataTable =\n",
              "            await google.colab.kernel.invokeFunction('convertToInteractive',\n",
              "                                                     [key], {});\n",
              "          if (!dataTable) return;\n",
              "\n",
              "          const docLinkHtml = 'Like what you see? Visit the ' +\n",
              "            '<a target=\"_blank\" href=https://colab.research.google.com/notebooks/data_table.ipynb>data table notebook</a>'\n",
              "            + ' to learn more about interactive tables.';\n",
              "          element.innerHTML = '';\n",
              "          dataTable['output_type'] = 'display_data';\n",
              "          await google.colab.output.renderOutput(dataTable, element);\n",
              "          const docLink = document.createElement('div');\n",
              "          docLink.innerHTML = docLinkHtml;\n",
              "          element.appendChild(docLink);\n",
              "        }\n",
              "      </script>\n",
              "    </div>\n",
              "  </div>\n",
              "  "
            ]
          },
          "metadata": {},
          "execution_count": 63
        }
      ],
      "source": [
        "X_val.head(3)"
      ]
    },
    {
      "cell_type": "code",
      "execution_count": 64,
      "id": "486c1b57-f98c-4197-972d-31d5a0367731",
      "metadata": {
        "colab": {
          "base_uri": "https://localhost:8080/",
          "height": 225
        },
        "id": "486c1b57-f98c-4197-972d-31d5a0367731",
        "outputId": "1764c7fd-b7ad-4712-afef-3ba4262996ff"
      },
      "outputs": [
        {
          "output_type": "execute_result",
          "data": {
            "text/plain": [
              "      total_relationship_count  months_inactive_12_mon  contacts_count_12_mon  \\\n",
              "9760                     1.000                   3.000                  2.000   \n",
              "7413                     2.000                   3.000                  2.000   \n",
              "6074                     1.500                   3.000                  3.000   \n",
              "\n",
              "      total_revolving_bal  total_amt_chng_q4_q1  total_trans_amt  \\\n",
              "9760                0.865                 3.316            5.556   \n",
              "7413                0.000                 3.219            0.850   \n",
              "6074                0.000                 3.237            1.658   \n",
              "\n",
              "      total_trans_ct  total_ct_chng_q4_q1  avg_utilization_ratio  gender_M  \\\n",
              "9760           2.583                2.544                  0.369         1   \n",
              "7413           1.139                2.190                  0.000         1   \n",
              "6074           2.056                3.215                  0.000         0   \n",
              "\n",
              "      education_level_Doctorate  education_level_Graduate  \\\n",
              "9760                          0                         0   \n",
              "7413                          0                         0   \n",
              "6074                          0                         0   \n",
              "\n",
              "      education_level_High School  education_level_Post-Graduate  \\\n",
              "9760                            1                              0   \n",
              "7413                            0                              1   \n",
              "6074                            1                              0   \n",
              "\n",
              "      education_level_Uneducated  education_level_Unknown  \\\n",
              "9760                           0                        0   \n",
              "7413                           0                        0   \n",
              "6074                           0                        0   \n",
              "\n",
              "      marital_status_Married  marital_status_Single  marital_status_Unknown  \\\n",
              "9760                       0                      1                       0   \n",
              "7413                       0                      1                       0   \n",
              "6074                       1                      0                       0   \n",
              "\n",
              "      income_category_$40K - $60K  income_category_$60K - $80K  \\\n",
              "9760                            0                            0   \n",
              "7413                            0                            1   \n",
              "6074                            1                            0   \n",
              "\n",
              "      income_category_$80K - $120K  income_category_Less than $40K  \\\n",
              "9760                             1                               0   \n",
              "7413                             0                               0   \n",
              "6074                             0                               0   \n",
              "\n",
              "      income_category_Unknown  card_category_Gold  card_category_Platinum  \\\n",
              "9760                        0                   0                       0   \n",
              "7413                        0                   0                       0   \n",
              "6074                        0                   0                       0   \n",
              "\n",
              "      card_category_Silver  \n",
              "9760                     0  \n",
              "7413                     0  \n",
              "6074                     0  "
            ],
            "text/html": [
              "\n",
              "  <div id=\"df-2c502411-ab80-4cb1-b0aa-9be5e4996e4e\">\n",
              "    <div class=\"colab-df-container\">\n",
              "      <div>\n",
              "<style scoped>\n",
              "    .dataframe tbody tr th:only-of-type {\n",
              "        vertical-align: middle;\n",
              "    }\n",
              "\n",
              "    .dataframe tbody tr th {\n",
              "        vertical-align: top;\n",
              "    }\n",
              "\n",
              "    .dataframe thead th {\n",
              "        text-align: right;\n",
              "    }\n",
              "</style>\n",
              "<table border=\"1\" class=\"dataframe\">\n",
              "  <thead>\n",
              "    <tr style=\"text-align: right;\">\n",
              "      <th></th>\n",
              "      <th>total_relationship_count</th>\n",
              "      <th>months_inactive_12_mon</th>\n",
              "      <th>contacts_count_12_mon</th>\n",
              "      <th>total_revolving_bal</th>\n",
              "      <th>total_amt_chng_q4_q1</th>\n",
              "      <th>total_trans_amt</th>\n",
              "      <th>total_trans_ct</th>\n",
              "      <th>total_ct_chng_q4_q1</th>\n",
              "      <th>avg_utilization_ratio</th>\n",
              "      <th>gender_M</th>\n",
              "      <th>education_level_Doctorate</th>\n",
              "      <th>education_level_Graduate</th>\n",
              "      <th>education_level_High School</th>\n",
              "      <th>education_level_Post-Graduate</th>\n",
              "      <th>education_level_Uneducated</th>\n",
              "      <th>education_level_Unknown</th>\n",
              "      <th>marital_status_Married</th>\n",
              "      <th>marital_status_Single</th>\n",
              "      <th>marital_status_Unknown</th>\n",
              "      <th>income_category_$40K - $60K</th>\n",
              "      <th>income_category_$60K - $80K</th>\n",
              "      <th>income_category_$80K - $120K</th>\n",
              "      <th>income_category_Less than $40K</th>\n",
              "      <th>income_category_Unknown</th>\n",
              "      <th>card_category_Gold</th>\n",
              "      <th>card_category_Platinum</th>\n",
              "      <th>card_category_Silver</th>\n",
              "    </tr>\n",
              "  </thead>\n",
              "  <tbody>\n",
              "    <tr>\n",
              "      <th>9760</th>\n",
              "      <td>1.000</td>\n",
              "      <td>3.000</td>\n",
              "      <td>2.000</td>\n",
              "      <td>0.865</td>\n",
              "      <td>3.316</td>\n",
              "      <td>5.556</td>\n",
              "      <td>2.583</td>\n",
              "      <td>2.544</td>\n",
              "      <td>0.369</td>\n",
              "      <td>1</td>\n",
              "      <td>0</td>\n",
              "      <td>0</td>\n",
              "      <td>1</td>\n",
              "      <td>0</td>\n",
              "      <td>0</td>\n",
              "      <td>0</td>\n",
              "      <td>0</td>\n",
              "      <td>1</td>\n",
              "      <td>0</td>\n",
              "      <td>0</td>\n",
              "      <td>0</td>\n",
              "      <td>1</td>\n",
              "      <td>0</td>\n",
              "      <td>0</td>\n",
              "      <td>0</td>\n",
              "      <td>0</td>\n",
              "      <td>0</td>\n",
              "    </tr>\n",
              "    <tr>\n",
              "      <th>7413</th>\n",
              "      <td>2.000</td>\n",
              "      <td>3.000</td>\n",
              "      <td>2.000</td>\n",
              "      <td>0.000</td>\n",
              "      <td>3.219</td>\n",
              "      <td>0.850</td>\n",
              "      <td>1.139</td>\n",
              "      <td>2.190</td>\n",
              "      <td>0.000</td>\n",
              "      <td>1</td>\n",
              "      <td>0</td>\n",
              "      <td>0</td>\n",
              "      <td>0</td>\n",
              "      <td>1</td>\n",
              "      <td>0</td>\n",
              "      <td>0</td>\n",
              "      <td>0</td>\n",
              "      <td>1</td>\n",
              "      <td>0</td>\n",
              "      <td>0</td>\n",
              "      <td>1</td>\n",
              "      <td>0</td>\n",
              "      <td>0</td>\n",
              "      <td>0</td>\n",
              "      <td>0</td>\n",
              "      <td>0</td>\n",
              "      <td>0</td>\n",
              "    </tr>\n",
              "    <tr>\n",
              "      <th>6074</th>\n",
              "      <td>1.500</td>\n",
              "      <td>3.000</td>\n",
              "      <td>3.000</td>\n",
              "      <td>0.000</td>\n",
              "      <td>3.237</td>\n",
              "      <td>1.658</td>\n",
              "      <td>2.056</td>\n",
              "      <td>3.215</td>\n",
              "      <td>0.000</td>\n",
              "      <td>0</td>\n",
              "      <td>0</td>\n",
              "      <td>0</td>\n",
              "      <td>1</td>\n",
              "      <td>0</td>\n",
              "      <td>0</td>\n",
              "      <td>0</td>\n",
              "      <td>1</td>\n",
              "      <td>0</td>\n",
              "      <td>0</td>\n",
              "      <td>1</td>\n",
              "      <td>0</td>\n",
              "      <td>0</td>\n",
              "      <td>0</td>\n",
              "      <td>0</td>\n",
              "      <td>0</td>\n",
              "      <td>0</td>\n",
              "      <td>0</td>\n",
              "    </tr>\n",
              "  </tbody>\n",
              "</table>\n",
              "</div>\n",
              "      <button class=\"colab-df-convert\" onclick=\"convertToInteractive('df-2c502411-ab80-4cb1-b0aa-9be5e4996e4e')\"\n",
              "              title=\"Convert this dataframe to an interactive table.\"\n",
              "              style=\"display:none;\">\n",
              "        \n",
              "  <svg xmlns=\"http://www.w3.org/2000/svg\" height=\"24px\"viewBox=\"0 0 24 24\"\n",
              "       width=\"24px\">\n",
              "    <path d=\"M0 0h24v24H0V0z\" fill=\"none\"/>\n",
              "    <path d=\"M18.56 5.44l.94 2.06.94-2.06 2.06-.94-2.06-.94-.94-2.06-.94 2.06-2.06.94zm-11 1L8.5 8.5l.94-2.06 2.06-.94-2.06-.94L8.5 2.5l-.94 2.06-2.06.94zm10 10l.94 2.06.94-2.06 2.06-.94-2.06-.94-.94-2.06-.94 2.06-2.06.94z\"/><path d=\"M17.41 7.96l-1.37-1.37c-.4-.4-.92-.59-1.43-.59-.52 0-1.04.2-1.43.59L10.3 9.45l-7.72 7.72c-.78.78-.78 2.05 0 2.83L4 21.41c.39.39.9.59 1.41.59.51 0 1.02-.2 1.41-.59l7.78-7.78 2.81-2.81c.8-.78.8-2.07 0-2.86zM5.41 20L4 18.59l7.72-7.72 1.47 1.35L5.41 20z\"/>\n",
              "  </svg>\n",
              "      </button>\n",
              "      \n",
              "  <style>\n",
              "    .colab-df-container {\n",
              "      display:flex;\n",
              "      flex-wrap:wrap;\n",
              "      gap: 12px;\n",
              "    }\n",
              "\n",
              "    .colab-df-convert {\n",
              "      background-color: #E8F0FE;\n",
              "      border: none;\n",
              "      border-radius: 50%;\n",
              "      cursor: pointer;\n",
              "      display: none;\n",
              "      fill: #1967D2;\n",
              "      height: 32px;\n",
              "      padding: 0 0 0 0;\n",
              "      width: 32px;\n",
              "    }\n",
              "\n",
              "    .colab-df-convert:hover {\n",
              "      background-color: #E2EBFA;\n",
              "      box-shadow: 0px 1px 2px rgba(60, 64, 67, 0.3), 0px 1px 3px 1px rgba(60, 64, 67, 0.15);\n",
              "      fill: #174EA6;\n",
              "    }\n",
              "\n",
              "    [theme=dark] .colab-df-convert {\n",
              "      background-color: #3B4455;\n",
              "      fill: #D2E3FC;\n",
              "    }\n",
              "\n",
              "    [theme=dark] .colab-df-convert:hover {\n",
              "      background-color: #434B5C;\n",
              "      box-shadow: 0px 1px 3px 1px rgba(0, 0, 0, 0.15);\n",
              "      filter: drop-shadow(0px 1px 2px rgba(0, 0, 0, 0.3));\n",
              "      fill: #FFFFFF;\n",
              "    }\n",
              "  </style>\n",
              "\n",
              "      <script>\n",
              "        const buttonEl =\n",
              "          document.querySelector('#df-2c502411-ab80-4cb1-b0aa-9be5e4996e4e button.colab-df-convert');\n",
              "        buttonEl.style.display =\n",
              "          google.colab.kernel.accessAllowed ? 'block' : 'none';\n",
              "\n",
              "        async function convertToInteractive(key) {\n",
              "          const element = document.querySelector('#df-2c502411-ab80-4cb1-b0aa-9be5e4996e4e');\n",
              "          const dataTable =\n",
              "            await google.colab.kernel.invokeFunction('convertToInteractive',\n",
              "                                                     [key], {});\n",
              "          if (!dataTable) return;\n",
              "\n",
              "          const docLinkHtml = 'Like what you see? Visit the ' +\n",
              "            '<a target=\"_blank\" href=https://colab.research.google.com/notebooks/data_table.ipynb>data table notebook</a>'\n",
              "            + ' to learn more about interactive tables.';\n",
              "          element.innerHTML = '';\n",
              "          dataTable['output_type'] = 'display_data';\n",
              "          await google.colab.output.renderOutput(dataTable, element);\n",
              "          const docLink = document.createElement('div');\n",
              "          docLink.innerHTML = docLinkHtml;\n",
              "          element.appendChild(docLink);\n",
              "        }\n",
              "      </script>\n",
              "    </div>\n",
              "  </div>\n",
              "  "
            ]
          },
          "metadata": {},
          "execution_count": 64
        }
      ],
      "source": [
        "X_test.head(3)"
      ]
    },
    {
      "cell_type": "code",
      "execution_count": 65,
      "id": "db90dae5-0cd4-4fe2-836c-c8c06bfa0a48",
      "metadata": {
        "colab": {
          "base_uri": "https://localhost:8080/"
        },
        "id": "db90dae5-0cd4-4fe2-836c-c8c06bfa0a48",
        "outputId": "df05f378-d766-4e83-f61e-e3043511659a"
      },
      "outputs": [
        {
          "output_type": "stream",
          "name": "stdout",
          "text": [
            "Training data shape: \n",
            "\n",
            " (6075, 27) \n",
            "\n",
            "Validation Data Shape: \n",
            "\n",
            " (2026, 27) \n",
            "\n",
            "Testing Data Shape: \n",
            "\n",
            " (2026, 27)\n"
          ]
        }
      ],
      "source": [
        "print(\n",
        "    \"Training data shape: \\n\\n\",\n",
        "    X_train.shape,\n",
        "    \"\\n\\nValidation Data Shape: \\n\\n\",\n",
        "    X_val.shape,\n",
        "    \"\\n\\nTesting Data Shape: \\n\\n\",\n",
        "    X_test.shape,\n",
        ")"
      ]
    },
    {
      "cell_type": "markdown",
      "id": "1cc6245b-c648-44a9-9414-4ed62fa800bf",
      "metadata": {
        "id": "1cc6245b-c648-44a9-9414-4ed62fa800bf"
      },
      "source": [
        "We are now all set to build, train and validate the model"
      ]
    },
    {
      "cell_type": "markdown",
      "id": "7ae2951d-1c75-4056-997a-d51fe4f73e66",
      "metadata": {
        "id": "7ae2951d-1c75-4056-997a-d51fe4f73e66"
      },
      "source": [
        "Model Building Considerations\n",
        "Model evaluation criterion:\n",
        "Model can make wrong predictions as:\n",
        "Predicting a customer will attrite and the customer does not attrite - Loss of resources\n",
        "Predicting a customer will not attrite and the customer attrites - Loss of opportunity for churning the customer\n",
        "Which case is more important?\n",
        "Predicting that customer will not attrite, but actually attrites, would result in loss for the bank since if predicted correctly, marketing/sales team could have contacted the customer to retain them. This would result in losses. So, the false negatives should be minimized.\n",
        "How to reduce this loss i.e need to reduce False Negatives?\n",
        "Company wants Recall to be maximized, greater the Recall lesser the chances of false negatives.\n",
        "Let's start by building different models using KFold and cross_val_score and tune the best model using RandomizedSearchCV\n",
        "\n",
        "Stratified K-Folds cross-validation provides dataset indices to split data into train/validation sets. Split dataset into k consecutive folds (without shuffling by default) keeping the distribution of both classes in each fold the same as the target variable. Each fold is then used once as validation while the k - 1 remaining folds form the training set.\n",
        "Model Evaluation Functions - Scoring & Confusion Matrix\n",
        "We are creating a few functions to score the models, show the confusion matrix"
      ]
    },
    {
      "cell_type": "code",
      "execution_count": 66,
      "id": "15923fc5-53f7-4322-8c0f-fc46e14eca27",
      "metadata": {
        "id": "15923fc5-53f7-4322-8c0f-fc46e14eca27"
      },
      "outputs": [],
      "source": [
        "#Function to Get Scores\n",
        "def get_metrics_score(\n",
        "    model, train, test, train_y, test_y, threshold=0.5, flag=False, roc=True\n",
        "):\n",
        "    \"\"\"\n",
        "    Function to calculate different metric scores of the model - Accuracy, Recall, Precision, and F1 score\n",
        "    model: classifier to predict values of X\n",
        "    train, test: Independent features\n",
        "    train_y,test_y: Dependent variable\n",
        "    threshold: thresold for classifiying the observation as 1\n",
        "    flag: If the flag is set to True then only the print statements showing different will be displayed. The default value is set to True.\n",
        "    roc: If the roc is set to True then only roc score will be displayed. The default value is set to False.\n",
        "    \"\"\"\n",
        "    # defining an empty list to store train and test results\n",
        "\n",
        "    score_list = []\n",
        "\n",
        "    pred_train = model.predict_proba(train)[:, 1] > threshold\n",
        "    pred_test = model.predict_proba(test)[:, 1] > threshold\n",
        "\n",
        "    pred_train = np.round(pred_train)\n",
        "    pred_test = np.round(pred_test)\n",
        "\n",
        "    train_acc = accuracy_score(pred_train, train_y)\n",
        "    test_acc = accuracy_score(pred_test, test_y)\n",
        "\n",
        "    train_recall = recall_score(train_y, pred_train)\n",
        "    test_recall = recall_score(test_y, pred_test)\n",
        "\n",
        "    train_precision = precision_score(train_y, pred_train)\n",
        "    test_precision = precision_score(test_y, pred_test)\n",
        "\n",
        "    train_f1 = f1_score(train_y, pred_train)\n",
        "    test_f1 = f1_score(test_y, pred_test)\n",
        "\n",
        "    pred_train_proba = model.predict_proba(train)[:, 1]\n",
        "    pred_test_proba = model.predict_proba(test)[:, 1]\n",
        "\n",
        "    train_roc_auc = roc_auc_score(train_y, pred_train_proba)\n",
        "    test_roc_auc = roc_auc_score(test_y, pred_test_proba)\n",
        "\n",
        "    score_list.extend(\n",
        "        (\n",
        "            train_acc,\n",
        "            test_acc,\n",
        "            train_recall,\n",
        "            test_recall,\n",
        "            train_precision,\n",
        "            test_precision,\n",
        "            train_f1,\n",
        "            test_f1,\n",
        "            train_roc_auc,\n",
        "            test_roc_auc,\n",
        "        )\n",
        "    )\n",
        "\n",
        "    if flag == True:\n",
        "\n",
        "        print(\"Accuracy on training set : \", accuracy_score(pred_train, train_y))\n",
        "        print(\"Accuracy on test set : \", accuracy_score(pred_test, test_y))\n",
        "        print(\"Recall on training set : \", recall_score(train_y, pred_train))\n",
        "        print(\"Recall on test set : \", recall_score(test_y, pred_test))\n",
        "        print(\"Precision on training set : \", precision_score(train_y, pred_train))\n",
        "        print(\"Precision on test set : \", precision_score(test_y, pred_test))\n",
        "        print(\"F1 on training set : \", f1_score(train_y, pred_train))\n",
        "        print(\"F1 on test set : \", f1_score(test_y, pred_test))\n",
        "\n",
        "    if roc == True:\n",
        "        if flag == True:\n",
        "            print(\n",
        "                \"ROC-AUC Score on training set : \",\n",
        "                roc_auc_score(train_y, pred_train_proba),\n",
        "            )\n",
        "            print(\n",
        "                \"ROC-AUC Score on test set : \", roc_auc_score(test_y, pred_test_proba)\n",
        "            )\n",
        "\n",
        "    return score_list  # returning the list with train and test scores"
      ]
    },
    {
      "cell_type": "code",
      "execution_count": 67,
      "id": "10175377-e81d-456c-afd8-c11ca3eeda02",
      "metadata": {
        "id": "10175377-e81d-456c-afd8-c11ca3eeda02"
      },
      "outputs": [],
      "source": [
        "def make_confusion_matrix(model, test_X, y_actual, labels=[1, 0]):\n",
        "    \"\"\"\n",
        "    model : classifier to predict values of X\n",
        "    test_X: test set\n",
        "    y_actual : ground truth\n",
        "\n",
        "    \"\"\"\n",
        "    y_predict = model.predict(test_X)\n",
        "    cm = metrics.confusion_matrix(y_actual, y_predict, labels=[1, 0])\n",
        "    df_cm = pd.DataFrame(\n",
        "        cm,\n",
        "        index=[i for i in [\"Actual - Attrited\", \"Actual - Existing\"]],\n",
        "        columns=[i for i in [\"Predicted - Attrited\", \"Predicted - Existing\"]],\n",
        "    )\n",
        "    group_counts = [\"{0:0.0f}\".format(value) for value in cm.flatten()]\n",
        "    group_percentages = [\"{0:.2%}\".format(value) for value in cm.flatten() / np.sum(cm)]\n",
        "    labels = [f\"{v1}\\n{v2}\" for v1, v2 in zip(group_counts, group_percentages)]\n",
        "    labels = np.asarray(labels).reshape(2, 2)\n",
        "    plt.figure(figsize=(5, 3))\n",
        "    sns.heatmap(df_cm, annot=labels, fmt=\"\", cmap=\"Blues\").set(title=\"Confusion Matrix\")"
      ]
    },
    {
      "cell_type": "code",
      "execution_count": 68,
      "id": "6e278d42-eafa-422b-ac9e-b97ee56cb672",
      "metadata": {
        "id": "6e278d42-eafa-422b-ac9e-b97ee56cb672"
      },
      "outputs": [],
      "source": [
        "# defining empty lists to add train and test results\n",
        "\n",
        "model_names = []\n",
        "acc_train = []\n",
        "acc_test = []\n",
        "recall_train = []\n",
        "recall_test = []\n",
        "precision_train = []\n",
        "precision_test = []\n",
        "f1_train = []\n",
        "f1_test = []\n",
        "roc_auc_train = []\n",
        "roc_auc_test = []\n",
        "cross_val_train = []\n",
        "\n",
        "\n",
        "def add_score_model(model_name, score, cv_res):\n",
        "    \"\"\"Add scores to list so that we can compare all models score together\"\"\"\n",
        "    model_names.append(model_name)\n",
        "    acc_train.append(score[0])\n",
        "    acc_test.append(score[1])\n",
        "    recall_train.append(score[2])\n",
        "    recall_test.append(score[3])\n",
        "    precision_train.append(score[4])\n",
        "    precision_test.append(score[5])\n",
        "    f1_train.append(score[6])\n",
        "    f1_test.append(score[7])\n",
        "    roc_auc_train.append(score[8])\n",
        "    roc_auc_test.append(score[9])\n",
        "    cross_val_train.append(cv_res)"
      ]
    },
    {
      "cell_type": "markdown",
      "id": "239f5540-cc5a-4579-9d2d-b4a07a7b094f",
      "metadata": {
        "id": "239f5540-cc5a-4579-9d2d-b4a07a7b094f"
      },
      "source": [
        "Building Models\n",
        "We are making 9 models , Logistic Regression, Bagging, Random Forest, Gradient Boosting, Ada Boosting, Extreme Gradient Boosting, Decision Tree,KNN, Light Gradient Boosting.\n",
        "\n",
        "Build and Train Models\n",
        "We are building below 8 models:\n",
        " \n",
        "\n",
        "Bagging\n",
        "Random Forest Classification\n",
        "Gradient Boosting Machine\n",
        "Adaptive Boosting\n",
        "eXtreme Gradient Boosting\n",
        "Decision Tree Classification (Classification and Regression Trees - CART)\n",
        "Light Gradient Boosting Machine\n",
        "Logistic Regression\n",
        "KNN\n",
        " \n",
        "\n",
        "Light GBM is a fast, distributed, high-performance gradient boosting framework based on decision tree algorithm, used for ranking, classification and many other machine learning tasks.\n",
        " \n",
        "\n",
        "Since it is based on decision tree algorithms, it splits the tree leaf wise with the best fit whereas other boosting algorithms split the tree depth wise or level wise rather than leaf-wise. So when growing on the same leaf in Light GBM, the leaf-wise algorithm can reduce more loss than the level-wise algorithm and hence results in much better accuracy which can rarely be achieved by any of the existing boosting algorithms. Before is a diagrammatic representation by the makers of the Light GBM to explain the difference clearly."
      ]
    },
    {
      "cell_type": "code",
      "execution_count": 69,
      "id": "d56e8b15-1e67-4c18-bc9a-e25ab0c84773",
      "metadata": {
        "colab": {
          "base_uri": "https://localhost:8080/"
        },
        "id": "d56e8b15-1e67-4c18-bc9a-e25ab0c84773",
        "outputId": "8c21a5b8-60db-4563-cde5-0bf16d054f93"
      },
      "outputs": [
        {
          "output_type": "stream",
          "name": "stdout",
          "text": [
            "Operation Completed!\n"
          ]
        }
      ],
      "source": [
        "models = []  # Empty list to store all the models\n",
        "cv_results = []\n",
        "\n",
        "# Appending models into the list\n",
        "models.append((\"Bagging\", BaggingClassifier(random_state=seed)))\n",
        "models.append((\"Random forest\", RandomForestClassifier(random_state=seed)))\n",
        "models.append((\"GBM\", GradientBoostingClassifier(random_state=seed)))\n",
        "models.append((\"Adaboost\", AdaBoostClassifier(random_state=seed)))\n",
        "models.append((\"Xgboost\", XGBClassifier(random_state=seed, eval_metric=loss_func)))\n",
        "models.append((\"dtree\", DecisionTreeClassifier(random_state=seed)))\n",
        "models.append((\"Light GBM\", lgb.LGBMClassifier(random_state=seed)))\n",
        "models.append((\"Logistic Regression\", LogisticRegression(random_state=seed)))\n",
        "models.append((\"KNN\",KNeighborsClassifier(n_neighbors=7)))\n",
        "# For each model, run cross validation on 9 folds (+ 1 validation fold) with scoring for recall\n",
        "for name, model in models:\n",
        "    scoring = \"recall\"\n",
        "    kfold = StratifiedKFold(\n",
        "        n_splits=10, shuffle=True, random_state=1\n",
        "    )  # Setting number of splits equal to 10\n",
        "\n",
        "    cv_result = cross_val_score(\n",
        "        estimator=model, X=X_train, y=y_train, scoring=scoring, cv=kfold\n",
        "    )\n",
        "    cv_results.append(cv_result)\n",
        "\n",
        "    model.fit(X_train, y_train)\n",
        "    model_score = get_metrics_score(model, X_train, X_test, y_train, y_test)\n",
        "    add_score_model(name, model_score, cv_result.mean())\n",
        "\n",
        "print(\"Operation Completed!\")"
      ]
    },
    {
      "cell_type": "code",
      "execution_count": 70,
      "id": "b6b5a1a9-0d30-4f31-81ce-3cb3c3516110",
      "metadata": {
        "colab": {
          "base_uri": "https://localhost:8080/",
          "height": 386
        },
        "id": "b6b5a1a9-0d30-4f31-81ce-3cb3c3516110",
        "outputId": "66ddc230-98a0-45af-b65f-03d79acd4e9c"
      },
      "outputs": [
        {
          "output_type": "execute_result",
          "data": {
            "text/plain": [
              "<pandas.io.formats.style.Styler at 0x7fa726c0bfd0>"
            ],
            "text/html": [
              "<style type=\"text/css\">\n",
              "#T_0eec8_row0_col1, #T_0eec8_row0_col3, #T_0eec8_row0_col5, #T_0eec8_row0_col7, #T_0eec8_row0_col9, #T_0eec8_row0_col11, #T_0eec8_row5_col2, #T_0eec8_row5_col4, #T_0eec8_row5_col6, #T_0eec8_row5_col8, #T_0eec8_row5_col10, #T_0eec8_row6_col0, #T_0eec8_row6_col2, #T_0eec8_row6_col4, #T_0eec8_row6_col6, #T_0eec8_row6_col8, #T_0eec8_row6_col10 {\n",
              "  background-color: lightgreen;\n",
              "}\n",
              "#T_0eec8_row3_col0, #T_0eec8_row6_col11, #T_0eec8_row7_col2, #T_0eec8_row7_col4, #T_0eec8_row7_col6, #T_0eec8_row7_col7, #T_0eec8_row7_col8, #T_0eec8_row7_col10, #T_0eec8_row8_col1, #T_0eec8_row8_col3, #T_0eec8_row8_col5, #T_0eec8_row8_col9 {\n",
              "  background-color: pink;\n",
              "}\n",
              "</style>\n",
              "<table id=\"T_0eec8_\" class=\"dataframe\">\n",
              "  <thead>\n",
              "    <tr>\n",
              "      <th class=\"blank level0\" >&nbsp;</th>\n",
              "      <th class=\"col_heading level0 col0\" >Model</th>\n",
              "      <th class=\"col_heading level0 col1\" >Cross_Val_Score_Train</th>\n",
              "      <th class=\"col_heading level0 col2\" >Train_Accuracy</th>\n",
              "      <th class=\"col_heading level0 col3\" >Test_Accuracy</th>\n",
              "      <th class=\"col_heading level0 col4\" >Train_Recall</th>\n",
              "      <th class=\"col_heading level0 col5\" >Test_Recall</th>\n",
              "      <th class=\"col_heading level0 col6\" >Train_Precision</th>\n",
              "      <th class=\"col_heading level0 col7\" >Test_Precision</th>\n",
              "      <th class=\"col_heading level0 col8\" >Train_F1</th>\n",
              "      <th class=\"col_heading level0 col9\" >Test_F1</th>\n",
              "      <th class=\"col_heading level0 col10\" >Train_ROC_AUC</th>\n",
              "      <th class=\"col_heading level0 col11\" >Test_ROC_AUC</th>\n",
              "    </tr>\n",
              "  </thead>\n",
              "  <tbody>\n",
              "    <tr>\n",
              "      <th id=\"T_0eec8_level0_row0\" class=\"row_heading level0 row0\" >6</th>\n",
              "      <td id=\"T_0eec8_row0_col0\" class=\"data row0 col0\" >Light GBM</td>\n",
              "      <td id=\"T_0eec8_row0_col1\" class=\"data row0 col1\" >0.844267</td>\n",
              "      <td id=\"T_0eec8_row0_col2\" class=\"data row0 col2\" >0.999342</td>\n",
              "      <td id=\"T_0eec8_row0_col3\" class=\"data row0 col3\" >0.976308</td>\n",
              "      <td id=\"T_0eec8_row0_col4\" class=\"data row0 col4\" >0.998975</td>\n",
              "      <td id=\"T_0eec8_row0_col5\" class=\"data row0 col5\" >0.929231</td>\n",
              "      <td id=\"T_0eec8_row0_col6\" class=\"data row0 col6\" >0.996933</td>\n",
              "      <td id=\"T_0eec8_row0_col7\" class=\"data row0 col7\" >0.923547</td>\n",
              "      <td id=\"T_0eec8_row0_col8\" class=\"data row0 col8\" >0.997953</td>\n",
              "      <td id=\"T_0eec8_row0_col9\" class=\"data row0 col9\" >0.926380</td>\n",
              "      <td id=\"T_0eec8_row0_col10\" class=\"data row0 col10\" >0.999988</td>\n",
              "      <td id=\"T_0eec8_row0_col11\" class=\"data row0 col11\" >0.993571</td>\n",
              "    </tr>\n",
              "    <tr>\n",
              "      <th id=\"T_0eec8_level0_row1\" class=\"row_heading level0 row1\" >2</th>\n",
              "      <td id=\"T_0eec8_row1_col0\" class=\"data row1 col0\" >GBM</td>\n",
              "      <td id=\"T_0eec8_row1_col1\" class=\"data row1 col1\" >0.817620</td>\n",
              "      <td id=\"T_0eec8_row1_col2\" class=\"data row1 col2\" >0.969712</td>\n",
              "      <td id=\"T_0eec8_row1_col3\" class=\"data row1 col3\" >0.966930</td>\n",
              "      <td id=\"T_0eec8_row1_col4\" class=\"data row1 col4\" >0.873975</td>\n",
              "      <td id=\"T_0eec8_row1_col5\" class=\"data row1 col5\" >0.876923</td>\n",
              "      <td id=\"T_0eec8_row1_col6\" class=\"data row1 col6\" >0.933260</td>\n",
              "      <td id=\"T_0eec8_row1_col7\" class=\"data row1 col7\" >0.913462</td>\n",
              "      <td id=\"T_0eec8_row1_col8\" class=\"data row1 col8\" >0.902646</td>\n",
              "      <td id=\"T_0eec8_row1_col9\" class=\"data row1 col9\" >0.894819</td>\n",
              "      <td id=\"T_0eec8_row1_col10\" class=\"data row1 col10\" >0.992689</td>\n",
              "      <td id=\"T_0eec8_row1_col11\" class=\"data row1 col11\" >0.989508</td>\n",
              "    </tr>\n",
              "    <tr>\n",
              "      <th id=\"T_0eec8_level0_row2\" class=\"row_heading level0 row2\" >4</th>\n",
              "      <td id=\"T_0eec8_row2_col0\" class=\"data row2 col0\" >Xgboost</td>\n",
              "      <td id=\"T_0eec8_row2_col1\" class=\"data row2 col1\" >0.809426</td>\n",
              "      <td id=\"T_0eec8_row2_col2\" class=\"data row2 col2\" >0.966255</td>\n",
              "      <td id=\"T_0eec8_row2_col3\" class=\"data row2 col3\" >0.968904</td>\n",
              "      <td id=\"T_0eec8_row2_col4\" class=\"data row2 col4\" >0.849385</td>\n",
              "      <td id=\"T_0eec8_row2_col5\" class=\"data row2 col5\" >0.880000</td>\n",
              "      <td id=\"T_0eec8_row2_col6\" class=\"data row2 col6\" >0.934611</td>\n",
              "      <td id=\"T_0eec8_row2_col7\" class=\"data row2 col7\" >0.922581</td>\n",
              "      <td id=\"T_0eec8_row2_col8\" class=\"data row2 col8\" >0.889962</td>\n",
              "      <td id=\"T_0eec8_row2_col9\" class=\"data row2 col9\" >0.900787</td>\n",
              "      <td id=\"T_0eec8_row2_col10\" class=\"data row2 col10\" >0.992539</td>\n",
              "      <td id=\"T_0eec8_row2_col11\" class=\"data row2 col11\" >0.990775</td>\n",
              "    </tr>\n",
              "    <tr>\n",
              "      <th id=\"T_0eec8_level0_row3\" class=\"row_heading level0 row3\" >3</th>\n",
              "      <td id=\"T_0eec8_row3_col0\" class=\"data row3 col0\" >Adaboost</td>\n",
              "      <td id=\"T_0eec8_row3_col1\" class=\"data row3 col1\" >0.799137</td>\n",
              "      <td id=\"T_0eec8_row3_col2\" class=\"data row3 col2\" >0.956379</td>\n",
              "      <td id=\"T_0eec8_row3_col3\" class=\"data row3 col3\" >0.958045</td>\n",
              "      <td id=\"T_0eec8_row3_col4\" class=\"data row3 col4\" >0.830943</td>\n",
              "      <td id=\"T_0eec8_row3_col5\" class=\"data row3 col5\" >0.864615</td>\n",
              "      <td id=\"T_0eec8_row3_col6\" class=\"data row3 col6\" >0.890231</td>\n",
              "      <td id=\"T_0eec8_row3_col7\" class=\"data row3 col7\" >0.872671</td>\n",
              "      <td id=\"T_0eec8_row3_col8\" class=\"data row3 col8\" >0.859565</td>\n",
              "      <td id=\"T_0eec8_row3_col9\" class=\"data row3 col9\" >0.868624</td>\n",
              "      <td id=\"T_0eec8_row3_col10\" class=\"data row3 col10\" >0.987073</td>\n",
              "      <td id=\"T_0eec8_row3_col11\" class=\"data row3 col11\" >0.985719</td>\n",
              "    </tr>\n",
              "    <tr>\n",
              "      <th id=\"T_0eec8_level0_row4\" class=\"row_heading level0 row4\" >0</th>\n",
              "      <td id=\"T_0eec8_row4_col0\" class=\"data row4 col0\" >Bagging</td>\n",
              "      <td id=\"T_0eec8_row4_col1\" class=\"data row4 col1\" >0.785862</td>\n",
              "      <td id=\"T_0eec8_row4_col2\" class=\"data row4 col2\" >0.996049</td>\n",
              "      <td id=\"T_0eec8_row4_col3\" class=\"data row4 col3\" >0.955084</td>\n",
              "      <td id=\"T_0eec8_row4_col4\" class=\"data row4 col4\" >0.980533</td>\n",
              "      <td id=\"T_0eec8_row4_col5\" class=\"data row4 col5\" >0.846154</td>\n",
              "      <td id=\"T_0eec8_row4_col6\" class=\"data row4 col6\" >0.994802</td>\n",
              "      <td id=\"T_0eec8_row4_col7\" class=\"data row4 col7\" >0.870253</td>\n",
              "      <td id=\"T_0eec8_row4_col8\" class=\"data row4 col8\" >0.987616</td>\n",
              "      <td id=\"T_0eec8_row4_col9\" class=\"data row4 col9\" >0.858034</td>\n",
              "      <td id=\"T_0eec8_row4_col10\" class=\"data row4 col10\" >0.999899</td>\n",
              "      <td id=\"T_0eec8_row4_col11\" class=\"data row4 col11\" >0.974716</td>\n",
              "    </tr>\n",
              "    <tr>\n",
              "      <th id=\"T_0eec8_level0_row5\" class=\"row_heading level0 row5\" >1</th>\n",
              "      <td id=\"T_0eec8_row5_col0\" class=\"data row5 col0\" >Random forest</td>\n",
              "      <td id=\"T_0eec8_row5_col1\" class=\"data row5 col1\" >0.770440</td>\n",
              "      <td id=\"T_0eec8_row5_col2\" class=\"data row5 col2\" >1.000000</td>\n",
              "      <td id=\"T_0eec8_row5_col3\" class=\"data row5 col3\" >0.954590</td>\n",
              "      <td id=\"T_0eec8_row5_col4\" class=\"data row5 col4\" >1.000000</td>\n",
              "      <td id=\"T_0eec8_row5_col5\" class=\"data row5 col5\" >0.803077</td>\n",
              "      <td id=\"T_0eec8_row5_col6\" class=\"data row5 col6\" >1.000000</td>\n",
              "      <td id=\"T_0eec8_row5_col7\" class=\"data row5 col7\" >0.903114</td>\n",
              "      <td id=\"T_0eec8_row5_col8\" class=\"data row5 col8\" >1.000000</td>\n",
              "      <td id=\"T_0eec8_row5_col9\" class=\"data row5 col9\" >0.850163</td>\n",
              "      <td id=\"T_0eec8_row5_col10\" class=\"data row5 col10\" >1.000000</td>\n",
              "      <td id=\"T_0eec8_row5_col11\" class=\"data row5 col11\" >0.989199</td>\n",
              "    </tr>\n",
              "    <tr>\n",
              "      <th id=\"T_0eec8_level0_row6\" class=\"row_heading level0 row6\" >5</th>\n",
              "      <td id=\"T_0eec8_row6_col0\" class=\"data row6 col0\" >dtree</td>\n",
              "      <td id=\"T_0eec8_row6_col1\" class=\"data row6 col1\" >0.754113</td>\n",
              "      <td id=\"T_0eec8_row6_col2\" class=\"data row6 col2\" >1.000000</td>\n",
              "      <td id=\"T_0eec8_row6_col3\" class=\"data row6 col3\" >0.929911</td>\n",
              "      <td id=\"T_0eec8_row6_col4\" class=\"data row6 col4\" >1.000000</td>\n",
              "      <td id=\"T_0eec8_row6_col5\" class=\"data row6 col5\" >0.821538</td>\n",
              "      <td id=\"T_0eec8_row6_col6\" class=\"data row6 col6\" >1.000000</td>\n",
              "      <td id=\"T_0eec8_row6_col7\" class=\"data row6 col7\" >0.760684</td>\n",
              "      <td id=\"T_0eec8_row6_col8\" class=\"data row6 col8\" >1.000000</td>\n",
              "      <td id=\"T_0eec8_row6_col9\" class=\"data row6 col9\" >0.789941</td>\n",
              "      <td id=\"T_0eec8_row6_col10\" class=\"data row6 col10\" >1.000000</td>\n",
              "      <td id=\"T_0eec8_row6_col11\" class=\"data row6 col11\" >0.886078</td>\n",
              "    </tr>\n",
              "    <tr>\n",
              "      <th id=\"T_0eec8_level0_row7\" class=\"row_heading level0 row7\" >7</th>\n",
              "      <td id=\"T_0eec8_row7_col0\" class=\"data row7 col0\" >Logistic Regression</td>\n",
              "      <td id=\"T_0eec8_row7_col1\" class=\"data row7 col1\" >0.562487</td>\n",
              "      <td id=\"T_0eec8_row7_col2\" class=\"data row7 col2\" >0.901235</td>\n",
              "      <td id=\"T_0eec8_row7_col3\" class=\"data row7 col3\" >0.904245</td>\n",
              "      <td id=\"T_0eec8_row7_col4\" class=\"data row7 col4\" >0.563525</td>\n",
              "      <td id=\"T_0eec8_row7_col5\" class=\"data row7 col5\" >0.600000</td>\n",
              "      <td id=\"T_0eec8_row7_col6\" class=\"data row7 col6\" >0.759669</td>\n",
              "      <td id=\"T_0eec8_row7_col7\" class=\"data row7 col7\" >0.752896</td>\n",
              "      <td id=\"T_0eec8_row7_col8\" class=\"data row7 col8\" >0.647059</td>\n",
              "      <td id=\"T_0eec8_row7_col9\" class=\"data row7 col9\" >0.667808</td>\n",
              "      <td id=\"T_0eec8_row7_col10\" class=\"data row7 col10\" >0.920375</td>\n",
              "      <td id=\"T_0eec8_row7_col11\" class=\"data row7 col11\" >0.934017</td>\n",
              "    </tr>\n",
              "    <tr>\n",
              "      <th id=\"T_0eec8_level0_row8\" class=\"row_heading level0 row8\" >8</th>\n",
              "      <td id=\"T_0eec8_row8_col0\" class=\"data row8 col0\" >KNN</td>\n",
              "      <td id=\"T_0eec8_row8_col1\" class=\"data row8 col1\" >0.502051</td>\n",
              "      <td id=\"T_0eec8_row8_col2\" class=\"data row8 col2\" >0.922798</td>\n",
              "      <td id=\"T_0eec8_row8_col3\" class=\"data row8 col3\" >0.902270</td>\n",
              "      <td id=\"T_0eec8_row8_col4\" class=\"data row8 col4\" >0.597336</td>\n",
              "      <td id=\"T_0eec8_row8_col5\" class=\"data row8 col5\" >0.501538</td>\n",
              "      <td id=\"T_0eec8_row8_col6\" class=\"data row8 col6\" >0.884674</td>\n",
              "      <td id=\"T_0eec8_row8_col7\" class=\"data row8 col7\" >0.819095</td>\n",
              "      <td id=\"T_0eec8_row8_col8\" class=\"data row8 col8\" >0.713150</td>\n",
              "      <td id=\"T_0eec8_row8_col9\" class=\"data row8 col9\" >0.622137</td>\n",
              "      <td id=\"T_0eec8_row8_col10\" class=\"data row8 col10\" >0.968172</td>\n",
              "      <td id=\"T_0eec8_row8_col11\" class=\"data row8 col11\" >0.925656</td>\n",
              "    </tr>\n",
              "  </tbody>\n",
              "</table>\n"
            ]
          },
          "metadata": {},
          "execution_count": 70
        }
      ],
      "source": [
        "comparison_frame = pd.DataFrame(\n",
        "    {\n",
        "        \"Model\": model_names,\n",
        "        \"Cross_Val_Score_Train\": cross_val_train,\n",
        "        \"Train_Accuracy\": acc_train,\n",
        "        \"Test_Accuracy\": acc_test,\n",
        "        \"Train_Recall\": recall_train,\n",
        "        \"Test_Recall\": recall_test,\n",
        "        \"Train_Precision\": precision_train,\n",
        "        \"Test_Precision\": precision_test,\n",
        "        \"Train_F1\": f1_train,\n",
        "        \"Test_F1\": f1_test,\n",
        "        \"Train_ROC_AUC\": roc_auc_train,\n",
        "        \"Test_ROC_AUC\": roc_auc_test,\n",
        "    }\n",
        ")\n",
        "\n",
        "# Sorting models in decreasing order of test recall\n",
        "comparison_frame.sort_values(\n",
        "    by=[\"Cross_Val_Score_Train\", \"Test_Recall\"], ascending=False\n",
        ").style.highlight_max(color=\"lightgreen\", axis=0).highlight_min(color=\"pink\", axis=0)"
      ]
    },
    {
      "cell_type": "markdown",
      "id": "8f49403a-e465-47de-aebc-761098533c7c",
      "metadata": {
        "id": "8f49403a-e465-47de-aebc-761098533c7c"
      },
      "source": [
        "The best model with respect to cross validation score and test recall is Light GBM\n",
        "The next best models are XGBoost, GBM and AdaBoost respectively"
      ]
    },
    {
      "cell_type": "markdown",
      "id": "eff4ae9a-f514-4888-9f96-fcd2e2243e51",
      "metadata": {
        "id": "eff4ae9a-f514-4888-9f96-fcd2e2243e51"
      },
      "source": [
        "Plotting the cross-validation result comparison\n",
        "We are plotting the cross validation results for the 7 models in a Box plot, to check which models are potentially good."
      ]
    },
    {
      "cell_type": "code",
      "execution_count": 71,
      "id": "b6c4ae7d-11b4-4a58-aa57-3c9dd6e167c6",
      "metadata": {
        "id": "b6c4ae7d-11b4-4a58-aa57-3c9dd6e167c6"
      },
      "outputs": [],
      "source": [
        "# Plotting boxplots for CV scores of all models defined above\n",
        "fig = plt.figure(figsize=(18, 18))\n",
        "\n",
        "fig.suptitle(\"Algorithm Comparison\")\n",
        "ax = fig.add_subplot(111)\n",
        "\n",
        "plt.boxplot(cv_results)\n",
        "ax.set_xticklabels(model_names)\n",
        "\n",
        "plt.show()"
      ]
    },
    {
      "cell_type": "markdown",
      "id": "f7de8093-7369-4a04-88ed-6c7bcacc546b",
      "metadata": {
        "id": "f7de8093-7369-4a04-88ed-6c7bcacc546b"
      },
      "source": [
        "It appears Light GBM, XGBoost, GBM are the models with good potential. Ada Boost also looks good with the higher end outlier performance score"
      ]
    },
    {
      "cell_type": "markdown",
      "id": "b30442c5-499b-4d45-a890-df18aa91afc7",
      "metadata": {
        "id": "b30442c5-499b-4d45-a890-df18aa91afc7"
      },
      "source": [
        "Oversampling train data using SMOTE\n",
        "Our dataset has a huge imbalance in target variable labels. To deal with such datasets, we have a few tricks, which we call Imbalanced Classification.\n",
        "\n",
        "Imbalanced classification involves developing predictive models on classification datasets that have a severe class imbalance.\n",
        "\n",
        "The challenge of working with imbalanced datasets is that most machine learning techniques will ignore, and in turn have poor performance on the minority class, although typically it is performance on the minority class that is most important, which is the case in our study here.\n",
        "\n",
        "One approach to addressing imbalanced datasets is to oversample the minority class. The simplest approach involves duplicating examples in the minority class, although these examples don’t add any new information to the model. Instead, new examples can be synthesized from the existing examples. This is a type of data augmentation for the minority class and is referred to as the Synthetic Minority Oversampling Technique, or SMOTE for short."
      ]
    },
    {
      "cell_type": "code",
      "execution_count": 72,
      "id": "111b71e5-5864-4add-acda-62bdb358546d",
      "metadata": {
        "colab": {
          "base_uri": "https://localhost:8080/"
        },
        "id": "111b71e5-5864-4add-acda-62bdb358546d",
        "outputId": "b054abcf-2f0b-48a6-db42-3bd4e446e3bd"
      },
      "outputs": [
        {
          "output_type": "stream",
          "name": "stdout",
          "text": [
            "Before UpSampling, counts of label 'Yes': 976\n",
            "Before UpSampling, counts of label 'No': 5099 \n",
            "\n",
            "After UpSampling, counts of label 'Yes': 5099\n",
            "After UpSampling, counts of label 'No': 5099 \n",
            "\n",
            "After UpSampling, the shape of train_X: (10198, 27)\n",
            "After UpSampling, the shape of train_y: (10198,) \n",
            "\n"
          ]
        }
      ],
      "source": [
        "print(\"Before UpSampling, counts of label 'Yes': {}\".format(sum(y_train == 1)))\n",
        "print(\"Before UpSampling, counts of label 'No': {} \\n\".format(sum(y_train == 0)))\n",
        "\n",
        "sm = SMOTE(\n",
        "    sampling_strategy=\"minority\", k_neighbors=10, random_state=seed\n",
        ")  # Synthetic Minority Over Sampling Technique\n",
        "\n",
        "X_train_over, y_train_over = sm.fit_resample(X_train, y_train)\n",
        "\n",
        "\n",
        "print(\"After UpSampling, counts of label 'Yes': {}\".format(sum(y_train_over == 1)))\n",
        "print(\"After UpSampling, counts of label 'No': {} \\n\".format(sum(y_train_over == 0)))\n",
        "\n",
        "\n",
        "print(\"After UpSampling, the shape of train_X: {}\".format(X_train_over.shape))\n",
        "print(\"After UpSampling, the shape of train_y: {} \\n\".format(y_train_over.shape))"
      ]
    },
    {
      "cell_type": "markdown",
      "id": "c6b27ae2-9db2-4839-b2c7-bb03a8c6511f",
      "metadata": {
        "id": "c6b27ae2-9db2-4839-b2c7-bb03a8c6511f"
      },
      "source": [
        "Build Models with Oversampled Data\n",
        "Build and Train Models\n",
        "We are building and training the same 7 models as before. We are however going to use the over-sampled training data for training the models."
      ]
    },
    {
      "cell_type": "markdown",
      "id": "50b57b79-9c5b-41fe-941a-341fc6242d3c",
      "metadata": {
        "id": "50b57b79-9c5b-41fe-941a-341fc6242d3c"
      },
      "source": [
        "Next, using the Principal Component Analysis (PCA), we will reduce the dimensionality of the dataset as \"small\" as possible without losing any information."
      ]
    },
    {
      "cell_type": "code",
      "execution_count": 73,
      "id": "c32a2d17-9fa0-4a60-afc6-af58ca0bf386",
      "metadata": {
        "colab": {
          "base_uri": "https://localhost:8080/"
        },
        "id": "c32a2d17-9fa0-4a60-afc6-af58ca0bf386",
        "outputId": "44dec040-9084-4061-cf56-bfe18a328466"
      },
      "outputs": [
        {
          "output_type": "stream",
          "name": "stdout",
          "text": [
            "Operation Completed!\n"
          ]
        }
      ],
      "source": [
        "models_over = []\n",
        "\n",
        "# Appending models into the list\n",
        "\n",
        "models_over.append((\"Bagging UpSampling\", BaggingClassifier(random_state=seed)))\n",
        "models_over.append(\n",
        "    (\"Random forest UpSampling\", RandomForestClassifier(random_state=seed))\n",
        ")\n",
        "models_over.append((\"GBM UpSampling\", GradientBoostingClassifier(random_state=seed)))\n",
        "models_over.append((\"Adaboost UpSampling\", AdaBoostClassifier(random_state=seed)))\n",
        "models_over.append(\n",
        "    (\"Xgboost UpSampling\", XGBClassifier(random_state=seed, eval_metric=loss_func))\n",
        ")\n",
        "models_over.append((\"dtree UpSampling\", DecisionTreeClassifier(random_state=seed)))\n",
        "models_over.append((\"Light GBM UpSampling\", lgb.LGBMClassifier(random_state=seed)))\n",
        "models_over.append((\"Logistic Regression UpSampling\", LogisticRegression(random_state=seed)))\n",
        "models_over.append((\"KNN UpSampling\",KNeighborsClassifier(n_neighbors=7)))\n",
        "\n",
        "for name, model in models_over:\n",
        "    scoring = \"recall\"\n",
        "    kfold = StratifiedKFold(\n",
        "        n_splits=10, shuffle=True, random_state=1\n",
        "    )  # Setting number of splits equal to 10\n",
        "\n",
        "    cv_result_over = cross_val_score(\n",
        "        estimator=model, X=X_train_over, y=y_train_over, scoring=scoring, cv=kfold\n",
        "    )\n",
        "    cv_results.append(cv_result_over)\n",
        "\n",
        "    model.fit(X_train_over, y_train_over)\n",
        "    model_score_over = get_metrics_score(\n",
        "        model, X_train_over, X_val, y_train_over, y_val\n",
        "    )\n",
        "    add_score_model(name, model_score_over, cv_result_over.mean())\n",
        "\n",
        "print(\"Operation Completed!\")"
      ]
    },
    {
      "cell_type": "code",
      "execution_count": 74,
      "id": "b93b00b3-aaed-4e7f-a64e-451cbd053053",
      "metadata": {
        "colab": {
          "base_uri": "https://localhost:8080/",
          "height": 859
        },
        "id": "b93b00b3-aaed-4e7f-a64e-451cbd053053",
        "outputId": "f891c080-f5ec-41b0-9297-0a34c603b173"
      },
      "outputs": [
        {
          "output_type": "execute_result",
          "data": {
            "text/plain": [
              "<pandas.io.formats.style.Styler at 0x7fa7264567d0>"
            ],
            "text/html": [
              "<style type=\"text/css\">\n",
              "#T_c2a61_row0_col3, #T_c2a61_row0_col5, #T_c2a61_row0_col7, #T_c2a61_row0_col9, #T_c2a61_row0_col11, #T_c2a61_row5_col1, #T_c2a61_row9_col2, #T_c2a61_row9_col4, #T_c2a61_row9_col6, #T_c2a61_row9_col8, #T_c2a61_row9_col10, #T_c2a61_row12_col2, #T_c2a61_row12_col4, #T_c2a61_row12_col6, #T_c2a61_row12_col8, #T_c2a61_row12_col10, #T_c2a61_row13_col0, #T_c2a61_row13_col2, #T_c2a61_row13_col4, #T_c2a61_row13_col6, #T_c2a61_row13_col8, #T_c2a61_row13_col10, #T_c2a61_row14_col2, #T_c2a61_row14_col4, #T_c2a61_row14_col6, #T_c2a61_row14_col8, #T_c2a61_row14_col10 {\n",
              "  background-color: lightgreen;\n",
              "}\n",
              "#T_c2a61_row5_col3, #T_c2a61_row5_col7, #T_c2a61_row8_col0, #T_c2a61_row13_col11, #T_c2a61_row15_col2, #T_c2a61_row16_col4, #T_c2a61_row16_col6, #T_c2a61_row16_col8, #T_c2a61_row16_col10, #T_c2a61_row17_col1, #T_c2a61_row17_col5, #T_c2a61_row17_col9 {\n",
              "  background-color: pink;\n",
              "}\n",
              "</style>\n",
              "<table id=\"T_c2a61_\" class=\"dataframe\">\n",
              "  <thead>\n",
              "    <tr>\n",
              "      <th class=\"blank level0\" >&nbsp;</th>\n",
              "      <th class=\"col_heading level0 col0\" >Model</th>\n",
              "      <th class=\"col_heading level0 col1\" >Cross_Val_Score_Train</th>\n",
              "      <th class=\"col_heading level0 col2\" >Train_Accuracy</th>\n",
              "      <th class=\"col_heading level0 col3\" >Test_Accuracy</th>\n",
              "      <th class=\"col_heading level0 col4\" >Train_Recall</th>\n",
              "      <th class=\"col_heading level0 col5\" >Test_Recall</th>\n",
              "      <th class=\"col_heading level0 col6\" >Train_Precision</th>\n",
              "      <th class=\"col_heading level0 col7\" >Test_Precision</th>\n",
              "      <th class=\"col_heading level0 col8\" >Train_F1</th>\n",
              "      <th class=\"col_heading level0 col9\" >Test_F1</th>\n",
              "      <th class=\"col_heading level0 col10\" >Train_ROC_AUC</th>\n",
              "      <th class=\"col_heading level0 col11\" >Test_ROC_AUC</th>\n",
              "    </tr>\n",
              "  </thead>\n",
              "  <tbody>\n",
              "    <tr>\n",
              "      <th id=\"T_c2a61_level0_row0\" class=\"row_heading level0 row0\" >6</th>\n",
              "      <td id=\"T_c2a61_row0_col0\" class=\"data row0 col0\" >Light GBM</td>\n",
              "      <td id=\"T_c2a61_row0_col1\" class=\"data row0 col1\" >0.844267</td>\n",
              "      <td id=\"T_c2a61_row0_col2\" class=\"data row0 col2\" >0.999342</td>\n",
              "      <td id=\"T_c2a61_row0_col3\" class=\"data row0 col3\" >0.976308</td>\n",
              "      <td id=\"T_c2a61_row0_col4\" class=\"data row0 col4\" >0.998975</td>\n",
              "      <td id=\"T_c2a61_row0_col5\" class=\"data row0 col5\" >0.929231</td>\n",
              "      <td id=\"T_c2a61_row0_col6\" class=\"data row0 col6\" >0.996933</td>\n",
              "      <td id=\"T_c2a61_row0_col7\" class=\"data row0 col7\" >0.923547</td>\n",
              "      <td id=\"T_c2a61_row0_col8\" class=\"data row0 col8\" >0.997953</td>\n",
              "      <td id=\"T_c2a61_row0_col9\" class=\"data row0 col9\" >0.926380</td>\n",
              "      <td id=\"T_c2a61_row0_col10\" class=\"data row0 col10\" >0.999988</td>\n",
              "      <td id=\"T_c2a61_row0_col11\" class=\"data row0 col11\" >0.993571</td>\n",
              "    </tr>\n",
              "    <tr>\n",
              "      <th id=\"T_c2a61_level0_row1\" class=\"row_heading level0 row1\" >15</th>\n",
              "      <td id=\"T_c2a61_row1_col0\" class=\"data row1 col0\" >Light GBM UpSampling</td>\n",
              "      <td id=\"T_c2a61_row1_col1\" class=\"data row1 col1\" >0.977642</td>\n",
              "      <td id=\"T_c2a61_row1_col2\" class=\"data row1 col2\" >0.998137</td>\n",
              "      <td id=\"T_c2a61_row1_col3\" class=\"data row1 col3\" >0.967917</td>\n",
              "      <td id=\"T_c2a61_row1_col4\" class=\"data row1 col4\" >0.999216</td>\n",
              "      <td id=\"T_c2a61_row1_col5\" class=\"data row1 col5\" >0.920245</td>\n",
              "      <td id=\"T_c2a61_row1_col6\" class=\"data row1 col6\" >0.997065</td>\n",
              "      <td id=\"T_c2a61_row1_col7\" class=\"data row1 col7\" >0.884956</td>\n",
              "      <td id=\"T_c2a61_row1_col8\" class=\"data row1 col8\" >0.998139</td>\n",
              "      <td id=\"T_c2a61_row1_col9\" class=\"data row1 col9\" >0.902256</td>\n",
              "      <td id=\"T_c2a61_row1_col10\" class=\"data row1 col10\" >0.999984</td>\n",
              "      <td id=\"T_c2a61_row1_col11\" class=\"data row1 col11\" >0.992721</td>\n",
              "    </tr>\n",
              "    <tr>\n",
              "      <th id=\"T_c2a61_level0_row2\" class=\"row_heading level0 row2\" >11</th>\n",
              "      <td id=\"T_c2a61_row2_col0\" class=\"data row2 col0\" >GBM UpSampling</td>\n",
              "      <td id=\"T_c2a61_row2_col1\" class=\"data row2 col1\" >0.967837</td>\n",
              "      <td id=\"T_c2a61_row2_col2\" class=\"data row2 col2\" >0.971269</td>\n",
              "      <td id=\"T_c2a61_row2_col3\" class=\"data row2 col3\" >0.957552</td>\n",
              "      <td id=\"T_c2a61_row2_col4\" class=\"data row2 col4\" >0.974701</td>\n",
              "      <td id=\"T_c2a61_row2_col5\" class=\"data row2 col5\" >0.914110</td>\n",
              "      <td id=\"T_c2a61_row2_col6\" class=\"data row2 col6\" >0.968056</td>\n",
              "      <td id=\"T_c2a61_row2_col7\" class=\"data row2 col7\" >0.837079</td>\n",
              "      <td id=\"T_c2a61_row2_col8\" class=\"data row2 col8\" >0.971367</td>\n",
              "      <td id=\"T_c2a61_row2_col9\" class=\"data row2 col9\" >0.873900</td>\n",
              "      <td id=\"T_c2a61_row2_col10\" class=\"data row2 col10\" >0.996154</td>\n",
              "      <td id=\"T_c2a61_row2_col11\" class=\"data row2 col11\" >0.987595</td>\n",
              "    </tr>\n",
              "    <tr>\n",
              "      <th id=\"T_c2a61_level0_row3\" class=\"row_heading level0 row3\" >12</th>\n",
              "      <td id=\"T_c2a61_row3_col0\" class=\"data row3 col0\" >Adaboost UpSampling</td>\n",
              "      <td id=\"T_c2a61_row3_col1\" class=\"data row3 col1\" >0.956857</td>\n",
              "      <td id=\"T_c2a61_row3_col2\" class=\"data row3 col2\" >0.952442</td>\n",
              "      <td id=\"T_c2a61_row3_col3\" class=\"data row3 col3\" >0.942251</td>\n",
              "      <td id=\"T_c2a61_row3_col4\" class=\"data row3 col4\" >0.959012</td>\n",
              "      <td id=\"T_c2a61_row3_col5\" class=\"data row3 col5\" >0.911043</td>\n",
              "      <td id=\"T_c2a61_row3_col6\" class=\"data row3 col6\" >0.946574</td>\n",
              "      <td id=\"T_c2a61_row3_col7\" class=\"data row3 col7\" >0.771429</td>\n",
              "      <td id=\"T_c2a61_row3_col8\" class=\"data row3 col8\" >0.952752</td>\n",
              "      <td id=\"T_c2a61_row3_col9\" class=\"data row3 col9\" >0.835443</td>\n",
              "      <td id=\"T_c2a61_row3_col10\" class=\"data row3 col10\" >0.991587</td>\n",
              "      <td id=\"T_c2a61_row3_col11\" class=\"data row3 col11\" >0.981916</td>\n",
              "    </tr>\n",
              "    <tr>\n",
              "      <th id=\"T_c2a61_level0_row4\" class=\"row_heading level0 row4\" >13</th>\n",
              "      <td id=\"T_c2a61_row4_col0\" class=\"data row4 col0\" >Xgboost UpSampling</td>\n",
              "      <td id=\"T_c2a61_row4_col1\" class=\"data row4 col1\" >0.965092</td>\n",
              "      <td id=\"T_c2a61_row4_col2\" class=\"data row4 col2\" >0.967739</td>\n",
              "      <td id=\"T_c2a61_row4_col3\" class=\"data row4 col3\" >0.951629</td>\n",
              "      <td id=\"T_c2a61_row4_col4\" class=\"data row4 col4\" >0.971367</td>\n",
              "      <td id=\"T_c2a61_row4_col5\" class=\"data row4 col5\" >0.907975</td>\n",
              "      <td id=\"T_c2a61_row4_col6\" class=\"data row4 col6\" >0.964369</td>\n",
              "      <td id=\"T_c2a61_row4_col7\" class=\"data row4 col7\" >0.813187</td>\n",
              "      <td id=\"T_c2a61_row4_col8\" class=\"data row4 col8\" >0.967855</td>\n",
              "      <td id=\"T_c2a61_row4_col9\" class=\"data row4 col9\" >0.857971</td>\n",
              "      <td id=\"T_c2a61_row4_col10\" class=\"data row4 col10\" >0.995584</td>\n",
              "      <td id=\"T_c2a61_row4_col11\" class=\"data row4 col11\" >0.988160</td>\n",
              "    </tr>\n",
              "    <tr>\n",
              "      <th id=\"T_c2a61_level0_row5\" class=\"row_heading level0 row5\" >17</th>\n",
              "      <td id=\"T_c2a61_row5_col0\" class=\"data row5 col0\" >KNN UpSampling</td>\n",
              "      <td id=\"T_c2a61_row5_col1\" class=\"data row5 col1\" >0.989604</td>\n",
              "      <td id=\"T_c2a61_row5_col2\" class=\"data row5 col2\" >0.942146</td>\n",
              "      <td id=\"T_c2a61_row5_col3\" class=\"data row5 col3\" >0.857848</td>\n",
              "      <td id=\"T_c2a61_row5_col4\" class=\"data row5 col4\" >0.997647</td>\n",
              "      <td id=\"T_c2a61_row5_col5\" class=\"data row5 col5\" >0.892638</td>\n",
              "      <td id=\"T_c2a61_row5_col6\" class=\"data row5 col6\" >0.897970</td>\n",
              "      <td id=\"T_c2a61_row5_col7\" class=\"data row5 col7\" >0.534926</td>\n",
              "      <td id=\"T_c2a61_row5_col8\" class=\"data row5 col8\" >0.945188</td>\n",
              "      <td id=\"T_c2a61_row5_col9\" class=\"data row5 col9\" >0.668966</td>\n",
              "      <td id=\"T_c2a61_row5_col10\" class=\"data row5 col10\" >0.996504</td>\n",
              "      <td id=\"T_c2a61_row5_col11\" class=\"data row5 col11\" >0.935066</td>\n",
              "    </tr>\n",
              "    <tr>\n",
              "      <th id=\"T_c2a61_level0_row6\" class=\"row_heading level0 row6\" >4</th>\n",
              "      <td id=\"T_c2a61_row6_col0\" class=\"data row6 col0\" >Xgboost</td>\n",
              "      <td id=\"T_c2a61_row6_col1\" class=\"data row6 col1\" >0.809426</td>\n",
              "      <td id=\"T_c2a61_row6_col2\" class=\"data row6 col2\" >0.966255</td>\n",
              "      <td id=\"T_c2a61_row6_col3\" class=\"data row6 col3\" >0.968904</td>\n",
              "      <td id=\"T_c2a61_row6_col4\" class=\"data row6 col4\" >0.849385</td>\n",
              "      <td id=\"T_c2a61_row6_col5\" class=\"data row6 col5\" >0.880000</td>\n",
              "      <td id=\"T_c2a61_row6_col6\" class=\"data row6 col6\" >0.934611</td>\n",
              "      <td id=\"T_c2a61_row6_col7\" class=\"data row6 col7\" >0.922581</td>\n",
              "      <td id=\"T_c2a61_row6_col8\" class=\"data row6 col8\" >0.889962</td>\n",
              "      <td id=\"T_c2a61_row6_col9\" class=\"data row6 col9\" >0.900787</td>\n",
              "      <td id=\"T_c2a61_row6_col10\" class=\"data row6 col10\" >0.992539</td>\n",
              "      <td id=\"T_c2a61_row6_col11\" class=\"data row6 col11\" >0.990775</td>\n",
              "    </tr>\n",
              "    <tr>\n",
              "      <th id=\"T_c2a61_level0_row7\" class=\"row_heading level0 row7\" >2</th>\n",
              "      <td id=\"T_c2a61_row7_col0\" class=\"data row7 col0\" >GBM</td>\n",
              "      <td id=\"T_c2a61_row7_col1\" class=\"data row7 col1\" >0.817620</td>\n",
              "      <td id=\"T_c2a61_row7_col2\" class=\"data row7 col2\" >0.969712</td>\n",
              "      <td id=\"T_c2a61_row7_col3\" class=\"data row7 col3\" >0.966930</td>\n",
              "      <td id=\"T_c2a61_row7_col4\" class=\"data row7 col4\" >0.873975</td>\n",
              "      <td id=\"T_c2a61_row7_col5\" class=\"data row7 col5\" >0.876923</td>\n",
              "      <td id=\"T_c2a61_row7_col6\" class=\"data row7 col6\" >0.933260</td>\n",
              "      <td id=\"T_c2a61_row7_col7\" class=\"data row7 col7\" >0.913462</td>\n",
              "      <td id=\"T_c2a61_row7_col8\" class=\"data row7 col8\" >0.902646</td>\n",
              "      <td id=\"T_c2a61_row7_col9\" class=\"data row7 col9\" >0.894819</td>\n",
              "      <td id=\"T_c2a61_row7_col10\" class=\"data row7 col10\" >0.992689</td>\n",
              "      <td id=\"T_c2a61_row7_col11\" class=\"data row7 col11\" >0.989508</td>\n",
              "    </tr>\n",
              "    <tr>\n",
              "      <th id=\"T_c2a61_level0_row8\" class=\"row_heading level0 row8\" >3</th>\n",
              "      <td id=\"T_c2a61_row8_col0\" class=\"data row8 col0\" >Adaboost</td>\n",
              "      <td id=\"T_c2a61_row8_col1\" class=\"data row8 col1\" >0.799137</td>\n",
              "      <td id=\"T_c2a61_row8_col2\" class=\"data row8 col2\" >0.956379</td>\n",
              "      <td id=\"T_c2a61_row8_col3\" class=\"data row8 col3\" >0.958045</td>\n",
              "      <td id=\"T_c2a61_row8_col4\" class=\"data row8 col4\" >0.830943</td>\n",
              "      <td id=\"T_c2a61_row8_col5\" class=\"data row8 col5\" >0.864615</td>\n",
              "      <td id=\"T_c2a61_row8_col6\" class=\"data row8 col6\" >0.890231</td>\n",
              "      <td id=\"T_c2a61_row8_col7\" class=\"data row8 col7\" >0.872671</td>\n",
              "      <td id=\"T_c2a61_row8_col8\" class=\"data row8 col8\" >0.859565</td>\n",
              "      <td id=\"T_c2a61_row8_col9\" class=\"data row8 col9\" >0.868624</td>\n",
              "      <td id=\"T_c2a61_row8_col10\" class=\"data row8 col10\" >0.987073</td>\n",
              "      <td id=\"T_c2a61_row8_col11\" class=\"data row8 col11\" >0.985719</td>\n",
              "    </tr>\n",
              "    <tr>\n",
              "      <th id=\"T_c2a61_level0_row9\" class=\"row_heading level0 row9\" >10</th>\n",
              "      <td id=\"T_c2a61_row9_col0\" class=\"data row9 col0\" >Random forest UpSampling</td>\n",
              "      <td id=\"T_c2a61_row9_col1\" class=\"data row9 col1\" >0.979801</td>\n",
              "      <td id=\"T_c2a61_row9_col2\" class=\"data row9 col2\" >1.000000</td>\n",
              "      <td id=\"T_c2a61_row9_col3\" class=\"data row9 col3\" >0.951629</td>\n",
              "      <td id=\"T_c2a61_row9_col4\" class=\"data row9 col4\" >1.000000</td>\n",
              "      <td id=\"T_c2a61_row9_col5\" class=\"data row9 col5\" >0.861963</td>\n",
              "      <td id=\"T_c2a61_row9_col6\" class=\"data row9 col6\" >1.000000</td>\n",
              "      <td id=\"T_c2a61_row9_col7\" class=\"data row9 col7\" >0.841317</td>\n",
              "      <td id=\"T_c2a61_row9_col8\" class=\"data row9 col8\" >1.000000</td>\n",
              "      <td id=\"T_c2a61_row9_col9\" class=\"data row9 col9\" >0.851515</td>\n",
              "      <td id=\"T_c2a61_row9_col10\" class=\"data row9 col10\" >1.000000</td>\n",
              "      <td id=\"T_c2a61_row9_col11\" class=\"data row9 col11\" >0.985757</td>\n",
              "    </tr>\n",
              "    <tr>\n",
              "      <th id=\"T_c2a61_level0_row10\" class=\"row_heading level0 row10\" >9</th>\n",
              "      <td id=\"T_c2a61_row10_col0\" class=\"data row10 col0\" >Bagging UpSampling</td>\n",
              "      <td id=\"T_c2a61_row10_col1\" class=\"data row10 col1\" >0.959015</td>\n",
              "      <td id=\"T_c2a61_row10_col2\" class=\"data row10 col2\" >0.997352</td>\n",
              "      <td id=\"T_c2a61_row10_col3\" class=\"data row10 col3\" >0.941757</td>\n",
              "      <td id=\"T_c2a61_row10_col4\" class=\"data row10 col4\" >0.997058</td>\n",
              "      <td id=\"T_c2a61_row10_col5\" class=\"data row10 col5\" >0.846626</td>\n",
              "      <td id=\"T_c2a61_row10_col6\" class=\"data row10 col6\" >0.997645</td>\n",
              "      <td id=\"T_c2a61_row10_col7\" class=\"data row10 col7\" >0.802326</td>\n",
              "      <td id=\"T_c2a61_row10_col8\" class=\"data row10 col8\" >0.997352</td>\n",
              "      <td id=\"T_c2a61_row10_col9\" class=\"data row10 col9\" >0.823881</td>\n",
              "      <td id=\"T_c2a61_row10_col10\" class=\"data row10 col10\" >0.999972</td>\n",
              "      <td id=\"T_c2a61_row10_col11\" class=\"data row10 col11\" >0.971152</td>\n",
              "    </tr>\n",
              "    <tr>\n",
              "      <th id=\"T_c2a61_level0_row11\" class=\"row_heading level0 row11\" >0</th>\n",
              "      <td id=\"T_c2a61_row11_col0\" class=\"data row11 col0\" >Bagging</td>\n",
              "      <td id=\"T_c2a61_row11_col1\" class=\"data row11 col1\" >0.785862</td>\n",
              "      <td id=\"T_c2a61_row11_col2\" class=\"data row11 col2\" >0.996049</td>\n",
              "      <td id=\"T_c2a61_row11_col3\" class=\"data row11 col3\" >0.955084</td>\n",
              "      <td id=\"T_c2a61_row11_col4\" class=\"data row11 col4\" >0.980533</td>\n",
              "      <td id=\"T_c2a61_row11_col5\" class=\"data row11 col5\" >0.846154</td>\n",
              "      <td id=\"T_c2a61_row11_col6\" class=\"data row11 col6\" >0.994802</td>\n",
              "      <td id=\"T_c2a61_row11_col7\" class=\"data row11 col7\" >0.870253</td>\n",
              "      <td id=\"T_c2a61_row11_col8\" class=\"data row11 col8\" >0.987616</td>\n",
              "      <td id=\"T_c2a61_row11_col9\" class=\"data row11 col9\" >0.858034</td>\n",
              "      <td id=\"T_c2a61_row11_col10\" class=\"data row11 col10\" >0.999899</td>\n",
              "      <td id=\"T_c2a61_row11_col11\" class=\"data row11 col11\" >0.974716</td>\n",
              "    </tr>\n",
              "    <tr>\n",
              "      <th id=\"T_c2a61_level0_row12\" class=\"row_heading level0 row12\" >5</th>\n",
              "      <td id=\"T_c2a61_row12_col0\" class=\"data row12 col0\" >dtree</td>\n",
              "      <td id=\"T_c2a61_row12_col1\" class=\"data row12 col1\" >0.754113</td>\n",
              "      <td id=\"T_c2a61_row12_col2\" class=\"data row12 col2\" >1.000000</td>\n",
              "      <td id=\"T_c2a61_row12_col3\" class=\"data row12 col3\" >0.929911</td>\n",
              "      <td id=\"T_c2a61_row12_col4\" class=\"data row12 col4\" >1.000000</td>\n",
              "      <td id=\"T_c2a61_row12_col5\" class=\"data row12 col5\" >0.821538</td>\n",
              "      <td id=\"T_c2a61_row12_col6\" class=\"data row12 col6\" >1.000000</td>\n",
              "      <td id=\"T_c2a61_row12_col7\" class=\"data row12 col7\" >0.760684</td>\n",
              "      <td id=\"T_c2a61_row12_col8\" class=\"data row12 col8\" >1.000000</td>\n",
              "      <td id=\"T_c2a61_row12_col9\" class=\"data row12 col9\" >0.789941</td>\n",
              "      <td id=\"T_c2a61_row12_col10\" class=\"data row12 col10\" >1.000000</td>\n",
              "      <td id=\"T_c2a61_row12_col11\" class=\"data row12 col11\" >0.886078</td>\n",
              "    </tr>\n",
              "    <tr>\n",
              "      <th id=\"T_c2a61_level0_row13\" class=\"row_heading level0 row13\" >14</th>\n",
              "      <td id=\"T_c2a61_row13_col0\" class=\"data row13 col0\" >dtree UpSampling</td>\n",
              "      <td id=\"T_c2a61_row13_col1\" class=\"data row13 col1\" >0.946265</td>\n",
              "      <td id=\"T_c2a61_row13_col2\" class=\"data row13 col2\" >1.000000</td>\n",
              "      <td id=\"T_c2a61_row13_col3\" class=\"data row13 col3\" >0.923001</td>\n",
              "      <td id=\"T_c2a61_row13_col4\" class=\"data row13 col4\" >1.000000</td>\n",
              "      <td id=\"T_c2a61_row13_col5\" class=\"data row13 col5\" >0.819018</td>\n",
              "      <td id=\"T_c2a61_row13_col6\" class=\"data row13 col6\" >1.000000</td>\n",
              "      <td id=\"T_c2a61_row13_col7\" class=\"data row13 col7\" >0.733516</td>\n",
              "      <td id=\"T_c2a61_row13_col8\" class=\"data row13 col8\" >1.000000</td>\n",
              "      <td id=\"T_c2a61_row13_col9\" class=\"data row13 col9\" >0.773913</td>\n",
              "      <td id=\"T_c2a61_row13_col10\" class=\"data row13 col10\" >1.000000</td>\n",
              "      <td id=\"T_c2a61_row13_col11\" class=\"data row13 col11\" >0.880980</td>\n",
              "    </tr>\n",
              "    <tr>\n",
              "      <th id=\"T_c2a61_level0_row14\" class=\"row_heading level0 row14\" >1</th>\n",
              "      <td id=\"T_c2a61_row14_col0\" class=\"data row14 col0\" >Random forest</td>\n",
              "      <td id=\"T_c2a61_row14_col1\" class=\"data row14 col1\" >0.770440</td>\n",
              "      <td id=\"T_c2a61_row14_col2\" class=\"data row14 col2\" >1.000000</td>\n",
              "      <td id=\"T_c2a61_row14_col3\" class=\"data row14 col3\" >0.954590</td>\n",
              "      <td id=\"T_c2a61_row14_col4\" class=\"data row14 col4\" >1.000000</td>\n",
              "      <td id=\"T_c2a61_row14_col5\" class=\"data row14 col5\" >0.803077</td>\n",
              "      <td id=\"T_c2a61_row14_col6\" class=\"data row14 col6\" >1.000000</td>\n",
              "      <td id=\"T_c2a61_row14_col7\" class=\"data row14 col7\" >0.903114</td>\n",
              "      <td id=\"T_c2a61_row14_col8\" class=\"data row14 col8\" >1.000000</td>\n",
              "      <td id=\"T_c2a61_row14_col9\" class=\"data row14 col9\" >0.850163</td>\n",
              "      <td id=\"T_c2a61_row14_col10\" class=\"data row14 col10\" >1.000000</td>\n",
              "      <td id=\"T_c2a61_row14_col11\" class=\"data row14 col11\" >0.989199</td>\n",
              "    </tr>\n",
              "    <tr>\n",
              "      <th id=\"T_c2a61_level0_row15\" class=\"row_heading level0 row15\" >16</th>\n",
              "      <td id=\"T_c2a61_row15_col0\" class=\"data row15 col0\" >Logistic Regression UpSampling</td>\n",
              "      <td id=\"T_c2a61_row15_col1\" class=\"data row15 col1\" >0.896057</td>\n",
              "      <td id=\"T_c2a61_row15_col2\" class=\"data row15 col2\" >0.895470</td>\n",
              "      <td id=\"T_c2a61_row15_col3\" class=\"data row15 col3\" >0.875123</td>\n",
              "      <td id=\"T_c2a61_row15_col4\" class=\"data row15 col4\" >0.898215</td>\n",
              "      <td id=\"T_c2a61_row15_col5\" class=\"data row15 col5\" >0.751534</td>\n",
              "      <td id=\"T_c2a61_row15_col6\" class=\"data row15 col6\" >0.893310</td>\n",
              "      <td id=\"T_c2a61_row15_col7\" class=\"data row15 col7\" >0.587530</td>\n",
              "      <td id=\"T_c2a61_row15_col8\" class=\"data row15 col8\" >0.895756</td>\n",
              "      <td id=\"T_c2a61_row15_col9\" class=\"data row15 col9\" >0.659489</td>\n",
              "      <td id=\"T_c2a61_row15_col10\" class=\"data row15 col10\" >0.961116</td>\n",
              "      <td id=\"T_c2a61_row15_col11\" class=\"data row15 col11\" >0.917295</td>\n",
              "    </tr>\n",
              "    <tr>\n",
              "      <th id=\"T_c2a61_level0_row16\" class=\"row_heading level0 row16\" >7</th>\n",
              "      <td id=\"T_c2a61_row16_col0\" class=\"data row16 col0\" >Logistic Regression</td>\n",
              "      <td id=\"T_c2a61_row16_col1\" class=\"data row16 col1\" >0.562487</td>\n",
              "      <td id=\"T_c2a61_row16_col2\" class=\"data row16 col2\" >0.901235</td>\n",
              "      <td id=\"T_c2a61_row16_col3\" class=\"data row16 col3\" >0.904245</td>\n",
              "      <td id=\"T_c2a61_row16_col4\" class=\"data row16 col4\" >0.563525</td>\n",
              "      <td id=\"T_c2a61_row16_col5\" class=\"data row16 col5\" >0.600000</td>\n",
              "      <td id=\"T_c2a61_row16_col6\" class=\"data row16 col6\" >0.759669</td>\n",
              "      <td id=\"T_c2a61_row16_col7\" class=\"data row16 col7\" >0.752896</td>\n",
              "      <td id=\"T_c2a61_row16_col8\" class=\"data row16 col8\" >0.647059</td>\n",
              "      <td id=\"T_c2a61_row16_col9\" class=\"data row16 col9\" >0.667808</td>\n",
              "      <td id=\"T_c2a61_row16_col10\" class=\"data row16 col10\" >0.920375</td>\n",
              "      <td id=\"T_c2a61_row16_col11\" class=\"data row16 col11\" >0.934017</td>\n",
              "    </tr>\n",
              "    <tr>\n",
              "      <th id=\"T_c2a61_level0_row17\" class=\"row_heading level0 row17\" >8</th>\n",
              "      <td id=\"T_c2a61_row17_col0\" class=\"data row17 col0\" >KNN</td>\n",
              "      <td id=\"T_c2a61_row17_col1\" class=\"data row17 col1\" >0.502051</td>\n",
              "      <td id=\"T_c2a61_row17_col2\" class=\"data row17 col2\" >0.922798</td>\n",
              "      <td id=\"T_c2a61_row17_col3\" class=\"data row17 col3\" >0.902270</td>\n",
              "      <td id=\"T_c2a61_row17_col4\" class=\"data row17 col4\" >0.597336</td>\n",
              "      <td id=\"T_c2a61_row17_col5\" class=\"data row17 col5\" >0.501538</td>\n",
              "      <td id=\"T_c2a61_row17_col6\" class=\"data row17 col6\" >0.884674</td>\n",
              "      <td id=\"T_c2a61_row17_col7\" class=\"data row17 col7\" >0.819095</td>\n",
              "      <td id=\"T_c2a61_row17_col8\" class=\"data row17 col8\" >0.713150</td>\n",
              "      <td id=\"T_c2a61_row17_col9\" class=\"data row17 col9\" >0.622137</td>\n",
              "      <td id=\"T_c2a61_row17_col10\" class=\"data row17 col10\" >0.968172</td>\n",
              "      <td id=\"T_c2a61_row17_col11\" class=\"data row17 col11\" >0.925656</td>\n",
              "    </tr>\n",
              "  </tbody>\n",
              "</table>\n"
            ]
          },
          "metadata": {},
          "execution_count": 74
        }
      ],
      "source": [
        "#Comparing models\n",
        "comparison_frame = pd.DataFrame(\n",
        "    {\n",
        "        \"Model\": model_names,\n",
        "        \"Cross_Val_Score_Train\": cross_val_train,\n",
        "        \"Train_Accuracy\": acc_train,\n",
        "        \"Test_Accuracy\": acc_test,\n",
        "        \"Train_Recall\": recall_train,\n",
        "        \"Test_Recall\": recall_test,\n",
        "        \"Train_Precision\": precision_train,\n",
        "        \"Test_Precision\": precision_test,\n",
        "        \"Train_F1\": f1_train,\n",
        "        \"Test_F1\": f1_test,\n",
        "        \"Train_ROC_AUC\": roc_auc_train,\n",
        "        \"Test_ROC_AUC\": roc_auc_test,\n",
        "    }\n",
        ")\n",
        "\n",
        "# Sorting models in decreasing order of test recall\n",
        "comparison_frame.sort_values(\n",
        "    by=[\"Test_Recall\", \"Cross_Val_Score_Train\"], ascending=False\n",
        ").style.highlight_max(color=\"lightgreen\", axis=0).highlight_min(color=\"pink\", axis=0)"
      ]
    },
    {
      "cell_type": "markdown",
      "id": "66d7c0b4-1835-492a-9505-ffeff5543d89",
      "metadata": {
        "id": "66d7c0b4-1835-492a-9505-ffeff5543d89"
      },
      "source": [
        "The best 4 models with respect to validation recall and cross validation score, are as follows:\n",
        "Light GBM trained with over/up-sampled data\n",
        "GBM trained with over/up-sampled data\n",
        "AdaBoost trained with over/up-sampled data\n",
        "XGBoost trained with over/up-sampled data"
      ]
    },
    {
      "cell_type": "code",
      "execution_count": 75,
      "id": "c4185ad7-495c-47fd-b811-5ebaa7f06544",
      "metadata": {
        "id": "c4185ad7-495c-47fd-b811-5ebaa7f06544"
      },
      "outputs": [],
      "source": [
        "#PCA Reducing Dimensions\n",
        "#Using elbow-plot variance/dimensions\n",
        "from sklearn.decomposition import PCA\n",
        "import matplotlib.ticker as mtick\n",
        "\n",
        "pca = PCA()\n",
        "pca.fit(X_train_over)\n",
        "\n",
        "cumsum = np.cumsum(pca.explained_variance_ratio_)*100\n",
        "d = [n for n in range(len(cumsum))]\n",
        "\n",
        "# Visualize\n",
        "fig, ax = plt.subplots(figsize =(10, 10))\n",
        "fig.patch.set_facecolor('white')\n",
        "mpl.rcParams['font.family'] = 'DejaVu Sans'\n",
        "mpl.rcParams['font.size'] = 14\n",
        "\n",
        "ax.plot(d,cumsum, color = '#00538F', label='Cumulative Explained Variance')\n",
        "\n",
        "ax.axhline(y = 95, color='black', linestyle=':', label = '95% Explained Variance')\n",
        "ax.legend(loc='best')\n",
        "\n",
        "# Remove ticks\n",
        "ax.xaxis.set_ticks_position('none')\n",
        "ax.yaxis.set_ticks_position('none')\n",
        "\n",
        "# Remove axes splines\n",
        "for i in ['top','right']:\n",
        "    ax.spines[i].set_visible(False)\n",
        "\n",
        "# Set percentages\n",
        "ax.yaxis.set_major_formatter(mtick.PercentFormatter())\n",
        "\n",
        "# annotation arrow\n",
        "arrowprops = dict(arrowstyle=\"->\", connectionstyle=\"angle3,angleA=0,angleB=-90\")\n",
        "plt.annotate('Principal Component Number 19', \n",
        "             xy=(19, 95), \n",
        "             xytext=(19+5, 95+10), \n",
        "             arrowprops=arrowprops,\n",
        "             size = 14)\n",
        "\n",
        "plt.legend(bbox_to_anchor = (1, 0.2))\n",
        "\n",
        "plt.suptitle('Explained Variance vs Dimensions', size=26)\n",
        "plt.ylabel('Cumulative Explained Variance')\n",
        "plt.xlabel('PC');"
      ]
    },
    {
      "cell_type": "code",
      "execution_count": 76,
      "id": "060c00e0-6d26-4029-9b5f-02f34a70a35a",
      "metadata": {
        "colab": {
          "base_uri": "https://localhost:8080/"
        },
        "id": "060c00e0-6d26-4029-9b5f-02f34a70a35a",
        "outputId": "f24193ec-2bd9-4454-8f52-40a63964eead"
      },
      "outputs": [
        {
          "output_type": "stream",
          "name": "stdout",
          "text": [
            "Shape of X before PCA: (10198, 27)\n",
            "Shape of X after PCA: (10198, 16)\n"
          ]
        }
      ],
      "source": [
        "pca = PCA(.95) \n",
        "pca.fit(X_train_over)\n",
        "\n",
        "X_pca = pca.transform(X_train_over)\n",
        "X_pca = pd.DataFrame(X_pca)\n",
        "\n",
        "print(f'''Shape of X before PCA: {X_train_over.shape}\n",
        "Shape of X after PCA: {X_pca.shape}''')"
      ]
    },
    {
      "cell_type": "code",
      "source": [
        "from sklearn import svm\n",
        "from sklearn import datasets\n",
        "\n",
        "#grid search cross validation for knn\n",
        "from sklearn.model_selection import GridSearchCV\n",
        "\n",
        "grid = {\"n_neighbors\":np.arange(1,50)}\n",
        "knn = KNeighborsClassifier()\n",
        "\n",
        "knn_cv = GridSearchCV(knn, grid, cv=10)#GridSearchCV\n",
        "knn_cv.fit(X_train_over,y_train_over)\n",
        "\n",
        "#%% print hyperparameter KNN algoritmasindaki K degeri\n",
        "print(\"tuned hyperparameter K: \",knn_cv.best_params_)\n",
        "print(\"tuned parametreye göre en iyi accuracy (best score): \",knn_cv.best_score_)"
      ],
      "metadata": {
        "id": "myhYNxxNmj-k",
        "colab": {
          "base_uri": "https://localhost:8080/"
        },
        "outputId": "7995afd3-2241-40ca-c2bd-16dccd2a15e4"
      },
      "id": "myhYNxxNmj-k",
      "execution_count": 77,
      "outputs": [
        {
          "output_type": "stream",
          "name": "stdout",
          "text": [
            "tuned hyperparameter K:  {'n_neighbors': 2}\n",
            "tuned parametreye göre en iyi accuracy (best score):  0.9556789624583887\n"
          ]
        }
      ]
    },
    {
      "cell_type": "code",
      "source": [
        "from sklearn import svm\n",
        "from sklearn import datasets\n",
        "\n",
        "# find best K value  K-fold stratisfied. \n",
        "# Use cv=3 in cross_val_score to define K in KFold (estratificado).\n",
        "for k in k_range:\n",
        "  knn_clf = KNeighborsClassifier(n_neighbors=k)\n",
        "  knn_clf.fit(X_train_over,y_train_over)\n",
        "  score = cross_val_score(knn_clf, X_train_over, y_train_over, cv=3, n_jobs = -1)\n",
        "  scores.append(score.mean())\n",
        "\n",
        "#get mse\n",
        "mse = [1-x for x in scores]"
      ],
      "metadata": {
        "colab": {
          "base_uri": "https://localhost:8080/",
          "height": 235
        },
        "id": "WI3FLGdGWpYh",
        "outputId": "a02ce3bc-d12c-43de-ae66-e5d94d657de4"
      },
      "id": "WI3FLGdGWpYh",
      "execution_count": 78,
      "outputs": [
        {
          "output_type": "error",
          "ename": "NameError",
          "evalue": "ignored",
          "traceback": [
            "\u001b[0;31m---------------------------------------------------------------------------\u001b[0m",
            "\u001b[0;31mNameError\u001b[0m                                 Traceback (most recent call last)",
            "\u001b[0;32m/usr/local/lib/python3.7/dist-packages/pyforest/__init__.py\u001b[0m in \u001b[0;36m<module>\u001b[0;34m\u001b[0m\n\u001b[1;32m      4\u001b[0m \u001b[0;31m# find best K value  K-fold stratisfied.\u001b[0m\u001b[0;34m\u001b[0m\u001b[0;34m\u001b[0m\u001b[0;34m\u001b[0m\u001b[0m\n\u001b[1;32m      5\u001b[0m \u001b[0;31m# Use cv=3 in cross_val_score to define K in KFold (estratificado).\u001b[0m\u001b[0;34m\u001b[0m\u001b[0;34m\u001b[0m\u001b[0;34m\u001b[0m\u001b[0m\n\u001b[0;32m----> 6\u001b[0;31m \u001b[0;32mfor\u001b[0m \u001b[0mk\u001b[0m \u001b[0;32min\u001b[0m \u001b[0mk_range\u001b[0m\u001b[0;34m:\u001b[0m\u001b[0;34m\u001b[0m\u001b[0;34m\u001b[0m\u001b[0m\n\u001b[0m\u001b[1;32m      7\u001b[0m   \u001b[0mknn_clf\u001b[0m \u001b[0;34m=\u001b[0m \u001b[0mKNeighborsClassifier\u001b[0m\u001b[0;34m(\u001b[0m\u001b[0mn_neighbors\u001b[0m\u001b[0;34m=\u001b[0m\u001b[0mk\u001b[0m\u001b[0;34m)\u001b[0m\u001b[0;34m\u001b[0m\u001b[0;34m\u001b[0m\u001b[0m\n\u001b[1;32m      8\u001b[0m   \u001b[0mknn_clf\u001b[0m\u001b[0;34m.\u001b[0m\u001b[0mfit\u001b[0m\u001b[0;34m(\u001b[0m\u001b[0mX_train_over\u001b[0m\u001b[0;34m,\u001b[0m\u001b[0my_train_over\u001b[0m\u001b[0;34m)\u001b[0m\u001b[0;34m\u001b[0m\u001b[0;34m\u001b[0m\u001b[0m\n",
            "\u001b[0;31mNameError\u001b[0m: name 'k_range' is not defined"
          ]
        }
      ]
    },
    {
      "cell_type": "code",
      "execution_count": null,
      "id": "a1081fb3-3ef5-4519-874a-04b4853dd232",
      "metadata": {
        "id": "a1081fb3-3ef5-4519-874a-04b4853dd232"
      },
      "outputs": [],
      "source": [
        "#plot to decide optim K value\n",
        "\n",
        "plt.figure(figsize=(20,8))\n",
        "plt.subplot(121)\n",
        "sns.lineplot(k_range,mse,markers=True,dashes=False)\n",
        "plt.xlabel(\"Value of K\")\n",
        "plt.ylabel(\"Mean Squared Error\")\n",
        "plt.subplot(122)\n",
        "sns.lineplot(k_range,scores,markers=True,dashes=False)\n",
        "plt.xlabel(\"Value of K\")\n",
        "plt.ylabel(\"Cross Validation Accuracy\")\n",
        "\n",
        "plt.show()"
      ]
    },
    {
      "cell_type": "code",
      "execution_count": null,
      "id": "aad9e992-dde8-4448-adce-3fe6214a536d",
      "metadata": {
        "id": "aad9e992-dde8-4448-adce-3fe6214a536d"
      },
      "outputs": [],
      "source": [
        "#fROM  previous graph , optimum K value is 7 for KNN"
      ]
    },
    {
      "cell_type": "code",
      "execution_count": null,
      "id": "056822c0-e53f-4ba5-a1de-615a62cc9712",
      "metadata": {
        "id": "056822c0-e53f-4ba5-a1de-615a62cc9712"
      },
      "outputs": [],
      "source": [
        "print('Accuracy of K-NN classifier on training set: {:.2f}'\n",
        "     .format(KNN.score(X_train, y_train)))\n",
        "print('Accuracy of K-NN classifier on test set: {:.2f}'\n",
        "     .format(KNN.score(X_test, y_test)))"
      ]
    },
    {
      "cell_type": "code",
      "execution_count": null,
      "id": "17e987a5-0ffd-4a49-89f3-1a71e929b7c4",
      "metadata": {
        "id": "17e987a5-0ffd-4a49-89f3-1a71e929b7c4"
      },
      "outputs": [],
      "source": [
        "#KNN\n",
        "KNN = KNeighborsClassifier(n_neighbors = 7)\n",
        "#fit\n",
        "KNN.fit(X_train, y_train)\n",
        "\n",
        "#predict\n",
        "y_predict = KNN.predict(X_test)\n",
        "\n",
        "# confution matrix\n",
        "print(f\"Confution Matrix:\\n\\n\")\n",
        "print(confusion_matrix(y_test, y_predict))\n",
        "\n",
        "#  prediction Summary \n",
        "print(confusion_matrix(y_test, y_predict))\n",
        "\n",
        "# Accuracy score\n",
        "KNN_SC = metrics.accuracy_score(y_test,y_predict)\n",
        "print(f\"we have identified succesfully {round(KNN_SC*100,2)}% of  all Attrited customers\")\n",
        "plot_confusion_matrix(KNN,X_test,y_test)\n"
      ]
    },
    {
      "cell_type": "code",
      "execution_count": null,
      "id": "7418c130-859b-4ae5-ad71-89709c2d77d0",
      "metadata": {
        "id": "7418c130-859b-4ae5-ad71-89709c2d77d0"
      },
      "outputs": [],
      "source": [
        "#DECISION TREE\n",
        "from sklearn.tree import DecisionTreeClassifier\n",
        "from sklearn.ensemble import RandomForestClassifier\n",
        "from sklearn.metrics import accuracy_score\n",
        "from sklearn.tree import plot_tree, export_text\n",
        "clf = DecisionTreeClassifier(max_depth=5,random_state = 20)\n",
        "clf.fit(X_train_over, y_train_over)"
      ]
    },
    {
      "cell_type": "code",
      "execution_count": null,
      "id": "8d03ff4a-c454-4950-bda5-a43fae432859",
      "metadata": {
        "id": "8d03ff4a-c454-4950-bda5-a43fae432859"
      },
      "outputs": [],
      "source": [
        "fig, ax = plt.subplots(figsize=(12, 5))\n",
        "\n",
        "print(f\"Profundidad del árbol: {clf.get_depth()}\")\n",
        "print(f\"Número de nodos terminales: {clf.get_n_leaves()}\")\n",
        "\n",
        "plot = plot_tree(\n",
        "            decision_tree = clf,\n",
        "            feature_names = df.drop(columns = 'Attrition_Flag').columns,\n",
        "            class_names   = 'Attrition_Flag',\n",
        "            filled        = True,\n",
        "            impurity      = False,\n",
        "            fontsize      = 10,\n",
        "            precision     = 2,\n",
        "            ax            = ax\n",
        "       )"
      ]
    },
    {
      "cell_type": "markdown",
      "id": "84b8c2c4-88ab-471a-a3ae-f5b99416ecd0",
      "metadata": {
        "id": "84b8c2c4-88ab-471a-a3ae-f5b99416ecd0"
      },
      "source": [
        "The best 4 models with respect to validation recall and cross validation score, are as follows:\n",
        "Light GBM trained with over/up-sampled data\n",
        "GBM trained with over/up-sampled data\n",
        "AdaBoost trained with over/up-sampled data\n",
        "XGBoost trained with over/up-sampled data"
      ]
    },
    {
      "cell_type": "markdown",
      "id": "f5f87d4f-8f6c-4b4b-b6a8-f1fccaa79c91",
      "metadata": {
        "id": "f5f87d4f-8f6c-4b4b-b6a8-f1fccaa79c91"
      },
      "source": [
        "Undersampling train data using Random Under Sampler\n",
        "Undersampling is another way of dealing with imbalance in the dataset.\n",
        "\n",
        "Random undersampling involves randomly selecting examples from the majority class and deleting them from the training dataset until a balanced dataset is created."
      ]
    },
    {
      "cell_type": "code",
      "execution_count": null,
      "id": "b16ac9a2-952a-44b3-96b4-62d85f9f54bf",
      "metadata": {
        "id": "b16ac9a2-952a-44b3-96b4-62d85f9f54bf"
      },
      "outputs": [],
      "source": [
        "rus = RandomUnderSampler(random_state=1)\n",
        "X_train_un, y_train_un = rus.fit_resample(X_train, y_train)"
      ]
    },
    {
      "cell_type": "code",
      "execution_count": null,
      "id": "badb4d24-f526-4815-846d-014fe5b9fceb",
      "metadata": {
        "id": "badb4d24-f526-4815-846d-014fe5b9fceb"
      },
      "outputs": [],
      "source": [
        "print(\"Before Under Sampling, counts of label 'Yes': {}\".format(sum(y_train == 1)))\n",
        "print(\"Before Under Sampling, counts of label 'No': {} \\n\".format(sum(y_train == 0)))\n",
        "\n",
        "print(\"After Under Sampling, counts of label 'Yes': {}\".format(sum(y_train_un == 1)))\n",
        "print(\"After Under Sampling, counts of label 'No': {} \\n\".format(sum(y_train_un == 0)))\n",
        "\n",
        "print(\"After Under Sampling, the shape of train_X: {}\".format(X_train_un.shape))\n",
        "print(\"After Under Sampling, the shape of train_y: {} \\n\".format(y_train_un.shape))"
      ]
    },
    {
      "cell_type": "markdown",
      "id": "d10e04de-fd7f-4a65-8722-f401bf83a447",
      "metadata": {
        "id": "d10e04de-fd7f-4a65-8722-f401bf83a447"
      },
      "source": [
        "Build Models with Undersampled Data\n",
        "Build and Train Models\n",
        "We are again building the same 7 models as before and training with the undersampled dataset, and use the validation dataset to score the models.\n",
        "\n"
      ]
    },
    {
      "cell_type": "code",
      "execution_count": null,
      "id": "51f1b10d-9fae-4ae5-98e2-fde7dd320610",
      "metadata": {
        "id": "51f1b10d-9fae-4ae5-98e2-fde7dd320610"
      },
      "outputs": [],
      "source": [
        "models_under = []\n",
        "\n",
        "# Appending models into the list\n",
        "\n",
        "models_under.append((\"Bagging DownSampling\", BaggingClassifier(random_state=seed)))\n",
        "models_under.append(\n",
        "    (\"Random forest DownSampling\", RandomForestClassifier(random_state=seed))\n",
        ")\n",
        "models_under.append((\"GBM DownSampling\", GradientBoostingClassifier(random_state=seed)))\n",
        "models_under.append((\"Adaboost DownSampling\", AdaBoostClassifier(random_state=seed)))\n",
        "models_under.append(\n",
        "    (\"Xgboost DownSampling\", XGBClassifier(random_state=seed, eval_metric=loss_func))\n",
        ")\n",
        "models_under.append((\"dtree DownSampling\", DecisionTreeClassifier(random_state=seed)))\n",
        "models_under.append((\"Light GBM DownSampling\", lgb.LGBMClassifier(random_state=seed)))\n",
        "models_under.append((\"Logistic Regression UpSampling\", LogisticRegression(random_state=seed)))\n",
        "models_under.append((\"KNN UpSampling\",KNeighborsClassifier(n_neighbors=7)))\n",
        "\n",
        "for name, model in models_under:\n",
        "    scoring = \"recall\"\n",
        "    kfold = StratifiedKFold(\n",
        "        n_splits=10, shuffle=True, random_state=1\n",
        "    )  # Setting number of splits equal to 10\n",
        "\n",
        "    cv_result_under = cross_val_score(\n",
        "        estimator=model, X=X_train_un, y=y_train_un, scoring=scoring, cv=kfold\n",
        "    )\n",
        "    cv_results.append(cv_result_under)\n",
        "\n",
        "    model.fit(X_train_un, y_train_un)\n",
        "    model_score_under = get_metrics_score(model, X_train_un, X_val, y_train_un, y_val)\n",
        "    add_score_model(name, model_score_under, cv_result_under.mean())\n",
        "\n",
        "print(\"Operation Completed!\")"
      ]
    },
    {
      "cell_type": "code",
      "execution_count": null,
      "id": "15609f9f-c508-4d7d-925c-4b13f0ee388c",
      "metadata": {
        "id": "15609f9f-c508-4d7d-925c-4b13f0ee388c"
      },
      "outputs": [],
      "source": [
        "#Comparing models\n",
        "comparison_frame = pd.DataFrame(\n",
        "    {\n",
        "        \"Model\": model_names,\n",
        "        \"Cross_Val_Score_Train\": cross_val_train,\n",
        "        \"Train_Accuracy\": acc_train,\n",
        "        \"Test_Accuracy\": acc_test,\n",
        "        \"Train_Recall\": recall_train,\n",
        "        \"Test_Recall\": recall_test,\n",
        "        \"Train_Precision\": precision_train,\n",
        "        \"Test_Precision\": precision_test,\n",
        "        \"Train_F1\": f1_train,\n",
        "        \"Test_F1\": f1_test,\n",
        "        \"Train_ROC_AUC\": roc_auc_train,\n",
        "        \"Test_ROC_AUC\": roc_auc_test,\n",
        "    }\n",
        ")\n",
        "\n",
        "# Sorting models in decreasing order of test recall\n",
        "comparison_frame.sort_values(\n",
        "    by=[\"Test_Recall\", \"Cross_Val_Score_Train\"], ascending=False\n",
        ").style.highlight_max(color=\"lightgreen\", axis=0).highlight_min(color=\"pink\", axis=0)"
      ]
    },
    {
      "cell_type": "markdown",
      "id": "84b41164-3267-410e-b5cf-2d1bf0038b0a",
      "metadata": {
        "id": "84b41164-3267-410e-b5cf-2d1bf0038b0a"
      },
      "source": [
        "The 4 best models are:\n",
        "XGBoost trained with undersampled data\n",
        "AdaBoost trained with undersampled data\n",
        "Light GBM trained with undersampled data\n",
        "Random forest trained with undersampled data  \n",
        "We will now try to tune these 4 models using Random Search CV"
      ]
    },
    {
      "cell_type": "markdown",
      "id": "44bb5815-82b9-40c2-8e60-0befa4b3e0eb",
      "metadata": {
        "id": "44bb5815-82b9-40c2-8e60-0befa4b3e0eb"
      },
      "source": [
        "Choice of models for tuning\n",
        "XGBoost with down-sampling has the best validation recall of 96.3%, along-with 95% cross validation score on train, and 0.99 AUC, which means is it has high possibility of performing very well in unseen dataset. There is a bit of over-fitting, which I expect to resolve by tuning.  \n",
        "\n",
        "AdaBoost is generalizing the model very well, it is neither over-fitting, nor has any bias, AUC is 0.985 and cross validation score on train is 93%, recall on validation set is same as XGBoost (96.3%). I expect to improve the model (~94% on validation set) via tuning.  \n",
        "\n",
        "Light GBM works really well in all aspects, but there is slight over-fitting problem, which I expect to resolve by tuning. Accuracy on validation is 94%, with cross validation score on train 95%, recall on validation ~96%, AUC is 0.99. This looks like a very promising model.  \n",
        "\n",
        "GBM is not overfitting, and neither it is suffering from bias or variance. Recall on validation is ~96%, accuracy on validation ~94%, AUC is ~0.99, cross validation score on train is ~95%. This would be my top choice because none of the training scores are 100%, meaning it is not trying to explain every single aspect of training data by overfitting it."
      ]
    },
    {
      "cell_type": "markdown",
      "id": "224fc8bb-a6f5-43c5-b375-ec6dab8409a7",
      "metadata": {
        "id": "224fc8bb-a6f5-43c5-b375-ec6dab8409a7"
      },
      "source": [
        "Model Tuning using RandomizedSearchCV\n",
        "Typically a hyperparameter has a known effect on a model in the general sense, but it is not clear how to best set a hyperparameter for a given dataset. Further, many machine learning models have a range of hyperparameters and they may interact in nonlinear ways.\n",
        "\n",
        "As such, it is often required to search for a set of hyperparameters that result in the best performance of a model on a dataset. This is called hyperparameter optimization, hyperparameter tuning, or hyperparameter search.\n",
        "\n",
        "An optimization procedure involves defining a search space. This can be thought of geometrically as an n-dimensional volume, where each hyperparameter represents a different dimension and the scale of the dimension are the values that the hyperparameter may take on, such as real-valued, integer-valued, or categorical.\n",
        "\n",
        "Search Space: Volume to be searched where each dimension represents a hyperparameter and each point represents one model configuration. A point in the search space is a vector with a specific value for each hyperparameter value. The goal of the optimization procedure is to find a vector that results in the best performance of the model after learning, such as maximum accuracy or minimum error.\n",
        "\n",
        "A range of different optimization algorithms may be used, although two of the simplest and most common methods are random search and grid search.\n",
        "\n",
        "Random Search: Define a search space as a bounded domain of hyperparameter values and randomly sample points in that domain.  \n",
        "\n",
        "Grid Search: Define a search space as a grid of hyperparameter values and evaluate every position in the grid.\n",
        "\n"
      ]
    },
    {
      "cell_type": "markdown",
      "id": "37dd9697-0575-4861-b238-ca6b3b1cb903",
      "metadata": {
        "id": "37dd9697-0575-4861-b238-ca6b3b1cb903"
      },
      "source": [
        "Tuning XGBOOST with Down Sampled data\n",
        "Finding best parameter for high recall using Random Search with cross validation"
      ]
    },
    {
      "cell_type": "code",
      "execution_count": null,
      "id": "3d6ab07b-df03-4017-9eca-ad988d812efe",
      "metadata": {
        "id": "3d6ab07b-df03-4017-9eca-ad988d812efe"
      },
      "outputs": [],
      "source": [
        "%%time\n",
        "\n",
        "# defining model\n",
        "model = XGBClassifier(random_state=seed, eval_metric=loss_func)\n",
        "\n",
        "\n",
        "# Parameter grid to pass in RandomizedSearchCV\n",
        "param_grid={'n_estimators':np.arange(50,500,50),\n",
        "            'scale_pos_weight':[2,5,10],\n",
        "            'learning_rate':[0.01,0.1,0.2,0.05],\n",
        "            'gamma':[0,1,3,5],\n",
        "            'subsample':[0.8,0.9,1],\n",
        "            'max_depth':np.arange(4,20,1),\n",
        "            'reg_lambda':[5,10, 15, 20]} \n",
        "\n",
        "# Type of scoring used to compare parameter combinations\n",
        "scorer = metrics.make_scorer(metrics.recall_score)\n",
        "\n",
        "#Calling RandomizedSearchCV\n",
        "xgb_tuned = RandomizedSearchCV(estimator=model, param_distributions=param_grid, n_iter=50, scoring=scorer, cv=10, random_state=seed, n_jobs = -1)\n",
        "\n",
        "#Fitting parameters in RandomizedSearchCV\n",
        "xgb_tuned.fit(X_train_un,y_train_un)\n",
        "\n",
        "print(\"Best parameters are {} with CV score={}:\" .format(xgb_tuned.best_params_,xgb_tuned.best_score_))"
      ]
    },
    {
      "cell_type": "code",
      "execution_count": null,
      "id": "f467c13e-50dc-4afe-8ed7-b4063957de57",
      "metadata": {
        "id": "f467c13e-50dc-4afe-8ed7-b4063957de57"
      },
      "outputs": [],
      "source": [
        "# building model with best parameters\n",
        "xgb_tuned_model = XGBClassifier(\n",
        "    n_estimators=150,\n",
        "    scale_pos_weight=10,\n",
        "    subsample=1,\n",
        "    reg_lambda=20,\n",
        "    max_depth=5,\n",
        "    learning_rate=0.01,\n",
        "    gamma=0,\n",
        "    eval_metric=loss_func,\n",
        "    random_state=seed,\n",
        ")\n",
        "# Fit the model on training data\n",
        "xgb_tuned_model.fit(X_train_un, y_train_un)"
      ]
    },
    {
      "cell_type": "code",
      "execution_count": null,
      "id": "d7200329-6a82-4207-bd9b-99d7156f8e92",
      "metadata": {
        "id": "d7200329-6a82-4207-bd9b-99d7156f8e92"
      },
      "outputs": [],
      "source": [
        "#get scores\n",
        "xgb_tuned_model_score = get_metrics_score(\n",
        "    xgb_tuned_model, X_train, X_val, y_train, y_val\n",
        ")\n",
        "\n",
        "kfold = StratifiedKFold(n_splits=10, shuffle=True, random_state=1)\n",
        "\n",
        "scoring = \"recall\"\n",
        "xgb_down_cv = cross_val_score(\n",
        "    estimator=xgb_tuned_model, X=X_train_un, y=y_train_un, scoring=scoring, cv=kfold\n",
        ")\n",
        "\n",
        "\n",
        "add_score_model(\n",
        "    \"XGB Tuned with Down Sampling\", xgb_tuned_model_score, xgb_down_cv.mean()\n",
        ")"
      ]
    },
    {
      "cell_type": "code",
      "execution_count": null,
      "id": "ee0883e3-3103-485e-bbc9-9afbb0993a66",
      "metadata": {
        "id": "ee0883e3-3103-485e-bbc9-9afbb0993a66"
      },
      "outputs": [],
      "source": [
        "#confusion matrix\n",
        "make_confusion_matrix(xgb_tuned_model, X_val, y_val)\n"
      ]
    },
    {
      "cell_type": "markdown",
      "id": "33e2634d-515e-4a3e-b3ed-ee3804d9b531",
      "metadata": {
        "id": "33e2634d-515e-4a3e-b3ed-ee3804d9b531"
      },
      "source": [
        "Tuning AdaBoost with Down Sampled data\n",
        "Finding best parameter for high recall using Random Search with cross validation"
      ]
    },
    {
      "cell_type": "code",
      "execution_count": null,
      "id": "c1dde9af-3df8-47e0-9fac-2d9e5b77b7ef",
      "metadata": {
        "id": "c1dde9af-3df8-47e0-9fac-2d9e5b77b7ef"
      },
      "outputs": [],
      "source": [
        "%%time\n",
        "\n",
        "# defining model\n",
        "model = AdaBoostClassifier(random_state=seed)\n",
        "\n",
        "\n",
        "\n",
        "# Parameter grid to pass in RandomizedSearchCV\n",
        "param_grid={'n_estimators':np.arange(50,2000,50),\n",
        "            'learning_rate':[0.01,0.1,0.2,0.05]} \n",
        "\n",
        "# Type of scoring used to compare parameter combinations\n",
        "scorer = metrics.make_scorer(metrics.recall_score)\n",
        "\n",
        "#Calling RandomizedSearchCV\n",
        "ada_tuned = RandomizedSearchCV(estimator=model, param_distributions=param_grid, n_iter=50, scoring=scorer, cv=10, random_state=seed, n_jobs = -1)\n",
        "\n",
        "#Fitting parameters in RandomizedSearchCV\n",
        "ada_tuned.fit(X_train_un,y_train_un)\n",
        "\n",
        "print(\"Best parameters are {} with CV score={}:\" .format(ada_tuned.best_params_,ada_tuned.best_score_))"
      ]
    },
    {
      "cell_type": "code",
      "execution_count": null,
      "id": "11b16a9d-75bf-48b1-b2d4-ea7eac25af79",
      "metadata": {
        "id": "11b16a9d-75bf-48b1-b2d4-ea7eac25af79"
      },
      "outputs": [],
      "source": [
        "# building model with best parameters\n",
        "ada_tuned_model = AdaBoostClassifier(\n",
        "    n_estimators=1050, learning_rate=0.1, random_state=seed\n",
        ")\n",
        "# Fit the model on training data\n",
        "ada_tuned_model.fit(X_train_un, y_train_un)"
      ]
    },
    {
      "cell_type": "code",
      "execution_count": null,
      "id": "8d77c29a-a817-438e-8c78-67ec4dd3d48b",
      "metadata": {
        "id": "8d77c29a-a817-438e-8c78-67ec4dd3d48b"
      },
      "outputs": [],
      "source": [
        "#get scores\n",
        "ada_tuned_model_score = get_metrics_score(\n",
        "    ada_tuned_model, X_train, X_val, y_train, y_val\n",
        ")\n",
        "\n",
        "kfold = StratifiedKFold(n_splits=10, shuffle=True, random_state=1)\n",
        "\n",
        "scoring = \"recall\"\n",
        "ada_down_cv = cross_val_score(\n",
        "    estimator=ada_tuned_model, X=X_train_un, y=y_train_un, scoring=scoring, cv=kfold\n",
        ")\n",
        "\n",
        "\n",
        "add_score_model(\n",
        "    \"AdaBoost Tuned with Down Sampling\", ada_tuned_model_score, ada_down_cv.mean()\n",
        ")"
      ]
    },
    {
      "cell_type": "code",
      "execution_count": null,
      "id": "d2c50227-de00-43aa-b12a-ac1fc14e466e",
      "metadata": {
        "id": "d2c50227-de00-43aa-b12a-ac1fc14e466e"
      },
      "outputs": [],
      "source": [
        "#confusion matrix\n",
        "make_confusion_matrix(ada_tuned_model, X_val, y_val)"
      ]
    },
    {
      "cell_type": "markdown",
      "id": "3624ddc9-3c74-49ba-8eec-c2c0fddf2d7a",
      "metadata": {
        "id": "3624ddc9-3c74-49ba-8eec-c2c0fddf2d7a"
      },
      "source": [
        "Tuning Light GBM with Down-Sampled data\n",
        "Finding best parameter for high recall using Random Search with cross validation"
      ]
    },
    {
      "cell_type": "code",
      "execution_count": null,
      "id": "0705ac87-13c4-4601-99d4-b28bfb43e452",
      "metadata": {
        "id": "0705ac87-13c4-4601-99d4-b28bfb43e452"
      },
      "outputs": [],
      "source": [
        "%%time\n",
        "\n",
        "# defining model\n",
        "model = lgb.LGBMClassifier(random_state=seed)\n",
        "\n",
        "# Hyper parameters\n",
        "min_gain_to_split = [0.01, 0.1, 0.2, 0.3]\n",
        "min_data_in_leaf = [10, 20, 30, 40, 50]\n",
        "feature_fraction = [0.8, 0.9, 1.0]\n",
        "max_depth = [5, 8, 15, 25, 30]\n",
        "extra_trees = [True, False]\n",
        "learning_rate = [0.01,0.1,0.2,0.05]\n",
        "\n",
        "# Parameter grid to pass in RandomizedSearchCV\n",
        "param_grid={'min_gain_to_split': min_gain_to_split,\n",
        "               'min_data_in_leaf': min_data_in_leaf,\n",
        "               'feature_fraction': feature_fraction,\n",
        "               'max_depth': max_depth,\n",
        "               'extra_trees': extra_trees,\n",
        "               'learning_rate': learning_rate,\n",
        "               'boosting_type': ['gbdt'],\n",
        "               'objective': ['binary'],\n",
        "               'is_unbalance': [True],\n",
        "               'metric': ['binary_logloss'],} \n",
        "\n",
        "# Type of scoring used to compare parameter combinations\n",
        "scorer = metrics.make_scorer(metrics.recall_score)\n",
        "\n",
        "#Calling RandomizedSearchCV\n",
        "lgbm_tuned = RandomizedSearchCV(estimator=model, param_distributions=param_grid, n_iter=50, scoring=scorer, cv=10, random_state=seed, n_jobs = -1)\n",
        "\n",
        "#Fitting parameters in RandomizedSearchCV\n",
        "lgbm_tuned.fit(X_train_un,y_train_un)\n",
        "\n",
        "print(\"Best parameters are {} with CV score={}:\" .format(lgbm_tuned.best_params_,lgbm_tuned.best_score_))"
      ]
    },
    {
      "cell_type": "code",
      "execution_count": null,
      "id": "ac41f6f7-dddd-4eea-a9a1-af203384a131",
      "metadata": {
        "id": "ac41f6f7-dddd-4eea-a9a1-af203384a131"
      },
      "outputs": [],
      "source": [
        "# building model with best parameters\n",
        "lgbm_tuned_model = lgb.LGBMClassifier(\n",
        "               min_gain_to_split = 0.01,\n",
        "               min_data_in_leaf = 50,\n",
        "               feature_fraction = 0.8,\n",
        "               max_depth = 8,\n",
        "               extra_trees = False,\n",
        "               learning_rate = 0.2,\n",
        "               objective = 'binary',\n",
        "               metric = 'binary_logloss',\n",
        "               is_unbalance = True,\n",
        "               boosting_type = 'gbdt',\n",
        "               random_state = seed\n",
        ")\n",
        "# Fit the model on training data\n",
        "lgbm_tuned_model.fit(X_train_un, y_train_un)"
      ]
    },
    {
      "cell_type": "code",
      "execution_count": null,
      "id": "a4497294-034e-487a-b8e5-701dc4f98094",
      "metadata": {
        "id": "a4497294-034e-487a-b8e5-701dc4f98094"
      },
      "outputs": [],
      "source": [
        "#confusion matrix\n",
        "make_confusion_matrix(lgbm_tuned_model, X_val, y_val)"
      ]
    },
    {
      "cell_type": "markdown",
      "id": "1bfeba01-d920-45a4-ba9b-f3e7803bc56b",
      "metadata": {
        "id": "1bfeba01-d920-45a4-ba9b-f3e7803bc56b"
      },
      "source": [
        "Tuning GBM with Down Sampled data\n",
        "Finding best parameter for high recall using Random Search with cross validation"
      ]
    },
    {
      "cell_type": "code",
      "execution_count": null,
      "id": "0826ffb9-3020-44aa-b573-bdb4a5d6de81",
      "metadata": {
        "id": "0826ffb9-3020-44aa-b573-bdb4a5d6de81"
      },
      "outputs": [],
      "source": [
        "%%time\n",
        "\n",
        "# defining model\n",
        "model = GradientBoostingClassifier(random_state=seed)\n",
        "\n",
        "# Number of trees in random forest\n",
        "n_estimators = [int(x) for x in np.linspace(start = 50, stop = 2000, num = 10)]\n",
        "max_features = ['auto', 'sqrt']\n",
        "max_depth = [5, 8, 15, 25, 30]\n",
        "min_samples_split = [2, 5, 10, 15, 100]\n",
        "min_samples_leaf = [1, 2, 5, 10, 15] \n",
        "\n",
        "\n",
        "# Parameter grid to pass in RandomizedSearchCV\n",
        "param_grid={'n_estimators': n_estimators,\n",
        "               'max_features': max_features,\n",
        "               'max_depth': max_depth,\n",
        "               'min_samples_split': min_samples_split,\n",
        "               'min_samples_leaf': min_samples_leaf} \n",
        "\n",
        "# Type of scoring used to compare parameter combinations\n",
        "scorer = metrics.make_scorer(metrics.recall_score)\n",
        "\n",
        "#Calling RandomizedSearchCV\n",
        "gbm_tuned = RandomizedSearchCV(estimator=model, param_distributions=param_grid, n_iter=50, scoring=scorer, cv=10, random_state=seed, n_jobs = -1)\n",
        "\n",
        "#Fitting parameters in RandomizedSearchCV\n",
        "gbm_tuned.fit(X_train_un,y_train_un)\n",
        "\n",
        "print(\"Best parameters are {} with CV score={}:\" .format(gbm_tuned.best_params_,gbm_tuned.best_score_))"
      ]
    },
    {
      "cell_type": "code",
      "execution_count": null,
      "id": "1133ac9b-ba22-49d9-b8cd-87a4bbd85d7e",
      "metadata": {
        "id": "1133ac9b-ba22-49d9-b8cd-87a4bbd85d7e"
      },
      "outputs": [],
      "source": [
        "# building model with best parameters\n",
        "gbm_tuned_model = GradientBoostingClassifier(\n",
        "    n_estimators=700,\n",
        "    max_features=\"auto\",\n",
        "    max_depth=25,\n",
        "    min_samples_split=2,\n",
        "    min_samples_leaf=15,\n",
        "    random_state=seed,\n",
        ")\n",
        "# Fit the model on training data\n",
        "gbm_tuned_model.fit(X_train_un, y_train_un)"
      ]
    },
    {
      "cell_type": "code",
      "execution_count": null,
      "id": "fb210ff7-eb67-4f67-b93e-495f6c079d64",
      "metadata": {
        "id": "fb210ff7-eb67-4f67-b93e-495f6c079d64"
      },
      "outputs": [],
      "source": [
        "gbm_tuned_model_score = get_metrics_score(\n",
        "    gbm_tuned_model, X_train, X_val, y_train, y_val\n",
        ")\n",
        "\n",
        "\n",
        "kfold = StratifiedKFold(n_splits=10, shuffle=True, random_state=1)\n",
        "\n",
        "scoring = \"recall\"\n",
        "gbm_down_cv = cross_val_score(\n",
        "    estimator=gbm_tuned_model, X=X_train_un, y=y_train_un, scoring=scoring, cv=kfold\n",
        ")\n",
        "\n",
        "\n",
        "add_score_model(\n",
        "    \"GBM Tuned with Down Sampling\", gbm_tuned_model_score, gbm_down_cv.mean()\n",
        ")"
      ]
    },
    {
      "cell_type": "code",
      "execution_count": null,
      "id": "711d5ef1-5c56-4d51-834a-92c328d07f1a",
      "metadata": {
        "id": "711d5ef1-5c56-4d51-834a-92c328d07f1a"
      },
      "outputs": [],
      "source": [
        "#Confusion matrix\n",
        "make_confusion_matrix(gbm_tuned_model, X_val, y_val)"
      ]
    },
    {
      "cell_type": "code",
      "execution_count": null,
      "id": "13c29dc3-863d-4597-9709-c630836fdea0",
      "metadata": {
        "id": "13c29dc3-863d-4597-9709-c630836fdea0"
      },
      "outputs": [],
      "source": [
        "#Compaing Models\n",
        "comparison_frame = pd.DataFrame(\n",
        "    {\n",
        "        \"Model\": model_names,\n",
        "        \"Cross_Val_Score_Train\": cross_val_train,\n",
        "        \"Train_Accuracy\": acc_train,\n",
        "        \"Test_Accuracy\": acc_test,\n",
        "        \"Train_Recall\": recall_train,\n",
        "        \"Test_Recall\": recall_test,\n",
        "        \"Train_Precision\": precision_train,\n",
        "        \"Test_Precision\": precision_test,\n",
        "        \"Train_F1\": f1_train,\n",
        "        \"Test_F1\": f1_test,\n",
        "        \"Train_ROC_AUC\": roc_auc_train,\n",
        "        \"Test_ROC_AUC\": roc_auc_test,\n",
        "    }\n",
        ")\n",
        "\n",
        "\n",
        "for col in comparison_frame.select_dtypes(include=\"float64\").columns.tolist():\n",
        "    comparison_frame[col] = round(comparison_frame[col] * 100, 0).astype(int)\n",
        "\n",
        "\n",
        "comparison_frame.tail(4).sort_values(\n",
        "    by=[\"Cross_Val_Score_Train\", \"Test_Recall\"], ascending=False\n",
        ")"
      ]
    },
    {
      "cell_type": "markdown",
      "id": "be72b34e-6cf4-417c-81df-35a5d1d48a9c",
      "metadata": {
        "id": "be72b34e-6cf4-417c-81df-35a5d1d48a9c"
      },
      "source": [
        "Final Model Selection\n",
        "\n",
        "The XGBoost model with hyper parameter tuning and trained with undersampled dataset, has best recall on validation set of ~99%, but accuracy is lower than the human level accuracy (i,e, classifying everyone as non-attriting customers). Thus, we are not selecting this model as the final model\n",
        " \n",
        "The validation recall of ~97% is provided by the GBM with hyper parameter tuning trained with undersampled dataset, has validation accuracy of ~94%, and precision of ~74%, Validation AUC ~99%, Cross Validation Mean of 96%. Also, the model is neither suffering from bias, nor variance. We are selecting GBM Tuned with Down Sampling model as our final model"
      ]
    },
    {
      "cell_type": "markdown",
      "id": "d83cfac2-8ae6-40e6-9437-952ed3907d93",
      "metadata": {
        "id": "d83cfac2-8ae6-40e6-9437-952ed3907d93"
      },
      "source": [
        "Check Test Data on GBM Tuned and Trained with Downsampled Data\n",
        "Feature Importance"
      ]
    },
    {
      "cell_type": "code",
      "execution_count": null,
      "id": "1e3c2932-d359-4ec7-996e-d22a0840e75a",
      "metadata": {
        "id": "1e3c2932-d359-4ec7-996e-d22a0840e75a"
      },
      "outputs": [],
      "source": [
        "feature_names = X_train.columns\n",
        "importances = gbm_tuned_model.feature_importances_\n",
        "indices = np.argsort(importances)\n",
        "\n",
        "plt.figure(figsize=(12, 12))\n",
        "plt.title(\"Feature Importances\")\n",
        "plt.barh(range(len(indices)), importances[indices], color=\"violet\", align=\"center\")\n",
        "plt.yticks(range(len(indices)), [feature_names[i] for i in indices])\n",
        "plt.xlabel(\"Relative Importance\")\n",
        "plt.show()"
      ]
    },
    {
      "cell_type": "markdown",
      "id": "629176b9-1686-41e8-90aa-51d8c77e3f57",
      "metadata": {
        "id": "629176b9-1686-41e8-90aa-51d8c77e3f57"
      },
      "source": [
        "Test scores\n",
        "Let's check the performance of the model on Test (unseen) dataset."
      ]
    },
    {
      "cell_type": "code",
      "execution_count": null,
      "id": "c029cbfa-c073-46ad-914c-63aa046f5708",
      "metadata": {
        "id": "c029cbfa-c073-46ad-914c-63aa046f5708"
      },
      "outputs": [],
      "source": [
        "gbm_tuned_model_test_score = get_metrics_score(\n",
        "    gbm_tuned_model, X_train, X_test, y_train, y_test\n",
        ")\n",
        "\n",
        "final_model_names = [\"gbm Tuned Down-sampled Trained\"]\n",
        "final_acc_train = [gbm_tuned_model_test_score[0]]\n",
        "final_acc_test = [gbm_tuned_model_test_score[1]]\n",
        "final_recall_train = [gbm_tuned_model_test_score[2]]\n",
        "final_recall_test = [gbm_tuned_model_test_score[3]]\n",
        "final_precision_train = [gbm_tuned_model_test_score[4]]\n",
        "final_precision_test = [gbm_tuned_model_test_score[5]]\n",
        "final_f1_train = [gbm_tuned_model_test_score[6]]\n",
        "final_f1_test = [gbm_tuned_model_test_score[7]]\n",
        "final_roc_auc_train = [gbm_tuned_model_test_score[8]]\n",
        "final_roc_auc_test = [gbm_tuned_model_test_score[9]]\n",
        "\n",
        "final_result_score = pd.DataFrame(\n",
        "    {\n",
        "        \"Model\": final_model_names,\n",
        "        \"Train_Accuracy\": final_acc_train,\n",
        "        \"Test_Accuracy\": final_acc_test,\n",
        "        \"Train_Recall\": final_recall_train,\n",
        "        \"Test_Recall\": final_recall_test,\n",
        "        \"Train_Precision\": final_precision_train,\n",
        "        \"Test_Precision\": final_precision_test,\n",
        "        \"Train_F1\": final_f1_train,\n",
        "        \"Test_F1\": final_f1_test,\n",
        "        \"Train_ROC_AUC\": final_roc_auc_train,\n",
        "        \"Test_ROC_AUC\": final_roc_auc_test,\n",
        "    }\n",
        ")\n",
        "\n",
        "\n",
        "for col in final_result_score.select_dtypes(include=\"float64\").columns.tolist():\n",
        "    final_result_score[col] = final_result_score[col] * 100\n",
        "\n",
        "\n",
        "final_result_score"
      ]
    },
    {
      "cell_type": "markdown",
      "id": "10d754ef-db8f-4f0d-9452-1e543f9e184e",
      "metadata": {
        "id": "10d754ef-db8f-4f0d-9452-1e543f9e184e"
      },
      "source": [
        "The performance of the model with the test data is almost similar to the performance on the validation dataset."
      ]
    },
    {
      "cell_type": "code",
      "execution_count": null,
      "id": "18c3dbb8-b793-4ea9-951d-bc3de97d6a2f",
      "metadata": {
        "id": "18c3dbb8-b793-4ea9-951d-bc3de97d6a2f"
      },
      "outputs": [],
      "source": [
        "#confusion matrix\n",
        "make_confusion_matrix(gbm_tuned_model, X_test, y_test)"
      ]
    },
    {
      "cell_type": "markdown",
      "id": "22de5ee6-8f76-46dc-b24d-e91e2dd12df4",
      "metadata": {
        "id": "22de5ee6-8f76-46dc-b24d-e91e2dd12df4"
      },
      "source": [
        "Cumulative Lift/Gain Chart\n",
        "Cumulative lift/gain chart is important to understand how a model would perform in production system with unseen data"
      ]
    },
    {
      "cell_type": "code",
      "execution_count": null,
      "id": "2d6969e1-0f4c-498a-abe1-51602aedd149",
      "metadata": {
        "id": "2d6969e1-0f4c-498a-abe1-51602aedd149"
      },
      "outputs": [],
      "source": [
        "!pip install scikit-plot\n",
        "import scikitplot as skplt\n",
        "\n",
        "y_pred_prob = gbm_tuned_model.predict_proba(X_test)\n",
        "\n",
        "skplt.metrics.plot_cumulative_gain(y_test, y_pred_prob, figsize=(15, 5))\n",
        "plt.show()"
      ]
    },
    {
      "cell_type": "markdown",
      "id": "4819ff71-bcca-47e7-84b8-62503420fef3",
      "metadata": {
        "id": "4819ff71-bcca-47e7-84b8-62503420fef3"
      },
      "source": [
        "The above chart shows, if we sort the customers in the descending order of the probability of attrition (class 1), and target the top ~30% of the population, we are most likely to find 100% of the people who would actually attrite."
      ]
    },
    {
      "cell_type": "markdown",
      "id": "fb45849b-442d-46ae-a2ef-b129a07562e5",
      "metadata": {
        "id": "fb45849b-442d-46ae-a2ef-b129a07562e5"
      },
      "source": [
        "ROC-AUC Curve\n",
        "ROC AUC characteristic is important to understand how good the model is.\n",
        "\n",
        "If the model is really good in identifying the classes, the Area Under Curve is really high, close to 1.\n",
        "\n",
        "If the model can not distinguish the classes well, the Area Under Curve is really low, close to 0.5."
      ]
    },
    {
      "cell_type": "code",
      "execution_count": null,
      "id": "2d39356e-49cd-4ceb-9d39-ad5210b8cf81",
      "metadata": {
        "id": "2d39356e-49cd-4ceb-9d39-ad5210b8cf81"
      },
      "outputs": [],
      "source": [
        "plot_roc_curve(gbm_tuned_model, X_test, y_test)\n",
        "plt.title(\"Receiver Operating Characteristic\")\n",
        "plt.legend(loc=\"lower right\")\n",
        "plt.plot([0, 1], [0, 1], \"b--\")\n",
        "plt.xlim([-0.05, 1])\n",
        "plt.ylim([0, 1.05])\n",
        "plt.ylabel(\"True Positive Rate\")\n",
        "plt.xlabel(\"False Positive Rate\")\n",
        "plt.show()"
      ]
    },
    {
      "cell_type": "markdown",
      "id": "bd2d53a8-9d53-4719-b3a3-032e52841ffd",
      "metadata": {
        "id": "bd2d53a8-9d53-4719-b3a3-032e52841ffd"
      },
      "source": [
        "Our model appears to be really good, since the AUC is almost 1."
      ]
    },
    {
      "cell_type": "markdown",
      "id": "58974f5d-6891-4305-876f-1b051dd32b0d",
      "metadata": {
        "id": "58974f5d-6891-4305-876f-1b051dd32b0d"
      },
      "source": [
        "Productionizing the model\n",
        "Now that we have finalized our model, we'll build a model pipeline to streamline all the steps of model building. We'll start will the initial dataset and proceed with the pipeline building steps.\n",
        "\n",
        "Machine Learning (ML) pipeline, theoretically, represents different steps including data transformation and prediction through which data passes. The outcome of the pipeline is the trained model which can be used for making the predictions. Sklearn.pipeline is a Python implementation of ML pipeline. Instead of going through the model fitting and data transformation steps for the training and test datasets separately, we can use Sklearn.pipeline to automate these steps. Here is the diagram representing the pipeline for training our machine learning model based on supervised learning, and then using test data to predict the labels."
      ]
    },
    {
      "cell_type": "code",
      "execution_count": null,
      "id": "61fcae23-3aa0-48fd-83e6-35f03fe0ee2a",
      "metadata": {
        "id": "61fcae23-3aa0-48fd-83e6-35f03fe0ee2a"
      },
      "outputs": [],
      "source": [
        "# The static variables\n",
        "# Random state and loss\n",
        "seed = 1\n",
        "loss_func = \"logloss\"\n",
        "\n",
        "# Test and Validation sizes\n",
        "test_size = 0.2\n",
        "val_size = 0.25\n",
        "\n",
        "# Dependent Varibale Value map\n",
        "target_mapper = {\"Attrited Customer\": 1, \"Existing Customer\": 0}\n",
        "\n",
        "df_pipe = churner.copy()\n",
        "cat_columns = df_pipe.select_dtypes(include=\"object\").columns.tolist()\n",
        "df_pipe[cat_columns] = df_pipe[cat_columns].astype(\"category\")"
      ]
    },
    {
      "cell_type": "markdown",
      "id": "daf1703d-6edf-41c1-9fb9-a1e6e9a170e0",
      "metadata": {
        "id": "daf1703d-6edf-41c1-9fb9-a1e6e9a170e0"
      },
      "source": [
        "Dependent and independent variables"
      ]
    },
    {
      "cell_type": "code",
      "execution_count": null,
      "id": "7ee24ed8-073a-462f-9033-e570b5047c7d",
      "metadata": {
        "id": "7ee24ed8-073a-462f-9033-e570b5047c7d"
      },
      "outputs": [],
      "source": [
        "X = df_pipe.drop(columns=[\"Attrition_Flag\"])\n",
        "y = df_pipe[\"Attrition_Flag\"].map(target_mapper)"
      ]
    },
    {
      "cell_type": "code",
      "execution_count": null,
      "id": "da5e2e5b-ce0f-40c7-a553-ae97b0c1892c",
      "metadata": {
        "id": "da5e2e5b-ce0f-40c7-a553-ae97b0c1892c"
      },
      "outputs": [],
      "source": [
        "# Splitting data into training, validation and test set:\n",
        "# first we split data into 2 parts, say temporary and test\n",
        "\n",
        "X_temp, X_test, y_temp, y_test = train_test_split(\n",
        "    X, y, test_size=test_size, random_state=seed, stratify=y\n",
        ")\n",
        "\n",
        "# then we split the temporary set into train and validation\n",
        "\n",
        "X_train, X_val, y_train, y_val = train_test_split(\n",
        "    X_temp, y_temp, test_size=val_size, random_state=seed, stratify=y_temp\n",
        ")\n",
        "print(X_train.shape, X_val.shape, X_test.shape)"
      ]
    },
    {
      "cell_type": "code",
      "execution_count": null,
      "id": "f6f5a914-ac59-4c10-9d10-36cf18c1c620",
      "metadata": {
        "id": "f6f5a914-ac59-4c10-9d10-36cf18c1c620"
      },
      "outputs": [],
      "source": [
        "print(y_train.value_counts(normalize=True))\n",
        "print(y_val.value_counts(normalize=True))\n",
        "print(y_test.value_counts(normalize=True))"
      ]
    },
    {
      "cell_type": "markdown",
      "id": "aff45fed-15e0-45be-91d5-1f15b56e4008",
      "metadata": {
        "id": "aff45fed-15e0-45be-91d5-1f15b56e4008"
      },
      "source": [
        "Undersampling the training data since that generalized this model really well"
      ]
    },
    {
      "cell_type": "code",
      "execution_count": null,
      "id": "549bd2cf-db68-4379-a9b8-8927a85b5d58",
      "metadata": {
        "id": "549bd2cf-db68-4379-a9b8-8927a85b5d58"
      },
      "outputs": [],
      "source": [
        "under_sample = RandomUnderSampler(random_state=seed)\n",
        "X_train_un, y_train_un = rus.fit_resample(X_train, y_train)"
      ]
    },
    {
      "cell_type": "code",
      "execution_count": null,
      "id": "cc141139-1704-4a5c-94c6-cf3ceda61c2c",
      "metadata": {
        "id": "cc141139-1704-4a5c-94c6-cf3ceda61c2c"
      },
      "outputs": [],
      "source": [
        "# For dropping columns\n",
        "columns_to_drop = [\n",
        "    \"clientnum\",\n",
        "    \"credit_limit\",\n",
        "    \"dependent_count\",\n",
        "    \"months_on_book\",\n",
        "    \"avg_open_to_buy\",\n",
        "    \"customer_age\",\n",
        "]\n",
        "\n",
        "# For masking a particular value in a feature\n",
        "column_to_mask_value = \"income_category\"\n",
        "value_to_mask = \"abc\"\n",
        "masked_value = \"Unknown\"\n",
        "\n",
        "# One-hot encoding columns\n",
        "columns_to_encode = [\n",
        "    \"gender\",\n",
        "    \"education_level\",\n",
        "    \"marital_status\",\n",
        "    \"income_category\",\n",
        "    \"card_category\",\n",
        "]\n",
        "\n",
        "# Numerical Columns\n",
        "num_columns = [\n",
        "    \"total_relationship_count\",\n",
        "    \"months_inactive_12_mon\",\n",
        "    \"contacts_count_12_mon\",\n",
        "    \"total_revolving_bal\",\n",
        "    \"total_amt_chng_q4_q1\",\n",
        "    \"total_trans_amt\",\n",
        "    \"total_trans_ct\",\n",
        "    \"total_ct_chng_q4_q1\",\n",
        "    \"avg_utilization_ratio\",\n",
        "]\n",
        "\n",
        "# Columns for null imputation with Unknown\n",
        "columns_to_null_imp_unknown = [\"education_level\", \"marital_status\"]"
      ]
    },
    {
      "cell_type": "markdown",
      "id": "f23d97fb-8dec-4e0c-ac40-bcff5bf7e47d",
      "metadata": {
        "id": "f23d97fb-8dec-4e0c-ac40-bcff5bf7e47d"
      },
      "source": [
        "Build the pipeline"
      ]
    },
    {
      "cell_type": "code",
      "execution_count": null,
      "id": "290814ee-868c-4ff3-a089-8436473903da",
      "metadata": {
        "id": "290814ee-868c-4ff3-a089-8436473903da"
      },
      "outputs": [],
      "source": [
        "# To Standardize feature names\n",
        "feature_name_standardizer = FeatureNamesStandardizer()\n",
        "\n",
        "# To Drop unnecessary columns\n",
        "column_dropper = ColumnDropper(features=columns_to_drop)\n",
        "\n",
        "# To Mask incorrect/meaningless value of a feature\n",
        "value_masker = CustomValueMasker(\n",
        "    feature=column_to_mask_value, value_to_mask=value_to_mask, masked_value=masked_value\n",
        ")\n",
        "\n",
        "# Missing value imputation\n",
        "imputer = FillUnknown()\n",
        "\n",
        "# To encode the categorical data\n",
        "one_hot = OneHotEncoder(handle_unknown=\"ignore\")\n",
        "\n",
        "# To scale numerical columns\n",
        "scaler = RobustScaler()\n",
        "\n",
        "\n",
        "# creating a transformer for feature name standardization and dropping columns\n",
        "cleanser = Pipeline(\n",
        "    steps=[\n",
        "        (\"feature_name_standardizer\", feature_name_standardizer),\n",
        "        (\"column_dropper\", column_dropper),\n",
        "        (\"value_mask\", value_masker),\n",
        "        (\"imputation\", imputer),\n",
        "    ]\n",
        ")\n",
        "\n",
        "# creating a transformer for data encoding\n",
        "\n",
        "encode_transformer = Pipeline(steps=[(\"onehot\", one_hot)])\n",
        "num_scaler = Pipeline(steps=[(\"scale\", scaler)])\n",
        "\n",
        "preprocessor = ColumnTransformer(\n",
        "    transformers=[\n",
        "        (\"encoding\", encode_transformer, columns_to_encode),\n",
        "        (\"scaling\", num_scaler, num_columns),\n",
        "    ],\n",
        "    remainder=\"passthrough\",\n",
        ")\n",
        "\n",
        "# Model\n",
        "\n",
        "gbm_tuned_model = GradientBoostingClassifier(\n",
        "    n_estimators=700,\n",
        "    max_features=\"auto\",\n",
        "    max_depth=25,\n",
        "    min_samples_split=2,\n",
        "    min_samples_leaf=15,\n",
        "    random_state=seed,\n",
        ")\n",
        "\n",
        "# Creating new pipeline with best parameters\n",
        "model_pipe = Pipeline(\n",
        "    steps=[\n",
        "        (\"cleanse\", cleanser),\n",
        "        (\"preprocess\", preprocessor),\n",
        "        (\"model\", gbm_tuned_model),\n",
        "    ]\n",
        ")\n",
        "# Fit the model on training data\n",
        "model_pipe.fit(X_train_un, y_train_un)"
      ]
    },
    {
      "cell_type": "markdown",
      "id": "e5ca69ad-2dd8-45d0-a5c2-8ef316406748",
      "metadata": {
        "id": "e5ca69ad-2dd8-45d0-a5c2-8ef316406748"
      },
      "source": [
        "Score the pipeline using test data\n",
        "Accuracy"
      ]
    },
    {
      "cell_type": "code",
      "execution_count": null,
      "id": "fccf80d5-b3d8-4402-8454-17e99eab96bb",
      "metadata": {
        "id": "fccf80d5-b3d8-4402-8454-17e99eab96bb"
      },
      "outputs": [],
      "source": [
        "print(\n",
        "    \"Accuracy on Test is: {}%\".format(round(model_pipe.score(X_test, y_test) * 100, 0))\n",
        ")"
      ]
    },
    {
      "cell_type": "code",
      "execution_count": null,
      "id": "2d0879a8-56ec-4fe7-8e38-9595d7f60ed0",
      "metadata": {
        "id": "2d0879a8-56ec-4fe7-8e38-9595d7f60ed0"
      },
      "outputs": [],
      "source": [
        "#Recall\n",
        "pred_train_p = model_pipe.predict_proba(X_train_un)[:, 1] > 0.5\n",
        "pred_test_p = model_pipe.predict_proba(X_test)[:, 1] > 0.5\n",
        "\n",
        "pred_train_p = np.round(pred_train_p)\n",
        "pred_test_p = np.round(pred_test_p)\n",
        "\n",
        "train_acc_p = accuracy_score(pred_train_p, y_train_un)\n",
        "test_acc_p = accuracy_score(pred_test_p, y_test)\n",
        "\n",
        "train_recall_p = recall_score(y_train_un, pred_train_p)\n",
        "test_recall_p = recall_score(y_test, pred_test_p)"
      ]
    },
    {
      "cell_type": "code",
      "execution_count": null,
      "id": "2f1dd463-9441-417f-837e-502887893a65",
      "metadata": {
        "id": "2f1dd463-9441-417f-837e-502887893a65"
      },
      "outputs": [],
      "source": [
        "print(\"Recall on Test is: {}%\".format(round(test_recall_p * 100, 0)))"
      ]
    },
    {
      "cell_type": "code",
      "execution_count": null,
      "id": "f8777bf8-064f-4c09-a697-802644e944fb",
      "metadata": {
        "id": "f8777bf8-064f-4c09-a697-802644e944fb"
      },
      "outputs": [],
      "source": [
        "mask = np.zeros_like(data_clean.corr(), dtype=np.bool)\n",
        "mask[np.triu_indices_from(mask)] = True\n",
        "\n",
        "\n",
        "sns.set(rc={\"figure.figsize\": (15, 15)})\n",
        "\n",
        "sns.heatmap(\n",
        "    data_clean.corr(),\n",
        "    cmap=sns.diverging_palette(20, 220, n=200),\n",
        "    annot=True,\n",
        "    mask=mask,\n",
        "    center=0,\n",
        ")\n",
        "plt.show()"
      ]
    },
    {
      "cell_type": "markdown",
      "id": "265ee4c7-ca5a-414b-b486-310cc23fcd81",
      "metadata": {
        "id": "265ee4c7-ca5a-414b-b486-310cc23fcd81"
      },
      "source": [
        "The most important features to understand customer credit card churn, are\n",
        "Total Transaction Count\n",
        "Total Transaction Amount\n",
        "Total Revolving Balance\n",
        "Total Amount Change Q4 to Q1\n",
        "Total Count Change Q4 to Q1\n",
        "Total Relationship Count\n",
        " \n",
        "All of these features are negatively correlated with the Attrition Flag, meaning, the lower the values of these features, the higher the chances of a customer to attrite\n",
        " \n",
        "\n",
        "Bank should connect with the customer more often to increase the connect, and provide the customer with various offers and schemes to increase relationships of the customer with the bank\n",
        " \n",
        "\n",
        "Bank should offer cashback schemes on credit cards, which might encourage the customers on using the credit card more often\n",
        " \n",
        "\n",
        "Bank should also offer credit limit increase for the customers who are regularly using the credit card. This should increase the credit card spends/transaction amounts.\n",
        " \n",
        "\n",
        "0% interest EMI on credit card is also another offer that can be provided to customers to encourage the customers buy products of higher cost with credit card, and convert the expenditure to EMI, so that total transaction amount as well as transaction counts would increase. The balance would also revolve nicely.\n",
        " \n",
        "\n",
        "Along with the available types of cards, bank can introduce credit cards specific to online shopping (with % cashback offers) or online food ordering. This way the card will be used more frequently.\n",
        " \n",
        "\n",
        "With our model, we can predict which customers are likely to attrite, and according to the predicted probability, at least top 20-30% customers can be reached out to discuss credit card offers, credit limit increase etc, to try retain those customers."
      ]
    }
  ],
  "metadata": {
    "kernelspec": {
      "display_name": "Python 3",
      "language": "python",
      "name": "python3"
    },
    "language_info": {
      "codemirror_mode": {
        "name": "ipython",
        "version": 3
      },
      "file_extension": ".py",
      "mimetype": "text/x-python",
      "name": "python",
      "nbconvert_exporter": "python",
      "pygments_lexer": "ipython3",
      "version": "3.8.8"
    },
    "colab": {
      "provenance": [],
      "collapsed_sections": []
    }
  },
  "nbformat": 4,
  "nbformat_minor": 5
}